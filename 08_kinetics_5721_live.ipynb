{
  "nbformat": 4,
  "nbformat_minor": 0,
  "metadata": {
    "kernelspec": {
      "display_name": "Python 3",
      "language": "python",
      "name": "python3"
    },
    "language_info": {
      "codemirror_mode": {
        "name": "ipython",
        "version": 3
      },
      "file_extension": ".py",
      "mimetype": "text/x-python",
      "name": "python",
      "nbconvert_exporter": "python",
      "pygments_lexer": "ipython3",
      "version": "3.6.8"
    },
    "colab": {
      "name": "08-kinetics-5721-live.ipynb",
      "provenance": [],
      "include_colab_link": true
    }
  },
  "cells": [
    {
      "cell_type": "markdown",
      "metadata": {
        "id": "view-in-github",
        "colab_type": "text"
      },
      "source": [
        "<a href=\"https://colab.research.google.com/github/mpfoster/Biochem5721/blob/master/08_kinetics_5721_live.ipynb\" target=\"_parent\"><img src=\"https://colab.research.google.com/assets/colab-badge.svg\" alt=\"Open In Colab\"/></a>"
      ]
    },
    {
      "cell_type": "markdown",
      "metadata": {
        "id": "r7T8oKub4duK"
      },
      "source": [
        "# Chemical Kinetics -- Tinoco Ch. 9\n",
        "Biochem 5721; AU2020\n",
        "\n"
      ]
    },
    {
      "cell_type": "markdown",
      "metadata": {
        "id": "Ki8XbG7L4duL"
      },
      "source": [
        "---\n",
        "Monday, 2020-10-26\n",
        "Topics:\n",
        "* Intro to chemical kinetics\n",
        "* Rate laws, reaction order, rate constants\n",
        "* Assignment 8, due Monday 11/2: Ch9: 1, 2, 3, 4, 5\n",
        "\n",
        "Wednesday:\n",
        "* 2nd- and other order reactions\n",
        "* Determination of reaction order\n",
        "* Parallel and series reactions\n",
        "* Quiz"
      ]
    },
    {
      "cell_type": "markdown",
      "metadata": {
        "id": "CVM8ri654duN"
      },
      "source": [
        "## Kinetics and biology\n",
        "\n",
        "Consider that decomposition of glucose to elemental oxygen, carbon and hydrogen is thermodynamically favored by almost 1000 kJ/mol. Likewise, amyloid protein fibers are thermodynamically favored over the \"natively\" folded functional protein fold. Fortunately, table sugar does not pontaneously erupt into flame, and most of our proteins remain in their functional form, thank you very much! Of course, the reason we don't spontaneously erupt into flame flame, disintegrating to the lowest energy form of our constituent parts, is that the path to those ends features a very high *energy barrier* that makes the probability of those outcomes mercifully rare. Indeed, despite the importance of thermodynamic principles in uderderstanding functions like metabolism and sequence specific DNA binding, the outcomes of a great many processes in biology (maybe *most*) are ruled by kinetics, not thermodynamics.\n",
        "\n",
        "*Kinetics* refers to the rate of change of something; *chemical kinetics* refers to the rate of chemical transformations. The primary value of performing and interpreting kinetics data is that rates, and the depedence of rate on various parameters, can be informative about *mechanism*. "
      ]
    },
    {
      "cell_type": "markdown",
      "metadata": {
        "id": "NomgSzCY4duP"
      },
      "source": [
        "## Reaction Order\n",
        "A key to determining mechanism is to establish the *order* of a reaction. *Reaction order* refers to the dependence of the rate of the reaction concentration of molecular species. Reactions can be *Zero-*, *First-*, or *Second-order*. \n",
        "\n",
        "<img align=\"right\" width=\"200\" src=\"https://raw.githubusercontent.com/mpfoster/Biochem5721/master/images/mattress-car.jpeg\"/>A trivial example of a *zero-order* reaction, might be the rate of consuption of fuel by a gasoline-powered vehicle. At highway speeds, a car may get ~25 miles per gallon when traveling at 65 mph. The rate of fuel consuption may fluctuate depending on whether the vehicle is going up a hill, enjoying a tailwind, using air conditioning, or carrying a queen size mattress on the roof. However, the rate of fuel consuption *mph÷mpg* will be *unaffected* by the *amount* of fuel in the tank - it is *zero-order* with respect to that variable. Thus, if we measure the rate of change of the amount of fuel in the gas tank, $dc/dt$, we find:\n",
        "\n",
        "$$\\frac{dc}{dt} = -k$$\n",
        "\n",
        "We can get an expression for the amount of gas at any time $c(t)$ by rearranging and integrating:\n",
        "\n",
        "$$\\int dc = -k \\int dt + C$$\n",
        "\n",
        "which, if we start at $t=0$, yields the simple result:\n",
        "\n",
        "$$c(t) = -kt + c_0$$\n",
        "\n",
        "This is, of course, the equation for a straight line, with a slope $-k$ equal to the rate of gasoline consumption (mile/hour ÷ mile/gallon = gallon/hour), and $c_0$ the amount of gas at time $t=0$.\n",
        "\n",
        "We proceed, considering the methods and measurements of kinetics by considering, for example, the *shelf life* of medicines."
      ]
    },
    {
      "cell_type": "markdown",
      "metadata": {
        "id": "UUsVENBa4duR"
      },
      "source": [
        "## Example: Shelf Life of Penicillin\n",
        "\n",
        "<img src=\"https://upload.wikimedia.org/wikipedia/commons/9/99/Penicillin_core.svg\" align=\"right\" width=\"150\" />The active shelf life of medicines is an important consideration in their preparation, distribution and storage. The concentration of active penicillin, a β-lactam antibiotic, can be readily determined by measuring the inhibition of bacterial growth on an Petri dish using a fixed dosage of the antibiotic. Consider the data available on Carmen ([penicillin-data.csv](https://osu.instructure.com/courses/87854/files/25615262?module_item_id=5141042)), or at [this link](https://raw.githubusercontent.com/mpfoster/Biochem5721/master/Data/penicillin-data.csv).\n",
        "\n",
        "Kinetics analysis requires measurement of the *time dependence* of some feature. In this case, the time dependence of its bacteriocidal activity. After measuring this activity in a sample of penicillin stored at room temperature over several weeks, an important step towards understanding the process is to visualize the data by plotting activity v. time. "
      ]
    },
    {
      "cell_type": "markdown",
      "metadata": {
        "id": "BnT6Id884duS"
      },
      "source": [
        "We can graph these data using a range of approaches, and here we use `Python` and the packages\n",
        "`Pandas` and `matplotlib`. At its most basic, a 2D plot consists of two axes and a set of data with coordinates on each axis. We could manually enter the data by creating two lists of comma-separated values, and then plot the values on the x and y axes of a graph:\n",
        "\n",
        "```\n",
        "list0 = 1,2,3,4,5\n",
        "list1 = 2,4,6,8,10\n",
        "x = list0; y = list1\n",
        "plt.plot(x,y)\n",
        "```"
      ]
    },
    {
      "cell_type": "code",
      "metadata": {
        "id": "ogQy53b74duT"
      },
      "source": [
        ""
      ],
      "execution_count": null,
      "outputs": []
    },
    {
      "cell_type": "markdown",
      "metadata": {
        "id": "u3MMjMvj4due"
      },
      "source": [
        "### Pandas \n",
        "However, it can be tedious to type in lists of values, and moreover, we commonly organize observations in tables with rows and columns, either as spreadsheets, or as *comma separated values, .csv*. Such is the case for this penicillin dataset. There are a number of ways one could read in a .csv file into *Python*, but the *Pandas* tool makes this super easy, and includes other utilities (e.g., for plotting and statistical analysis). So, we import the `pandas` package, using `pd` as a shortcut, and can then use `pandas` by prefacing them with `pd` (e.g., `pd.read_csv` is a *Pandas* command that will read data from a *csv* formatted file). "
      ]
    },
    {
      "cell_type": "code",
      "metadata": {
        "id": "tymvRC5y4due"
      },
      "source": [
        ""
      ],
      "execution_count": null,
      "outputs": []
    },
    {
      "cell_type": "markdown",
      "metadata": {
        "id": "6OsszZQ-4duk"
      },
      "source": [
        "A `pandas` dataframe has columns and rows, indexed by number or name. In this table, we've taken the column names from the first row of the *csv* file (the default action of `read_csv`, and hte rows are indexed by number."
      ]
    },
    {
      "cell_type": "markdown",
      "metadata": {
        "id": "THn_PVi14dum"
      },
      "source": [
        "### Object-Oriented Programming\n",
        "Another important concept in using Pandas (and many aspects of Python programming) is the concept of *objects*. When `pandas` reads in the data, it will create an object called a *data frame*; this is analogous to the way data are organized in the widely used stastics data analysis program *R*. *Objects* can contain data, variables, functions, and other attributes. Those features can be accessed by *calling* the object, specifying which aspect of the object to call.\n",
        "\n",
        "For the dataframe object `f` we have just created, contaning our data, we can access statistical description of the data using `f.describe()`, or plot its contents using `f.plot()`"
      ]
    },
    {
      "cell_type": "code",
      "metadata": {
        "id": "g8S0qZBW4dum"
      },
      "source": [
        "# pandas dataframe f object created above (f.describe)\n"
      ],
      "execution_count": null,
      "outputs": []
    },
    {
      "cell_type": "code",
      "metadata": {
        "id": "PghNQ1g94dut"
      },
      "source": [
        "# pandas dataframe f created above (f.plot)\n"
      ],
      "execution_count": null,
      "outputs": []
    },
    {
      "cell_type": "markdown",
      "metadata": {
        "id": "3fJ9-Ssk4dux"
      },
      "source": [
        "Note that the `f.plot()` function generates an xy plot of each column independently of the others. To plot one column versus another, we have to specify which column to use for each axis: 'Time_weeks' for *x*, and 'Penicillin_U' for *y* (we'll also have generate a *scatter* plot, instead of the default line plot):"
      ]
    },
    {
      "cell_type": "code",
      "metadata": {
        "id": "H4uG0U_W4duz"
      },
      "source": [
        "# plot the data\n"
      ],
      "execution_count": null,
      "outputs": []
    },
    {
      "cell_type": "markdown",
      "metadata": {
        "id": "FheyAKr84du3"
      },
      "source": [
        "A key step in determining reaction order is to ascertain the time-dependence of concentrations. We see that at early time, there is a steep descrease in activity; this change per units time decreases at later times. (How would this compare to the mpg example above?)\n",
        "\n",
        "If fact, this decay process *looks* exponential ($y=Ae^{-t/\\tau}$). A quick way to check this is to plot using a logarithmic $y$-axis. We import matplotlib and specify a logarithmic *y*-scale, `plt.yscale('log')`"
      ]
    },
    {
      "cell_type": "code",
      "metadata": {
        "id": "Vw3Ekd964du5"
      },
      "source": [
        "# data looks like it's decaying exponentially, y = A*exp(-t/tau). \n",
        "# A log plot should be linear (ln y = A*(-t/tau)\n"
      ],
      "execution_count": null,
      "outputs": []
    },
    {
      "cell_type": "markdown",
      "metadata": {
        "id": "viMJfRuH4du8"
      },
      "source": [
        "OK, so the log-linear plot looks pretty linear, consistent with an exponential decay process. "
      ]
    },
    {
      "cell_type": "markdown",
      "metadata": {
        "id": "-CympjqU4du9"
      },
      "source": [
        "## Rate Law\n",
        "For a first-order reaction, the *rate* depends on the concentration: \n",
        "\n",
        "$$\\frac{dc}{dt} = -kc$$\n",
        "\n",
        "So, the $rate$ $dc/dt$ of activity loss is proportional to the concentration $c$, with the proportionality constant $k$. With $c$ specified in concentration units ($M$), $k$ is in units of reciprocal time ($s^{-1}$) so that $dc/dt$ is $M s^{-1}$.\n",
        "\n",
        "For an *elementary reaction* $A \\xrightarrow{k} B$ (where $A$ is *active* penicillin, and $B$ is *degraded* penicillin) we can write a rate law for the *rate* $v$:\n",
        "\n",
        "$$v = -\\frac{d[A]}{dt} = \\frac{d[B]}{dt} = k[A]$$\n",
        "\n",
        "Separating the variables, \n",
        "\n",
        "$$\\frac{d[A]}{[A]} = -kdt$$\n",
        "\n",
        "We can integrate this to obtain an expression for the concentration of *A* at any time *t*\n",
        "\n",
        "$$\\int_{[A]_1}^{[A]_2}\\frac{d[A]}{[A]} = -k\\int_{t_1}^{t_2} dt$$\n",
        "\n",
        "to yield\n",
        "\n",
        "$$\\ln\\frac{[A]_2}{[A]_1} = -k(t_2-t_1)$$\n",
        "\n",
        "Taking the exponential of both sides,\n",
        "\n",
        "$$[A]_2 =[A]_1e^{-k(t_2-t_1)}$$\n",
        "\n",
        "or, if $t_0 = 0$, simply\n",
        "\n",
        "$$[A] = [A]_0e^{-kt}$$\n",
        "\n",
        "This says that the concentration decays exponentially with time $t$ and provides an *analytical expression* describing the decay. \n",
        "\n",
        "If the process is *first-order* the data should be well described by this equation. We can test this by non-linear fitting of the data with the built-in exponential decay *model* in [lmfit](https://lmfit.github.io/lmfit-py/index.html), `ExponentialModel`."
      ]
    },
    {
      "cell_type": "code",
      "metadata": {
        "id": "sfU4ldyK4du-"
      },
      "source": [
        "# see https://lmfit.github.io/lmfit-py/builtin_models.html#lmfit.models.ExponentialModel\n",
        "# if lmfit is not installed, execute this cell:\n",
        "!pip install lmfit"
      ],
      "execution_count": null,
      "outputs": []
    },
    {
      "cell_type": "code",
      "metadata": {
        "id": "_LBneDlsImQ8"
      },
      "source": [
        "# non-linear least-squares fitting"
      ],
      "execution_count": null,
      "outputs": []
    },
    {
      "cell_type": "markdown",
      "metadata": {
        "id": "bXcL4_ZJ4dvE"
      },
      "source": [
        "### Half-life\n",
        "Given an exponential decay process $y=A e^{-t/\\tau}$, the half-life is the time $t$ that $y = \\tfrac{1}{2}A$; i.e., $e^{-t/\\tau}=1/2 \\Rightarrow t = \\tau\\ln(2)$"
      ]
    },
    {
      "cell_type": "code",
      "metadata": {
        "id": "k6xhblrQ4dvE"
      },
      "source": [
        "# Create an object holding the parameter values from the result of the fit.\n",
        "# if we called the result 'result' then the next line will create an object \n",
        "# with those values.\n",
        "v = result.params.valuesdict()\n",
        "# half-life, t_1/2 = tau*ln(2)\n",
        "print('tau: %.3g weeks; half-life: %.3g weeks' % (v['decay'], v['decay']*.69))"
      ],
      "execution_count": null,
      "outputs": []
    },
    {
      "cell_type": "markdown",
      "metadata": {
        "id": "KlKQwyBZ4dvI"
      },
      "source": [
        "Thus, we see that the data are well described by an exponential decay, indicating that degradation of penicillin is a first-order process. \n",
        "\n",
        "We could then perform additional experiments to determine *mechanism* (e.g., vary temperature, pH; see text, pp. 313-6).\n",
        "\n",
        "**Example 9.1** See example of using he half-life of <sup>14</sup>C decay for radiocarbon dating."
      ]
    },
    {
      "cell_type": "markdown",
      "metadata": {
        "id": "a9LpCa014dvK"
      },
      "source": [
        "## Second-Order Reactions\n",
        "\n",
        "Second order reactions depend on the concentration of two reacting components. For a reaction $A + B \\xrightarrow{k} C$, the rate law is\n",
        "\n",
        "$$v = \\frac{d[A]}{dt} = \\frac{d[B]}{dt} = -\\frac{d[C]}{dt} = -k[A][B]$$\n",
        "\n",
        "If species [B] is the same as [A], or present at the same concentration and subject to the same reaction order, \n",
        "\n",
        "\n",
        "$$v = \\frac{d[A]}{dt} = \\frac{d[B]}{dt} = -\\frac{d[C]}{dt} = -k[A]^2$$"
      ]
    }
  ]
}