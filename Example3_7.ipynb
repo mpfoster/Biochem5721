{
  "nbformat": 4,
  "nbformat_minor": 0,
  "metadata": {
    "kernelspec": {
      "display_name": "Python 3",
      "language": "python",
      "name": "python3"
    },
    "language_info": {
      "codemirror_mode": {
        "name": "ipython",
        "version": 3
      },
      "file_extension": ".py",
      "mimetype": "text/x-python",
      "name": "python",
      "nbconvert_exporter": "python",
      "pygments_lexer": "ipython3",
      "version": "3.8.5"
    },
    "colab": {
      "name": "Example3-7.ipynb",
      "provenance": [],
      "include_colab_link": true
    }
  },
  "cells": [
    {
      "cell_type": "markdown",
      "metadata": {
        "id": "view-in-github",
        "colab_type": "text"
      },
      "source": [
        "<a href=\"https://colab.research.google.com/github/mpfoster/Biochem5721/blob/master/Example3_7.ipynb\" target=\"_parent\"><img src=\"https://colab.research.google.com/assets/colab-badge.svg\" alt=\"Open In Colab\"/></a>"
      ]
    },
    {
      "cell_type": "markdown",
      "metadata": {
        "id": "-c0NaPI18m3f",
        "colab_type": "text"
      },
      "source": [
        "## Example 3.7\n",
        "What is the free energy of hydrolysis of Gly-Gly at 37°C, 1 bar?\n",
        "\n",
        "$diGly + H_2O \\rightarrow 2Gly$\n",
        "\n",
        "**Solution** \n",
        "\n",
        "Two approaches: Gibbs-Helmholtz (enthlapy), or via pV work (entropy)\n",
        "\n",
        "Here, Gibbs-Helmholtz:\n",
        "$$\\frac{\\Delta_rG(T_2)}{T_2} - \\frac{\\Delta_rG(T_1)}{T_1} = \\int^{T_2}_{T_1}\\frac{\\Delta_rH(T)}{T_2}dT = \\Delta_rH\\left[\\frac{1}{T_2}-\\frac{1}{T_1}\\right]$$"
      ]
    },
    {
      "cell_type": "code",
      "metadata": {
        "id": "cYy4LcSS8m3k",
        "colab_type": "code",
        "colab": {}
      },
      "source": [
        "# dG hydrolysis of di-Gly at 37°C?\n",
        "# dG(products) - dG(reactants) at 25C: \n",
        "# Gibbs-Helmholtz approach:\n",
        "# Determine dH(25) from standard enthalpies and stoichiometries\n",
        "# dH_r: GlyGly = -745 kJ/mol; Gly = -537; H2O = -286 kJ/mol\n",
        "T2 = \n",
        "T1 = \n",
        "dG_t1 = \n",
        "dH = \n",
        "dG_t2 = (dH*(1/T2 - 1/T1)+dG_t1/T1)*T2\n",
        "print(dG_t2, \"kJ/mol\")"
      ],
      "execution_count": null,
      "outputs": []
    },
    {
      "cell_type": "markdown",
      "metadata": {
        "id": "VZcNpVvI8m4F",
        "colab_type": "text"
      },
      "source": [
        "Breakout tasks:\n",
        "1. show that we get the same answer by using T-dependence of entropy.\n",
        "1. determine $\\Delta_r G$ at 55°C, at which many thermophilic organisms thrive."
      ]
    }
  ]
}