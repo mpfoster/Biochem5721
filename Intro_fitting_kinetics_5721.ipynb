{
  "nbformat": 4,
  "nbformat_minor": 0,
  "metadata": {
    "colab": {
      "provenance": [],
      "include_colab_link": true
    },
    "kernelspec": {
      "display_name": "Python 3",
      "language": "python",
      "name": "python3"
    },
    "language_info": {
      "codemirror_mode": {
        "name": "ipython",
        "version": 3
      },
      "file_extension": ".py",
      "mimetype": "text/x-python",
      "name": "python",
      "nbconvert_exporter": "python",
      "pygments_lexer": "ipython3",
      "version": "3.9.1"
    }
  },
  "cells": [
    {
      "cell_type": "markdown",
      "metadata": {
        "id": "view-in-github",
        "colab_type": "text"
      },
      "source": [
        "<a href=\"https://colab.research.google.com/github/mpfoster/Biochem5721/blob/master/Intro_fitting_kinetics_5721.ipynb\" target=\"_parent\"><img src=\"https://colab.research.google.com/assets/colab-badge.svg\" alt=\"Open In Colab\"/></a>"
      ]
    },
    {
      "cell_type": "markdown",
      "metadata": {
        "id": "7KCUG_b4FRTu"
      },
      "source": [
        "# Introduction to data fitting in Python for Biochem 5721\n",
        "This notebook is intended as a tutorial for introducing students to data fitting in Python via some useful guides and examples.\n",
        "\n",
        "For an interactive experience, after loading into a Jupyter environment, clear all output using `Edit > Clear all outputs`, then progress through the notebook executing one code cell at a time. Some code cells may need to be edited depending on your data location.\n",
        "\n",
        "2023-11-02 MPF"
      ]
    },
    {
      "cell_type": "markdown",
      "metadata": {
        "id": "qALsW8XAgwaa"
      },
      "source": [
        "## Data fitting with Python, using Matplotlib and Pandas\n",
        "We will start with data for the first-order decomposition of penicillin during storage at 25°C. The data can be loaded from a file, or entered as lists of $x$ and $y$ values. This notebook illustrates reading the values from a _.csv_ (comma separated values) file, and speciying the data in a code cell."
      ]
    },
    {
      "cell_type": "markdown",
      "metadata": {
        "id": "fSe_Gli9SUjT"
      },
      "source": [
        "We will read in the data using the `pandas` package, https://pandas.pydata.org/. Pandas simplifies loading tabular data into a \"data frame\"; basically a table with rows and columns. For this example, we will load a `.csv` (comma-separated-values) file that looks like this:\n",
        "```\n",
        "Time_weeks,Penicillin_U\n",
        "0.0,10100\n",
        "1.0,8180\n",
        "2.0,6900\n",
        "3.0,5380\n",
        "4.0,4320\n",
        "5.0,3870\n",
        "7.0,2190\n",
        "8.0,2000\n",
        "9.0,1790\n",
        "10.0,1330\n",
        "11.0,1040\n",
        "12.0,898\n",
        "13.0,750\n",
        "14.0,572\n",
        "15.0,403\n",
        "16.0,403\n",
        "17.0,314\n",
        "18.0,279\n",
        "19.0,181\n",
        "20.0,167\n",
        "```\n",
        "The first row has column labels; the rest are data. We can drag/drop the file into the Jupyter Files sidebar, and tell Pandas to load the data in the file into a data frame. [(See Pandas docs for more.)](https://pandas.pydata.org/pandas-docs/stable/reference/api/pandas.read_table.html)"
      ]
    },
    {
      "cell_type": "code",
      "metadata": {
        "colab": {
          "base_uri": "https://localhost:8080/",
          "height": 677
        },
        "id": "NJZEkhpVyggl",
        "outputId": "1c34f2bc-d01b-4089-e9e9-7b5e43023476"
      },
      "source": [
        "# use pandas to load the data from a local file\n",
        "import pandas as pd\n",
        "datafile = \"penicillin-data.csv\"\n",
        "datafile = \"https://github.com/mpfoster/Biochem5721/raw/master/Data/penicillin-data.csv\"\n",
        "df = pd.read_csv(datafile) # here, assumes file in current directory\n",
        "df  # show the contents of the data frame"
      ],
      "execution_count": 1,
      "outputs": [
        {
          "output_type": "execute_result",
          "data": {
            "text/plain": [
              "    Time_weeks  Penicillin_U\n",
              "0          0.0         10100\n",
              "1          1.0          8180\n",
              "2          2.0          6900\n",
              "3          3.0          5380\n",
              "4          4.0          4320\n",
              "5          5.0          3870\n",
              "6          7.0          2190\n",
              "7          8.0          2000\n",
              "8          9.0          1790\n",
              "9         10.0          1330\n",
              "10        11.0          1040\n",
              "11        12.0           898\n",
              "12        13.0           750\n",
              "13        14.0           572\n",
              "14        15.0           403\n",
              "15        16.0           403\n",
              "16        17.0           314\n",
              "17        18.0           279\n",
              "18        19.0           181\n",
              "19        20.0           167"
            ],
            "text/html": [
              "\n",
              "  <div id=\"df-2d417f5a-a36f-4bf3-9c0c-d497be63650f\" class=\"colab-df-container\">\n",
              "    <div>\n",
              "<style scoped>\n",
              "    .dataframe tbody tr th:only-of-type {\n",
              "        vertical-align: middle;\n",
              "    }\n",
              "\n",
              "    .dataframe tbody tr th {\n",
              "        vertical-align: top;\n",
              "    }\n",
              "\n",
              "    .dataframe thead th {\n",
              "        text-align: right;\n",
              "    }\n",
              "</style>\n",
              "<table border=\"1\" class=\"dataframe\">\n",
              "  <thead>\n",
              "    <tr style=\"text-align: right;\">\n",
              "      <th></th>\n",
              "      <th>Time_weeks</th>\n",
              "      <th>Penicillin_U</th>\n",
              "    </tr>\n",
              "  </thead>\n",
              "  <tbody>\n",
              "    <tr>\n",
              "      <th>0</th>\n",
              "      <td>0.0</td>\n",
              "      <td>10100</td>\n",
              "    </tr>\n",
              "    <tr>\n",
              "      <th>1</th>\n",
              "      <td>1.0</td>\n",
              "      <td>8180</td>\n",
              "    </tr>\n",
              "    <tr>\n",
              "      <th>2</th>\n",
              "      <td>2.0</td>\n",
              "      <td>6900</td>\n",
              "    </tr>\n",
              "    <tr>\n",
              "      <th>3</th>\n",
              "      <td>3.0</td>\n",
              "      <td>5380</td>\n",
              "    </tr>\n",
              "    <tr>\n",
              "      <th>4</th>\n",
              "      <td>4.0</td>\n",
              "      <td>4320</td>\n",
              "    </tr>\n",
              "    <tr>\n",
              "      <th>5</th>\n",
              "      <td>5.0</td>\n",
              "      <td>3870</td>\n",
              "    </tr>\n",
              "    <tr>\n",
              "      <th>6</th>\n",
              "      <td>7.0</td>\n",
              "      <td>2190</td>\n",
              "    </tr>\n",
              "    <tr>\n",
              "      <th>7</th>\n",
              "      <td>8.0</td>\n",
              "      <td>2000</td>\n",
              "    </tr>\n",
              "    <tr>\n",
              "      <th>8</th>\n",
              "      <td>9.0</td>\n",
              "      <td>1790</td>\n",
              "    </tr>\n",
              "    <tr>\n",
              "      <th>9</th>\n",
              "      <td>10.0</td>\n",
              "      <td>1330</td>\n",
              "    </tr>\n",
              "    <tr>\n",
              "      <th>10</th>\n",
              "      <td>11.0</td>\n",
              "      <td>1040</td>\n",
              "    </tr>\n",
              "    <tr>\n",
              "      <th>11</th>\n",
              "      <td>12.0</td>\n",
              "      <td>898</td>\n",
              "    </tr>\n",
              "    <tr>\n",
              "      <th>12</th>\n",
              "      <td>13.0</td>\n",
              "      <td>750</td>\n",
              "    </tr>\n",
              "    <tr>\n",
              "      <th>13</th>\n",
              "      <td>14.0</td>\n",
              "      <td>572</td>\n",
              "    </tr>\n",
              "    <tr>\n",
              "      <th>14</th>\n",
              "      <td>15.0</td>\n",
              "      <td>403</td>\n",
              "    </tr>\n",
              "    <tr>\n",
              "      <th>15</th>\n",
              "      <td>16.0</td>\n",
              "      <td>403</td>\n",
              "    </tr>\n",
              "    <tr>\n",
              "      <th>16</th>\n",
              "      <td>17.0</td>\n",
              "      <td>314</td>\n",
              "    </tr>\n",
              "    <tr>\n",
              "      <th>17</th>\n",
              "      <td>18.0</td>\n",
              "      <td>279</td>\n",
              "    </tr>\n",
              "    <tr>\n",
              "      <th>18</th>\n",
              "      <td>19.0</td>\n",
              "      <td>181</td>\n",
              "    </tr>\n",
              "    <tr>\n",
              "      <th>19</th>\n",
              "      <td>20.0</td>\n",
              "      <td>167</td>\n",
              "    </tr>\n",
              "  </tbody>\n",
              "</table>\n",
              "</div>\n",
              "    <div class=\"colab-df-buttons\">\n",
              "\n",
              "  <div class=\"colab-df-container\">\n",
              "    <button class=\"colab-df-convert\" onclick=\"convertToInteractive('df-2d417f5a-a36f-4bf3-9c0c-d497be63650f')\"\n",
              "            title=\"Convert this dataframe to an interactive table.\"\n",
              "            style=\"display:none;\">\n",
              "\n",
              "  <svg xmlns=\"http://www.w3.org/2000/svg\" height=\"24px\" viewBox=\"0 -960 960 960\">\n",
              "    <path d=\"M120-120v-720h720v720H120Zm60-500h600v-160H180v160Zm220 220h160v-160H400v160Zm0 220h160v-160H400v160ZM180-400h160v-160H180v160Zm440 0h160v-160H620v160ZM180-180h160v-160H180v160Zm440 0h160v-160H620v160Z\"/>\n",
              "  </svg>\n",
              "    </button>\n",
              "\n",
              "  <style>\n",
              "    .colab-df-container {\n",
              "      display:flex;\n",
              "      gap: 12px;\n",
              "    }\n",
              "\n",
              "    .colab-df-convert {\n",
              "      background-color: #E8F0FE;\n",
              "      border: none;\n",
              "      border-radius: 50%;\n",
              "      cursor: pointer;\n",
              "      display: none;\n",
              "      fill: #1967D2;\n",
              "      height: 32px;\n",
              "      padding: 0 0 0 0;\n",
              "      width: 32px;\n",
              "    }\n",
              "\n",
              "    .colab-df-convert:hover {\n",
              "      background-color: #E2EBFA;\n",
              "      box-shadow: 0px 1px 2px rgba(60, 64, 67, 0.3), 0px 1px 3px 1px rgba(60, 64, 67, 0.15);\n",
              "      fill: #174EA6;\n",
              "    }\n",
              "\n",
              "    .colab-df-buttons div {\n",
              "      margin-bottom: 4px;\n",
              "    }\n",
              "\n",
              "    [theme=dark] .colab-df-convert {\n",
              "      background-color: #3B4455;\n",
              "      fill: #D2E3FC;\n",
              "    }\n",
              "\n",
              "    [theme=dark] .colab-df-convert:hover {\n",
              "      background-color: #434B5C;\n",
              "      box-shadow: 0px 1px 3px 1px rgba(0, 0, 0, 0.15);\n",
              "      filter: drop-shadow(0px 1px 2px rgba(0, 0, 0, 0.3));\n",
              "      fill: #FFFFFF;\n",
              "    }\n",
              "  </style>\n",
              "\n",
              "    <script>\n",
              "      const buttonEl =\n",
              "        document.querySelector('#df-2d417f5a-a36f-4bf3-9c0c-d497be63650f button.colab-df-convert');\n",
              "      buttonEl.style.display =\n",
              "        google.colab.kernel.accessAllowed ? 'block' : 'none';\n",
              "\n",
              "      async function convertToInteractive(key) {\n",
              "        const element = document.querySelector('#df-2d417f5a-a36f-4bf3-9c0c-d497be63650f');\n",
              "        const dataTable =\n",
              "          await google.colab.kernel.invokeFunction('convertToInteractive',\n",
              "                                                    [key], {});\n",
              "        if (!dataTable) return;\n",
              "\n",
              "        const docLinkHtml = 'Like what you see? Visit the ' +\n",
              "          '<a target=\"_blank\" href=https://colab.research.google.com/notebooks/data_table.ipynb>data table notebook</a>'\n",
              "          + ' to learn more about interactive tables.';\n",
              "        element.innerHTML = '';\n",
              "        dataTable['output_type'] = 'display_data';\n",
              "        await google.colab.output.renderOutput(dataTable, element);\n",
              "        const docLink = document.createElement('div');\n",
              "        docLink.innerHTML = docLinkHtml;\n",
              "        element.appendChild(docLink);\n",
              "      }\n",
              "    </script>\n",
              "  </div>\n",
              "\n",
              "\n",
              "<div id=\"df-21501f63-78cd-483d-bc7c-63832a6dcfb9\">\n",
              "  <button class=\"colab-df-quickchart\" onclick=\"quickchart('df-21501f63-78cd-483d-bc7c-63832a6dcfb9')\"\n",
              "            title=\"Suggest charts.\"\n",
              "            style=\"display:none;\">\n",
              "\n",
              "<svg xmlns=\"http://www.w3.org/2000/svg\" height=\"24px\"viewBox=\"0 0 24 24\"\n",
              "     width=\"24px\">\n",
              "    <g>\n",
              "        <path d=\"M19 3H5c-1.1 0-2 .9-2 2v14c0 1.1.9 2 2 2h14c1.1 0 2-.9 2-2V5c0-1.1-.9-2-2-2zM9 17H7v-7h2v7zm4 0h-2V7h2v10zm4 0h-2v-4h2v4z\"/>\n",
              "    </g>\n",
              "</svg>\n",
              "  </button>\n",
              "\n",
              "<style>\n",
              "  .colab-df-quickchart {\n",
              "      --bg-color: #E8F0FE;\n",
              "      --fill-color: #1967D2;\n",
              "      --hover-bg-color: #E2EBFA;\n",
              "      --hover-fill-color: #174EA6;\n",
              "      --disabled-fill-color: #AAA;\n",
              "      --disabled-bg-color: #DDD;\n",
              "  }\n",
              "\n",
              "  [theme=dark] .colab-df-quickchart {\n",
              "      --bg-color: #3B4455;\n",
              "      --fill-color: #D2E3FC;\n",
              "      --hover-bg-color: #434B5C;\n",
              "      --hover-fill-color: #FFFFFF;\n",
              "      --disabled-bg-color: #3B4455;\n",
              "      --disabled-fill-color: #666;\n",
              "  }\n",
              "\n",
              "  .colab-df-quickchart {\n",
              "    background-color: var(--bg-color);\n",
              "    border: none;\n",
              "    border-radius: 50%;\n",
              "    cursor: pointer;\n",
              "    display: none;\n",
              "    fill: var(--fill-color);\n",
              "    height: 32px;\n",
              "    padding: 0;\n",
              "    width: 32px;\n",
              "  }\n",
              "\n",
              "  .colab-df-quickchart:hover {\n",
              "    background-color: var(--hover-bg-color);\n",
              "    box-shadow: 0 1px 2px rgba(60, 64, 67, 0.3), 0 1px 3px 1px rgba(60, 64, 67, 0.15);\n",
              "    fill: var(--button-hover-fill-color);\n",
              "  }\n",
              "\n",
              "  .colab-df-quickchart-complete:disabled,\n",
              "  .colab-df-quickchart-complete:disabled:hover {\n",
              "    background-color: var(--disabled-bg-color);\n",
              "    fill: var(--disabled-fill-color);\n",
              "    box-shadow: none;\n",
              "  }\n",
              "\n",
              "  .colab-df-spinner {\n",
              "    border: 2px solid var(--fill-color);\n",
              "    border-color: transparent;\n",
              "    border-bottom-color: var(--fill-color);\n",
              "    animation:\n",
              "      spin 1s steps(1) infinite;\n",
              "  }\n",
              "\n",
              "  @keyframes spin {\n",
              "    0% {\n",
              "      border-color: transparent;\n",
              "      border-bottom-color: var(--fill-color);\n",
              "      border-left-color: var(--fill-color);\n",
              "    }\n",
              "    20% {\n",
              "      border-color: transparent;\n",
              "      border-left-color: var(--fill-color);\n",
              "      border-top-color: var(--fill-color);\n",
              "    }\n",
              "    30% {\n",
              "      border-color: transparent;\n",
              "      border-left-color: var(--fill-color);\n",
              "      border-top-color: var(--fill-color);\n",
              "      border-right-color: var(--fill-color);\n",
              "    }\n",
              "    40% {\n",
              "      border-color: transparent;\n",
              "      border-right-color: var(--fill-color);\n",
              "      border-top-color: var(--fill-color);\n",
              "    }\n",
              "    60% {\n",
              "      border-color: transparent;\n",
              "      border-right-color: var(--fill-color);\n",
              "    }\n",
              "    80% {\n",
              "      border-color: transparent;\n",
              "      border-right-color: var(--fill-color);\n",
              "      border-bottom-color: var(--fill-color);\n",
              "    }\n",
              "    90% {\n",
              "      border-color: transparent;\n",
              "      border-bottom-color: var(--fill-color);\n",
              "    }\n",
              "  }\n",
              "</style>\n",
              "\n",
              "  <script>\n",
              "    async function quickchart(key) {\n",
              "      const quickchartButtonEl =\n",
              "        document.querySelector('#' + key + ' button');\n",
              "      quickchartButtonEl.disabled = true;  // To prevent multiple clicks.\n",
              "      quickchartButtonEl.classList.add('colab-df-spinner');\n",
              "      try {\n",
              "        const charts = await google.colab.kernel.invokeFunction(\n",
              "            'suggestCharts', [key], {});\n",
              "      } catch (error) {\n",
              "        console.error('Error during call to suggestCharts:', error);\n",
              "      }\n",
              "      quickchartButtonEl.classList.remove('colab-df-spinner');\n",
              "      quickchartButtonEl.classList.add('colab-df-quickchart-complete');\n",
              "    }\n",
              "    (() => {\n",
              "      let quickchartButtonEl =\n",
              "        document.querySelector('#df-21501f63-78cd-483d-bc7c-63832a6dcfb9 button');\n",
              "      quickchartButtonEl.style.display =\n",
              "        google.colab.kernel.accessAllowed ? 'block' : 'none';\n",
              "    })();\n",
              "  </script>\n",
              "</div>\n",
              "    </div>\n",
              "  </div>\n"
            ]
          },
          "metadata": {},
          "execution_count": 1
        }
      ]
    },
    {
      "cell_type": "code",
      "metadata": {
        "id": "sm0ySEubw7u9"
      },
      "source": [
        "# Alternatively, uncomment the following to define the data here\n",
        "#import numpy as np\n",
        "#import pandas as pd\n",
        "#xdata = np.array([0.0, 1.0, 2.0, 3.0, 4.0, 5.0, 7.0, 8.0, 9.0, 10.0, 11.0, 12.0, 13.0, 14.0, 15.0, 16.0, 17.0, 18.0, 19.0, 20.0])\n",
        "#ydata = np.array([10100, 8180, 6900, 5380, 4320, 3870, 2190, 2000, 1790, 1330, 1040, 898, 750, 572, 403, 403, 314, 279, 181, 167])\n",
        "#d = {'Time_weeks': xdata, 'Penicillin_U': ydata}\n",
        "#df = pd.DataFrame(data=d)\n",
        "#df\n",
        "# ^^^\n",
        "# It is not required to use a pandas df, but there are benefits, and the\n",
        "# rest of the tutorial assumes we've placed our data in one.\n",
        "# We could have just defined our xdata and ydata and proceeded"
      ],
      "execution_count": 2,
      "outputs": []
    },
    {
      "cell_type": "code",
      "metadata": {
        "id": "0aM26Pua0957"
      },
      "source": [
        "# read the data from the df into variables\n",
        "xdata = df['Time_weeks']\n",
        "ydata = df['Penicillin_U']"
      ],
      "execution_count": 3,
      "outputs": []
    },
    {
      "cell_type": "markdown",
      "metadata": {
        "id": "Lrm7uBrReLwj"
      },
      "source": [
        "and... plot the data:"
      ]
    },
    {
      "cell_type": "code",
      "metadata": {
        "colab": {
          "base_uri": "https://localhost:8080/",
          "height": 471
        },
        "id": "aS8jEKNa1U_n",
        "outputId": "5c2819e8-1576-4689-b2db-548cf787efec"
      },
      "source": [
        "import matplotlib.pyplot as plt\n",
        "plt.style.use('ggplot') # one of many available plot styles\n",
        "fig,ax = plt.subplots()\n",
        "ax.plot(xdata, ydata, 'o') # plot the data using a scatter plot\n",
        "ax.set_xlabel('Time / weeks')\n",
        "ax.set_ylabel('Penicillin Units')"
      ],
      "execution_count": 4,
      "outputs": [
        {
          "output_type": "execute_result",
          "data": {
            "text/plain": [
              "Text(0, 0.5, 'Penicillin Units')"
            ]
          },
          "metadata": {},
          "execution_count": 4
        },
        {
          "output_type": "display_data",
          "data": {
            "text/plain": [
              "<Figure size 640x480 with 1 Axes>"
            ],
            "image/png": "[encoded data removed]"
          },
          "metadata": {}
        }
      ]
    },
    {
      "cell_type": "markdown",
      "metadata": {
        "id": "T_HHtk1rVdGF"
      },
      "source": [
        "## Fitting to a model\n",
        "We've hypothesized that the data can be described by a first-order kinetic process, whose integrated form is:\n",
        "\n",
        "$$[A]=[A_0]e^{-kt}$$\n",
        "\n",
        "where $[A_0]$ the value of [A] at time $t = 0$, and $k$ is the first order rate constant. We see from the data that $[A_0]= 10,100$. We just need a value of $k$ that best explains the data."
      ]
    },
    {
      "cell_type": "markdown",
      "metadata": {
        "id": "9-EoONdWIA2j"
      },
      "source": [
        "We will write out the integrated rate equation in a form that Python will understand. We will do this in the form of a _function_, so we can call and re-use the function by name; e.g., the square root function `sqrt()`."
      ]
    },
    {
      "cell_type": "code",
      "metadata": {
        "id": "tIRPk9I1aoT3"
      },
      "source": [
        "# We define functions for integrated kinetic rate laws\n",
        "\n",
        "import numpy as np\n",
        "\n",
        "def decay_1p(x,k):\n",
        "  # one-parameter exponential decay, with rate constant k\n",
        "  return np.exp(-k*x)\n",
        "\n",
        "def decay_2p(x,k,A):\n",
        "  # two-parameter exponential decay, with amplitude A\n",
        "  return A*np.exp(-x*k)\n",
        "\n",
        "def decay_3p(x,k,A,C):\n",
        "  # three-parameter exponential decay, rate const k, amplitude A and offset C\n",
        "  return A*np.exp(-x*k) + C\n",
        "\n",
        "def biphasic(x,k1,A1,k2,A2): # two rate constants, two amplitudes\n",
        "  return A1*np.exp(-x*k1)+A2*np.exp(-x*k2)\n",
        "\n",
        "def biphasic_offset(x,k1,A1,k2,A2,C): # two rate constants, two amplitudes + C\n",
        "  return A1*np.exp(-x*k1)+A2*np.exp(-x*k2)+C\n",
        "\n",
        "def sec_order_1(t,a0,k): # 2a -> c\n",
        "    return a0/(a0*k*t+1)\n",
        "\n",
        "def sec_order_2(t,a0,b0,k): # a + b -> c\n",
        "    return a0*b0*(np.exp(k*t*(a0 - b0)) - 1)/(a0*np.exp(k*t*(a0 - b0)) - b0)"
      ],
      "execution_count": 5,
      "outputs": []
    },
    {
      "cell_type": "markdown",
      "metadata": {
        "id": "Jh059lqBeFpj"
      },
      "source": [
        "Having defined a function, we need to define/guess some initial parameters for the model, then plot the model along with the data to see how well it agrees."
      ]
    },
    {
      "cell_type": "code",
      "metadata": {
        "colab": {
          "base_uri": "https://localhost:8080/",
          "height": 453
        },
        "id": "wzEeuQRRcjca",
        "outputId": "7fb1b899-ce2f-4d5f-aac9-383adc071ec1"
      },
      "source": [
        "f = decay_2p\n",
        "a0=10100 # activity at t=0\n",
        "k = 1 # 1 is often a good starting point for an unknown\n",
        "p0 = k,a0\n",
        "# calculate y values using our model parameters:\n",
        "calc_y = f(xdata, *p0) # 1st-order decay y = a0*exp(-k*x)\n",
        "# now plot the data and calculated values against the same x values:\n",
        "\n",
        "fig,ax = plt.subplots()\n",
        "ax.plot(xdata, ydata, 'o', label='data') # plot the data using a scatter plot\n",
        "ax.plot(xdata, calc_y, label=f'{f.__name__}')\n",
        "ax.set_xlabel('Time / weeks')\n",
        "ax.set_ylabel('Penicillin Units')\n",
        "\n",
        "plt.legend(); plt.show()"
      ],
      "execution_count": 6,
      "outputs": [
        {
          "output_type": "display_data",
          "data": {
            "text/plain": [
              "<Figure size 640x480 with 1 Axes>"
            ],
            "image/png": "[encoded data removed]"
          },
          "metadata": {}
        }
      ]
    },
    {
      "cell_type": "markdown",
      "metadata": {
        "id": "mwo9WYlTzprl"
      },
      "source": [
        "We evaluate the goodness of fit by computing a chi-square ($\\chi^2$), the squared sum of the residual differences between the data ($y$ values) and the model evaluated at each $x$ value, $f(x)$:\n",
        "$$\\chi^2 =  \\sum_i\\left(y(x)-f(x)\\right)^2 = \\sum_i (residuals)^2$$\n"
      ]
    },
    {
      "cell_type": "code",
      "metadata": {
        "colab": {
          "base_uri": "https://localhost:8080/",
          "height": 481
        },
        "id": "ac0N3Ezi1aZC",
        "outputId": "e91be205-add4-4e9a-b34d-5e6c72f8438a"
      },
      "source": [
        "residuals = ydata - calc_y\n",
        "fig,ax = plt.subplots()\n",
        "ax.stem(xdata,residuals)\n",
        "ax.set_xlabel('time / weeks'); ax.set_ylabel('Residuals')\n",
        "ax.set_title('$\\chi^2$ = %.2f' % (sum(residuals))**2 )\n",
        "plt.show()"
      ],
      "execution_count": 7,
      "outputs": [
        {
          "output_type": "display_data",
          "data": {
            "text/plain": [
              "<Figure size 640x480 with 1 Axes>"
            ],
            "image/png": "[encoded data removed]"
          },
          "metadata": {}
        }
      ]
    },
    {
      "cell_type": "markdown",
      "metadata": {
        "id": "wxqUDIAhkoi9"
      },
      "source": [
        "*Fitting* involves finding model parameters that minimize the difference between the data and the model. Because an exponential decay equation  is not a straight line, we call this non-linear curve fitting.\n",
        "\n",
        "There are many algorithms and packages for curve fitting; here we use Scipy curve_fit:"
      ]
    },
    {
      "cell_type": "code",
      "metadata": {
        "colab": {
          "base_uri": "https://localhost:8080/",
          "height": 508
        },
        "id": "dqvql4sCkqZf",
        "outputId": "0ee6aa6f-bcef-4202-bc5a-2e3a1863cf9a"
      },
      "source": [
        "from scipy.optimize import curve_fit\n",
        "'''\n",
        "<function: scipy.optimize.minpack.curve_fit(f, xdata, ydata, p0=None, sigma=None, absolute_sigma=False,\n",
        "    check_finite=True, bounds=(-inf, inf), method=None, jac=None, **kwargs)>\n",
        "\n",
        "for scipy's curve_fit function: we need to at least provide the function f, and x and y data.\n",
        "we could provide initial parameters via the list p0\n",
        "'''\n",
        "# specify the function to be used to generate model data\n",
        "f = decay_2p # y = a0*exp(-k*x)\n",
        "xdata = df['Time_weeks']\n",
        "ydata = df['Penicillin_U']\n",
        "p0 = 1,1e4 # optionally, provide starting parameters\n",
        "# run, and return parameter best-fit and covariation:\n",
        "popt,pcov = curve_fit(f,xdata,ydata, p0 = p0)\n",
        "print(\"Optimized parameters:\", popt)\n",
        "print(\"Covariance matrix:\", pcov)\n",
        "# Compute Standard errors:\n",
        "perr = np.sqrt(np.diag(pcov)) # square root of matrix diagonal\n",
        "# Always, always, visualize the fit before the trusting parameters:\n",
        "calc_data = f(xdata,*popt) # evaluate the function f with the optimized params\n",
        "plt.plot(xdata,ydata,'o')\n",
        "plt.plot(xdata,calc_data, label=f'Best-fit k: {popt[0]:.3f} ± {perr[0]:.3f} / week')\n",
        "plt.xlabel('Time / Weeks'); plt.ylabel('Activity')\n",
        "plt.legend(); plt.show()"
      ],
      "execution_count": 8,
      "outputs": [
        {
          "output_type": "stream",
          "name": "stdout",
          "text": [
            "Optimized parameters: [2.03622120e-01 1.00997015e+04]\n",
            "Covariance matrix: [[7.31093451e-06 1.37719688e-01]\n",
            " [1.37719688e-01 6.72599479e+03]]\n"
          ]
        },
        {
          "output_type": "display_data",
          "data": {
            "text/plain": [
              "<Figure size 640x480 with 1 Axes>"
            ],
            "image/png": "[encoded data removed]"
          },
          "metadata": {}
        }
      ]
    },
    {
      "cell_type": "markdown",
      "metadata": {
        "id": "imk0cClGpZcK"
      },
      "source": [
        "When we are satisfied with the agreement between model and data, we have found the _best-fit parameters of the model_."
      ]
    },
    {
      "cell_type": "code",
      "metadata": {
        "colab": {
          "base_uri": "https://localhost:8080/",
          "height": 343
        },
        "id": "d-yVDwwhpVXc",
        "outputId": "a29d2853-4f48-483c-8fcb-44b705601bfb"
      },
      "source": [
        "residuals = ydata - calc_data\n",
        "fig,ax = plt.subplots(figsize=(6,3))\n",
        "ax.stem(xdata,residuals)\n",
        "ax.set_xlabel('time / weeks'); ax.set_ylabel('Residuals')\n",
        "ax.set_title('$\\chi^2$ = %.2f' % (sum(residuals))**2 )\n",
        "plt.show()"
      ],
      "execution_count": 9,
      "outputs": [
        {
          "output_type": "display_data",
          "data": {
            "text/plain": [
              "<Figure size 600x300 with 1 Axes>"
            ],
            "image/png": "[encoded data removed]"
          },
          "metadata": {}
        }
      ]
    },
    {
      "cell_type": "code",
      "metadata": {
        "colab": {
          "base_uri": "https://localhost:8080/"
        },
        "id": "3K3pmqGevFqD",
        "outputId": "a9d04d54-64cd-4460-e48d-b86fb7a6b6b5"
      },
      "source": [
        "print(f'Best-fit: {popt}')\n",
        "# Standard deviation estimate:\n",
        "perr = np.sqrt(np.diag(pcov))\n",
        "print(f'Standard Error: {perr}')"
      ],
      "execution_count": 10,
      "outputs": [
        {
          "output_type": "stream",
          "name": "stdout",
          "text": [
            "Best-fit: [2.03622120e-01 1.00997015e+04]\n",
            "Standard Error: [2.70387398e-03 8.20121625e+01]\n"
          ]
        }
      ]
    },
    {
      "cell_type": "markdown",
      "metadata": {
        "id": "grgD17bW6W2g"
      },
      "source": [
        "If desired, we can append to the dataframe the initial values, best-fit, and residuals of the fit:"
      ]
    },
    {
      "cell_type": "code",
      "metadata": {
        "id": "PGfMwSXUVEh7",
        "colab": {
          "base_uri": "https://localhost:8080/",
          "height": 206
        },
        "outputId": "66564f70-c205-4819-d3e9-8814510c2b9f"
      },
      "source": [
        "#df['init'] = result.init_fit\n",
        "df['best'] = calc_data\n",
        "df['residuals'] = residuals\n",
        "df.head()\n",
        "# export df to a new csv file\n",
        "#df.to_csv('output.csv')"
      ],
      "execution_count": 11,
      "outputs": [
        {
          "output_type": "execute_result",
          "data": {
            "text/plain": [
              "   Time_weeks  Penicillin_U          best   residuals\n",
              "0         0.0         10100  10099.701500    0.298500\n",
              "1         1.0          8180   8239.039310  -59.039310\n",
              "2         2.0          6900   6721.165844  178.834156\n",
              "3         3.0          5380   5482.929332 -102.929332\n",
              "4         4.0          4320   4472.812420 -152.812420"
            ],
            "text/html": [
              "\n",
              "  <div id=\"df-1c251662-fc8a-4cbd-8968-efcdf9bd9450\" class=\"colab-df-container\">\n",
              "    <div>\n",
              "<style scoped>\n",
              "    .dataframe tbody tr th:only-of-type {\n",
              "        vertical-align: middle;\n",
              "    }\n",
              "\n",
              "    .dataframe tbody tr th {\n",
              "        vertical-align: top;\n",
              "    }\n",
              "\n",
              "    .dataframe thead th {\n",
              "        text-align: right;\n",
              "    }\n",
              "</style>\n",
              "<table border=\"1\" class=\"dataframe\">\n",
              "  <thead>\n",
              "    <tr style=\"text-align: right;\">\n",
              "      <th></th>\n",
              "      <th>Time_weeks</th>\n",
              "      <th>Penicillin_U</th>\n",
              "      <th>best</th>\n",
              "      <th>residuals</th>\n",
              "    </tr>\n",
              "  </thead>\n",
              "  <tbody>\n",
              "    <tr>\n",
              "      <th>0</th>\n",
              "      <td>0.0</td>\n",
              "      <td>10100</td>\n",
              "      <td>10099.701500</td>\n",
              "      <td>0.298500</td>\n",
              "    </tr>\n",
              "    <tr>\n",
              "      <th>1</th>\n",
              "      <td>1.0</td>\n",
              "      <td>8180</td>\n",
              "      <td>8239.039310</td>\n",
              "      <td>-59.039310</td>\n",
              "    </tr>\n",
              "    <tr>\n",
              "      <th>2</th>\n",
              "      <td>2.0</td>\n",
              "      <td>6900</td>\n",
              "      <td>6721.165844</td>\n",
              "      <td>178.834156</td>\n",
              "    </tr>\n",
              "    <tr>\n",
              "      <th>3</th>\n",
              "      <td>3.0</td>\n",
              "      <td>5380</td>\n",
              "      <td>5482.929332</td>\n",
              "      <td>-102.929332</td>\n",
              "    </tr>\n",
              "    <tr>\n",
              "      <th>4</th>\n",
              "      <td>4.0</td>\n",
              "      <td>4320</td>\n",
              "      <td>4472.812420</td>\n",
              "      <td>-152.812420</td>\n",
              "    </tr>\n",
              "  </tbody>\n",
              "</table>\n",
              "</div>\n",
              "    <div class=\"colab-df-buttons\">\n",
              "\n",
              "  <div class=\"colab-df-container\">\n",
              "    <button class=\"colab-df-convert\" onclick=\"convertToInteractive('df-1c251662-fc8a-4cbd-8968-efcdf9bd9450')\"\n",
              "            title=\"Convert this dataframe to an interactive table.\"\n",
              "            style=\"display:none;\">\n",
              "\n",
              "  <svg xmlns=\"http://www.w3.org/2000/svg\" height=\"24px\" viewBox=\"0 -960 960 960\">\n",
              "    <path d=\"M120-120v-720h720v720H120Zm60-500h600v-160H180v160Zm220 220h160v-160H400v160Zm0 220h160v-160H400v160ZM180-400h160v-160H180v160Zm440 0h160v-160H620v160ZM180-180h160v-160H180v160Zm440 0h160v-160H620v160Z\"/>\n",
              "  </svg>\n",
              "    </button>\n",
              "\n",
              "  <style>\n",
              "    .colab-df-container {\n",
              "      display:flex;\n",
              "      gap: 12px;\n",
              "    }\n",
              "\n",
              "    .colab-df-convert {\n",
              "      background-color: #E8F0FE;\n",
              "      border: none;\n",
              "      border-radius: 50%;\n",
              "      cursor: pointer;\n",
              "      display: none;\n",
              "      fill: #1967D2;\n",
              "      height: 32px;\n",
              "      padding: 0 0 0 0;\n",
              "      width: 32px;\n",
              "    }\n",
              "\n",
              "    .colab-df-convert:hover {\n",
              "      background-color: #E2EBFA;\n",
              "      box-shadow: 0px 1px 2px rgba(60, 64, 67, 0.3), 0px 1px 3px 1px rgba(60, 64, 67, 0.15);\n",
              "      fill: #174EA6;\n",
              "    }\n",
              "\n",
              "    .colab-df-buttons div {\n",
              "      margin-bottom: 4px;\n",
              "    }\n",
              "\n",
              "    [theme=dark] .colab-df-convert {\n",
              "      background-color: #3B4455;\n",
              "      fill: #D2E3FC;\n",
              "    }\n",
              "\n",
              "    [theme=dark] .colab-df-convert:hover {\n",
              "      background-color: #434B5C;\n",
              "      box-shadow: 0px 1px 3px 1px rgba(0, 0, 0, 0.15);\n",
              "      filter: drop-shadow(0px 1px 2px rgba(0, 0, 0, 0.3));\n",
              "      fill: #FFFFFF;\n",
              "    }\n",
              "  </style>\n",
              "\n",
              "    <script>\n",
              "      const buttonEl =\n",
              "        document.querySelector('#df-1c251662-fc8a-4cbd-8968-efcdf9bd9450 button.colab-df-convert');\n",
              "      buttonEl.style.display =\n",
              "        google.colab.kernel.accessAllowed ? 'block' : 'none';\n",
              "\n",
              "      async function convertToInteractive(key) {\n",
              "        const element = document.querySelector('#df-1c251662-fc8a-4cbd-8968-efcdf9bd9450');\n",
              "        const dataTable =\n",
              "          await google.colab.kernel.invokeFunction('convertToInteractive',\n",
              "                                                    [key], {});\n",
              "        if (!dataTable) return;\n",
              "\n",
              "        const docLinkHtml = 'Like what you see? Visit the ' +\n",
              "          '<a target=\"_blank\" href=https://colab.research.google.com/notebooks/data_table.ipynb>data table notebook</a>'\n",
              "          + ' to learn more about interactive tables.';\n",
              "        element.innerHTML = '';\n",
              "        dataTable['output_type'] = 'display_data';\n",
              "        await google.colab.output.renderOutput(dataTable, element);\n",
              "        const docLink = document.createElement('div');\n",
              "        docLink.innerHTML = docLinkHtml;\n",
              "        element.appendChild(docLink);\n",
              "      }\n",
              "    </script>\n",
              "  </div>\n",
              "\n",
              "\n",
              "<div id=\"df-33849e0a-dffa-43ee-83cb-ad190c5f90a7\">\n",
              "  <button class=\"colab-df-quickchart\" onclick=\"quickchart('df-33849e0a-dffa-43ee-83cb-ad190c5f90a7')\"\n",
              "            title=\"Suggest charts.\"\n",
              "            style=\"display:none;\">\n",
              "\n",
              "<svg xmlns=\"http://www.w3.org/2000/svg\" height=\"24px\"viewBox=\"0 0 24 24\"\n",
              "     width=\"24px\">\n",
              "    <g>\n",
              "        <path d=\"M19 3H5c-1.1 0-2 .9-2 2v14c0 1.1.9 2 2 2h14c1.1 0 2-.9 2-2V5c0-1.1-.9-2-2-2zM9 17H7v-7h2v7zm4 0h-2V7h2v10zm4 0h-2v-4h2v4z\"/>\n",
              "    </g>\n",
              "</svg>\n",
              "  </button>\n",
              "\n",
              "<style>\n",
              "  .colab-df-quickchart {\n",
              "      --bg-color: #E8F0FE;\n",
              "      --fill-color: #1967D2;\n",
              "      --hover-bg-color: #E2EBFA;\n",
              "      --hover-fill-color: #174EA6;\n",
              "      --disabled-fill-color: #AAA;\n",
              "      --disabled-bg-color: #DDD;\n",
              "  }\n",
              "\n",
              "  [theme=dark] .colab-df-quickchart {\n",
              "      --bg-color: #3B4455;\n",
              "      --fill-color: #D2E3FC;\n",
              "      --hover-bg-color: #434B5C;\n",
              "      --hover-fill-color: #FFFFFF;\n",
              "      --disabled-bg-color: #3B4455;\n",
              "      --disabled-fill-color: #666;\n",
              "  }\n",
              "\n",
              "  .colab-df-quickchart {\n",
              "    background-color: var(--bg-color);\n",
              "    border: none;\n",
              "    border-radius: 50%;\n",
              "    cursor: pointer;\n",
              "    display: none;\n",
              "    fill: var(--fill-color);\n",
              "    height: 32px;\n",
              "    padding: 0;\n",
              "    width: 32px;\n",
              "  }\n",
              "\n",
              "  .colab-df-quickchart:hover {\n",
              "    background-color: var(--hover-bg-color);\n",
              "    box-shadow: 0 1px 2px rgba(60, 64, 67, 0.3), 0 1px 3px 1px rgba(60, 64, 67, 0.15);\n",
              "    fill: var(--button-hover-fill-color);\n",
              "  }\n",
              "\n",
              "  .colab-df-quickchart-complete:disabled,\n",
              "  .colab-df-quickchart-complete:disabled:hover {\n",
              "    background-color: var(--disabled-bg-color);\n",
              "    fill: var(--disabled-fill-color);\n",
              "    box-shadow: none;\n",
              "  }\n",
              "\n",
              "  .colab-df-spinner {\n",
              "    border: 2px solid var(--fill-color);\n",
              "    border-color: transparent;\n",
              "    border-bottom-color: var(--fill-color);\n",
              "    animation:\n",
              "      spin 1s steps(1) infinite;\n",
              "  }\n",
              "\n",
              "  @keyframes spin {\n",
              "    0% {\n",
              "      border-color: transparent;\n",
              "      border-bottom-color: var(--fill-color);\n",
              "      border-left-color: var(--fill-color);\n",
              "    }\n",
              "    20% {\n",
              "      border-color: transparent;\n",
              "      border-left-color: var(--fill-color);\n",
              "      border-top-color: var(--fill-color);\n",
              "    }\n",
              "    30% {\n",
              "      border-color: transparent;\n",
              "      border-left-color: var(--fill-color);\n",
              "      border-top-color: var(--fill-color);\n",
              "      border-right-color: var(--fill-color);\n",
              "    }\n",
              "    40% {\n",
              "      border-color: transparent;\n",
              "      border-right-color: var(--fill-color);\n",
              "      border-top-color: var(--fill-color);\n",
              "    }\n",
              "    60% {\n",
              "      border-color: transparent;\n",
              "      border-right-color: var(--fill-color);\n",
              "    }\n",
              "    80% {\n",
              "      border-color: transparent;\n",
              "      border-right-color: var(--fill-color);\n",
              "      border-bottom-color: var(--fill-color);\n",
              "    }\n",
              "    90% {\n",
              "      border-color: transparent;\n",
              "      border-bottom-color: var(--fill-color);\n",
              "    }\n",
              "  }\n",
              "</style>\n",
              "\n",
              "  <script>\n",
              "    async function quickchart(key) {\n",
              "      const quickchartButtonEl =\n",
              "        document.querySelector('#' + key + ' button');\n",
              "      quickchartButtonEl.disabled = true;  // To prevent multiple clicks.\n",
              "      quickchartButtonEl.classList.add('colab-df-spinner');\n",
              "      try {\n",
              "        const charts = await google.colab.kernel.invokeFunction(\n",
              "            'suggestCharts', [key], {});\n",
              "      } catch (error) {\n",
              "        console.error('Error during call to suggestCharts:', error);\n",
              "      }\n",
              "      quickchartButtonEl.classList.remove('colab-df-spinner');\n",
              "      quickchartButtonEl.classList.add('colab-df-quickchart-complete');\n",
              "    }\n",
              "    (() => {\n",
              "      let quickchartButtonEl =\n",
              "        document.querySelector('#df-33849e0a-dffa-43ee-83cb-ad190c5f90a7 button');\n",
              "      quickchartButtonEl.style.display =\n",
              "        google.colab.kernel.accessAllowed ? 'block' : 'none';\n",
              "    })();\n",
              "  </script>\n",
              "</div>\n",
              "    </div>\n",
              "  </div>\n"
            ]
          },
          "metadata": {},
          "execution_count": 11
        }
      ]
    },
    {
      "cell_type": "code",
      "metadata": {
        "colab": {
          "base_uri": "https://localhost:8080/",
          "height": 472
        },
        "id": "jsvoIrQkW_yy",
        "outputId": "2e98f602-4d68-4acd-94f1-1964d4d05eb2"
      },
      "source": [
        "# shortcut to plotting data in the df (if created)\n",
        "df.plot(x='Time_weeks', y=['Penicillin_U','best','residuals'])"
      ],
      "execution_count": 12,
      "outputs": [
        {
          "output_type": "execute_result",
          "data": {
            "text/plain": [
              "<Axes: xlabel='Time_weeks'>"
            ]
          },
          "metadata": {},
          "execution_count": 12
        },
        {
          "output_type": "display_data",
          "data": {
            "text/plain": [
              "<Figure size 640x480 with 1 Axes>"
            ],
            "image/png": "[encoded data removed]"
          },
          "metadata": {}
        }
      ]
    }
  ]
}