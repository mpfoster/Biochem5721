{
  "nbformat": 4,
  "nbformat_minor": 0,
  "metadata": {
    "colab": {
      "provenance": [],
      "collapsed_sections": [],
      "include_colab_link": true
    },
    "kernelspec": {
      "display_name": "Python 3",
      "language": "python",
      "name": "python3"
    },
    "language_info": {
      "codemirror_mode": {
        "name": "ipython",
        "version": 3
      },
      "file_extension": ".py",
      "mimetype": "text/x-python",
      "name": "python",
      "nbconvert_exporter": "python",
      "pygments_lexer": "ipython3",
      "version": "3.9.1"
    }
  },
  "cells": [
    {
      "cell_type": "markdown",
      "metadata": {
        "id": "view-in-github",
        "colab_type": "text"
      },
      "source": [
        "<a href=\"https://colab.research.google.com/github/mpfoster/Biochem5721/blob/master/Intro_fitting_kinetics_5721.ipynb\" target=\"_parent\"><img src=\"https://colab.research.google.com/assets/colab-badge.svg\" alt=\"Open In Colab\"/></a>"
      ]
    },
    {
      "cell_type": "markdown",
      "metadata": {
        "id": "7KCUG_b4FRTu"
      },
      "source": [
        "# Introduction to data fitting in Python for Biochem 5721\n",
        "This notebook is intended as a tutorial for introducing students to data fitting in Python via some useful guides and examples. \n",
        "\n",
        "For an interactive experience, after loading into a Jupyter environment, clear all output using `Edit > Clear all outputs`, then progress through the notebook executing one code cell at a time. Some code cells may need to be edited depending on your data location.\n",
        "\n",
        "2022-11-05 MPF"
      ]
    },
    {
      "cell_type": "markdown",
      "metadata": {
        "id": "qALsW8XAgwaa"
      },
      "source": [
        "## Data fitting with Python, using Matplotlib and Pandas\n",
        "We will start with data for the first-order decomposition of penicillin during storage at 25°C. The data can be loaded from a file, or entered as lists of $x$ and $y$ values. This notebook illustrates reading the values from a _.csv_ (comma separated values) file, and speciying the data in a code cell."
      ]
    },
    {
      "cell_type": "markdown",
      "metadata": {
        "id": "fSe_Gli9SUjT"
      },
      "source": [
        "We will read in the data using the `pandas` package, https://pandas.pydata.org/. Pandas simplifies loading tabular data into a \"data frame\"; basically a table with rows and columns. For this example, we will load a `.csv` (comma-separated-values) file that looks like this:\n",
        "```\n",
        "Time_weeks,Penicillin_U\n",
        "0.0,10100\n",
        "1.0,8180\n",
        "2.0,6900\n",
        "3.0,5380\n",
        "4.0,4320\n",
        "5.0,3870\n",
        "7.0,2190\n",
        "8.0,2000\n",
        "9.0,1790\n",
        "10.0,1330\n",
        "11.0,1040\n",
        "12.0,898\n",
        "13.0,750\n",
        "14.0,572\n",
        "15.0,403\n",
        "16.0,403\n",
        "17.0,314\n",
        "18.0,279\n",
        "19.0,181\n",
        "20.0,167\n",
        "```\n",
        "The first row has column labels; the rest are data. We can drag/drop the file into the Jupyter Files sidebar, and tell Pandas to load the data in the file into a data frame. [(See Pandas docs for more.)](https://pandas.pydata.org/pandas-docs/stable/reference/api/pandas.read_table.html)"
      ]
    },
    {
      "cell_type": "code",
      "metadata": {
        "colab": {
          "base_uri": "https://localhost:8080/",
          "height": 677
        },
        "id": "NJZEkhpVyggl",
        "outputId": "5b5be162-d68e-4617-b4de-faf2e2620ed9"
      },
      "source": [
        "# use pandas to load the data from a local file\n",
        "import pandas as pd\n",
        "fname = \"penicillin-data.csv\"\n",
        "df = pd.read_csv(fname) # here, assumes file in current directory\n",
        "df  # show the contents of the data frame"
      ],
      "execution_count": 1,
      "outputs": [
        {
          "output_type": "execute_result",
          "data": {
            "text/plain": [
              "    Time_weeks  Penicillin_U\n",
              "0          0.0         10100\n",
              "1          1.0          8180\n",
              "2          2.0          6900\n",
              "3          3.0          5380\n",
              "4          4.0          4320\n",
              "5          5.0          3870\n",
              "6          7.0          2190\n",
              "7          8.0          2000\n",
              "8          9.0          1790\n",
              "9         10.0          1330\n",
              "10        11.0          1040\n",
              "11        12.0           898\n",
              "12        13.0           750\n",
              "13        14.0           572\n",
              "14        15.0           403\n",
              "15        16.0           403\n",
              "16        17.0           314\n",
              "17        18.0           279\n",
              "18        19.0           181\n",
              "19        20.0           167"
            ],
            "text/html": [
              "\n",
              "  <div id=\"df-81c2b461-04ab-4a50-8ae2-c6596b5f5303\">\n",
              "    <div class=\"colab-df-container\">\n",
              "      <div>\n",
              "<style scoped>\n",
              "    .dataframe tbody tr th:only-of-type {\n",
              "        vertical-align: middle;\n",
              "    }\n",
              "\n",
              "    .dataframe tbody tr th {\n",
              "        vertical-align: top;\n",
              "    }\n",
              "\n",
              "    .dataframe thead th {\n",
              "        text-align: right;\n",
              "    }\n",
              "</style>\n",
              "<table border=\"1\" class=\"dataframe\">\n",
              "  <thead>\n",
              "    <tr style=\"text-align: right;\">\n",
              "      <th></th>\n",
              "      <th>Time_weeks</th>\n",
              "      <th>Penicillin_U</th>\n",
              "    </tr>\n",
              "  </thead>\n",
              "  <tbody>\n",
              "    <tr>\n",
              "      <th>0</th>\n",
              "      <td>0.0</td>\n",
              "      <td>10100</td>\n",
              "    </tr>\n",
              "    <tr>\n",
              "      <th>1</th>\n",
              "      <td>1.0</td>\n",
              "      <td>8180</td>\n",
              "    </tr>\n",
              "    <tr>\n",
              "      <th>2</th>\n",
              "      <td>2.0</td>\n",
              "      <td>6900</td>\n",
              "    </tr>\n",
              "    <tr>\n",
              "      <th>3</th>\n",
              "      <td>3.0</td>\n",
              "      <td>5380</td>\n",
              "    </tr>\n",
              "    <tr>\n",
              "      <th>4</th>\n",
              "      <td>4.0</td>\n",
              "      <td>4320</td>\n",
              "    </tr>\n",
              "    <tr>\n",
              "      <th>5</th>\n",
              "      <td>5.0</td>\n",
              "      <td>3870</td>\n",
              "    </tr>\n",
              "    <tr>\n",
              "      <th>6</th>\n",
              "      <td>7.0</td>\n",
              "      <td>2190</td>\n",
              "    </tr>\n",
              "    <tr>\n",
              "      <th>7</th>\n",
              "      <td>8.0</td>\n",
              "      <td>2000</td>\n",
              "    </tr>\n",
              "    <tr>\n",
              "      <th>8</th>\n",
              "      <td>9.0</td>\n",
              "      <td>1790</td>\n",
              "    </tr>\n",
              "    <tr>\n",
              "      <th>9</th>\n",
              "      <td>10.0</td>\n",
              "      <td>1330</td>\n",
              "    </tr>\n",
              "    <tr>\n",
              "      <th>10</th>\n",
              "      <td>11.0</td>\n",
              "      <td>1040</td>\n",
              "    </tr>\n",
              "    <tr>\n",
              "      <th>11</th>\n",
              "      <td>12.0</td>\n",
              "      <td>898</td>\n",
              "    </tr>\n",
              "    <tr>\n",
              "      <th>12</th>\n",
              "      <td>13.0</td>\n",
              "      <td>750</td>\n",
              "    </tr>\n",
              "    <tr>\n",
              "      <th>13</th>\n",
              "      <td>14.0</td>\n",
              "      <td>572</td>\n",
              "    </tr>\n",
              "    <tr>\n",
              "      <th>14</th>\n",
              "      <td>15.0</td>\n",
              "      <td>403</td>\n",
              "    </tr>\n",
              "    <tr>\n",
              "      <th>15</th>\n",
              "      <td>16.0</td>\n",
              "      <td>403</td>\n",
              "    </tr>\n",
              "    <tr>\n",
              "      <th>16</th>\n",
              "      <td>17.0</td>\n",
              "      <td>314</td>\n",
              "    </tr>\n",
              "    <tr>\n",
              "      <th>17</th>\n",
              "      <td>18.0</td>\n",
              "      <td>279</td>\n",
              "    </tr>\n",
              "    <tr>\n",
              "      <th>18</th>\n",
              "      <td>19.0</td>\n",
              "      <td>181</td>\n",
              "    </tr>\n",
              "    <tr>\n",
              "      <th>19</th>\n",
              "      <td>20.0</td>\n",
              "      <td>167</td>\n",
              "    </tr>\n",
              "  </tbody>\n",
              "</table>\n",
              "</div>\n",
              "      <button class=\"colab-df-convert\" onclick=\"convertToInteractive('df-81c2b461-04ab-4a50-8ae2-c6596b5f5303')\"\n",
              "              title=\"Convert this dataframe to an interactive table.\"\n",
              "              style=\"display:none;\">\n",
              "        \n",
              "  <svg xmlns=\"http://www.w3.org/2000/svg\" height=\"24px\"viewBox=\"0 0 24 24\"\n",
              "       width=\"24px\">\n",
              "    <path d=\"M0 0h24v24H0V0z\" fill=\"none\"/>\n",
              "    <path d=\"M18.56 5.44l.94 2.06.94-2.06 2.06-.94-2.06-.94-.94-2.06-.94 2.06-2.06.94zm-11 1L8.5 8.5l.94-2.06 2.06-.94-2.06-.94L8.5 2.5l-.94 2.06-2.06.94zm10 10l.94 2.06.94-2.06 2.06-.94-2.06-.94-.94-2.06-.94 2.06-2.06.94z\"/><path d=\"M17.41 7.96l-1.37-1.37c-.4-.4-.92-.59-1.43-.59-.52 0-1.04.2-1.43.59L10.3 9.45l-7.72 7.72c-.78.78-.78 2.05 0 2.83L4 21.41c.39.39.9.59 1.41.59.51 0 1.02-.2 1.41-.59l7.78-7.78 2.81-2.81c.8-.78.8-2.07 0-2.86zM5.41 20L4 18.59l7.72-7.72 1.47 1.35L5.41 20z\"/>\n",
              "  </svg>\n",
              "      </button>\n",
              "      \n",
              "  <style>\n",
              "    .colab-df-container {\n",
              "      display:flex;\n",
              "      flex-wrap:wrap;\n",
              "      gap: 12px;\n",
              "    }\n",
              "\n",
              "    .colab-df-convert {\n",
              "      background-color: #E8F0FE;\n",
              "      border: none;\n",
              "      border-radius: 50%;\n",
              "      cursor: pointer;\n",
              "      display: none;\n",
              "      fill: #1967D2;\n",
              "      height: 32px;\n",
              "      padding: 0 0 0 0;\n",
              "      width: 32px;\n",
              "    }\n",
              "\n",
              "    .colab-df-convert:hover {\n",
              "      background-color: #E2EBFA;\n",
              "      box-shadow: 0px 1px 2px rgba(60, 64, 67, 0.3), 0px 1px 3px 1px rgba(60, 64, 67, 0.15);\n",
              "      fill: #174EA6;\n",
              "    }\n",
              "\n",
              "    [theme=dark] .colab-df-convert {\n",
              "      background-color: #3B4455;\n",
              "      fill: #D2E3FC;\n",
              "    }\n",
              "\n",
              "    [theme=dark] .colab-df-convert:hover {\n",
              "      background-color: #434B5C;\n",
              "      box-shadow: 0px 1px 3px 1px rgba(0, 0, 0, 0.15);\n",
              "      filter: drop-shadow(0px 1px 2px rgba(0, 0, 0, 0.3));\n",
              "      fill: #FFFFFF;\n",
              "    }\n",
              "  </style>\n",
              "\n",
              "      <script>\n",
              "        const buttonEl =\n",
              "          document.querySelector('#df-81c2b461-04ab-4a50-8ae2-c6596b5f5303 button.colab-df-convert');\n",
              "        buttonEl.style.display =\n",
              "          google.colab.kernel.accessAllowed ? 'block' : 'none';\n",
              "\n",
              "        async function convertToInteractive(key) {\n",
              "          const element = document.querySelector('#df-81c2b461-04ab-4a50-8ae2-c6596b5f5303');\n",
              "          const dataTable =\n",
              "            await google.colab.kernel.invokeFunction('convertToInteractive',\n",
              "                                                     [key], {});\n",
              "          if (!dataTable) return;\n",
              "\n",
              "          const docLinkHtml = 'Like what you see? Visit the ' +\n",
              "            '<a target=\"_blank\" href=https://colab.research.google.com/notebooks/data_table.ipynb>data table notebook</a>'\n",
              "            + ' to learn more about interactive tables.';\n",
              "          element.innerHTML = '';\n",
              "          dataTable['output_type'] = 'display_data';\n",
              "          await google.colab.output.renderOutput(dataTable, element);\n",
              "          const docLink = document.createElement('div');\n",
              "          docLink.innerHTML = docLinkHtml;\n",
              "          element.appendChild(docLink);\n",
              "        }\n",
              "      </script>\n",
              "    </div>\n",
              "  </div>\n",
              "  "
            ]
          },
          "metadata": {},
          "execution_count": 1
        }
      ]
    },
    {
      "cell_type": "code",
      "metadata": {
        "id": "sm0ySEubw7u9"
      },
      "source": [
        "# Alternatively, uncomment the following to define the data here\n",
        "#import numpy as np\n",
        "#import pandas as pd\n",
        "#xdata = np.array([0.0, 1.0, 2.0, 3.0, 4.0, 5.0, 7.0, 8.0, 9.0, 10.0, 11.0, 12.0, 13.0, 14.0, 15.0, 16.0, 17.0, 18.0, 19.0, 20.0])\n",
        "#ydata = np.array([10100, 8180, 6900, 5380, 4320, 3870, 2190, 2000, 1790, 1330, 1040, 898, 750, 572, 403, 403, 314, 279, 181, 167])\n",
        "#d = {'Time_weeks': xdata, 'Penicillin_U': ydata}\n",
        "#df = pd.DataFrame(data=d)\n",
        "#df\n",
        "# ^^^\n",
        "# It is not required to use a pandas df, but there are benefits, and the \n",
        "# rest of the tutorial assumes we've placed our data in one.  \n",
        "# We could have just defined our xdata and ydata and proceeded"
      ],
      "execution_count": 2,
      "outputs": []
    },
    {
      "cell_type": "code",
      "metadata": {
        "id": "0aM26Pua0957"
      },
      "source": [
        "# read the data from the df into variables\n",
        "xdata = df['Time_weeks']\n",
        "ydata = df['Penicillin_U']"
      ],
      "execution_count": 3,
      "outputs": []
    },
    {
      "cell_type": "markdown",
      "metadata": {
        "id": "Lrm7uBrReLwj"
      },
      "source": [
        "and... plot the data:"
      ]
    },
    {
      "cell_type": "code",
      "metadata": {
        "colab": {
          "base_uri": "https://localhost:8080/",
          "height": 300
        },
        "id": "aS8jEKNa1U_n",
        "outputId": "8fae8b20-5826-4a36-a8b4-9f98e9f9e0a3"
      },
      "source": [
        "import matplotlib.pyplot as plt\n",
        "plt.style.use('ggplot') # one of many available plot styles\n",
        "plt.plot(xdata, ydata, 'o') # plot the data using a scatter plot\n",
        "plt.xlabel('Time / weeks'); plt.ylabel('Penicillin Units')"
      ],
      "execution_count": 4,
      "outputs": [
        {
          "output_type": "execute_result",
          "data": {
            "text/plain": [
              "Text(0, 0.5, 'Penicillin Units')"
            ]
          },
          "metadata": {},
          "execution_count": 4
        },
        {
          "output_type": "display_data",
          "data": {
            "text/plain": [
              "<Figure size 432x288 with 1 Axes>"
            ],
            "image/png": "[encoded data removed]"
          },
          "metadata": {}
        }
      ]
    },
    {
      "cell_type": "markdown",
      "metadata": {
        "id": "T_HHtk1rVdGF"
      },
      "source": [
        "## Fitting to a model\n",
        "We've hypothesized that the data can be described by a first-order kinetic process, whose integrated form is:\n",
        "\n",
        "$$[A]=[A_0]e^{-kt}$$\n",
        "\n",
        "where $[A_0]$ the value of [A] at time $t = 0$, and $k$ is the first order rate constant. We see from the data that $[A_0]= 10,100$. We just need a value of $k$ that best explains the data."
      ]
    },
    {
      "cell_type": "markdown",
      "metadata": {
        "id": "9-EoONdWIA2j"
      },
      "source": [
        "We will write out the integrated rate equation in a form that Python will understand. We will do this in the form of a _function_, so we can call and re-use the function by name; e.g., the square root function `sqrt()`."
      ]
    },
    {
      "cell_type": "code",
      "metadata": {
        "id": "tIRPk9I1aoT3"
      },
      "source": [
        "# We define functions for integrated kinetic rate laws\n",
        "\n",
        "import numpy as np\n",
        "  \n",
        "def decay_1p(x,k):\n",
        "  # one-parameter exponential decay, with rate constant k\n",
        "  return np.exp(-k*x)\n",
        "\n",
        "def decay_2p(x,k,A):\n",
        "  # two-parameter exponential decay, with amplitude A\n",
        "  return A*np.exp(-x*k)\n",
        "\n",
        "def decay_3p(x,k,A,C):\n",
        "  # three-parameter exponential decay, rate const k, amplitude A and offset C\n",
        "  return A*np.exp(-x*k) + C\n",
        "\n",
        "def biphasic(x,k1,A1,k2,A2): # two rate constants, two amplitudes\n",
        "  return A1*np.exp(-x*k1)+A2*np.exp(-x*k2)\n",
        "\n",
        "def biphasic_offset(x,k1,A1,k2,A2,C): # two rate constants, two amplitudes + C\n",
        "  return A1*np.exp(-x*k1)+A2*np.exp(-x*k2)+C\n",
        "\n",
        "def sec_order_1(t,a0,k): # 2a -> c \n",
        "    return a0/(a0*k*t+1)\n",
        "\n",
        "def sec_order_2(t,a0,b0,k): # a + b -> c\n",
        "    return a0*b0*(np.exp(k*t*(a0 - b0)) - 1)/(a0*np.exp(k*t*(a0 - b0)) - b0)"
      ],
      "execution_count": 5,
      "outputs": []
    },
    {
      "cell_type": "markdown",
      "metadata": {
        "id": "Jh059lqBeFpj"
      },
      "source": [
        "Having defined a function, we need to define/guess some initial parameters for the model, then plot the model along with the data to see how well it agrees."
      ]
    },
    {
      "cell_type": "code",
      "metadata": {
        "colab": {
          "base_uri": "https://localhost:8080/",
          "height": 282
        },
        "id": "wzEeuQRRcjca",
        "outputId": "da575b18-d289-489f-8ed3-e7e9d9d2e6b6"
      },
      "source": [
        "a0=10100 # activity at t=0\n",
        "k = 1 # 1 is often a good starting point for an unknown\n",
        "# calculate y values using our model parameters:\n",
        "calc_y = decay_2p(xdata, k, a0) # 1st-order decay y = a0*exp(-k*x)\n",
        "# now plot the data and calculated values against the same x values:\n",
        "plt.plot(xdata, ydata,'o', label='data')\n",
        "plt.plot(xdata, calc_y, label='model, k: %g' %k)\n",
        "plt.xlabel('time / weeks'); plt.ylabel('Penicillin Units')\n",
        "plt.legend(); plt.show()"
      ],
      "execution_count": 6,
      "outputs": [
        {
          "output_type": "display_data",
          "data": {
            "text/plain": [
              "<Figure size 432x288 with 1 Axes>"
            ],
            "image/png": "[encoded data removed]"
          },
          "metadata": {}
        }
      ]
    },
    {
      "cell_type": "markdown",
      "metadata": {
        "id": "mwo9WYlTzprl"
      },
      "source": [
        "We evaluate the goodness of fit by computing a chi-square ($\\chi^2$), the squared sum of the residual differences between the data ($y$ values) and the model evaluated at each $x$ value, $f(x)$:\n",
        "$$\\chi^2 =  \\sum_i\\left(y(x)-f(x)\\right)^2 = \\sum_i (residuals)^2$$\n"
      ]
    },
    {
      "cell_type": "code",
      "metadata": {
        "colab": {
          "base_uri": "https://localhost:8080/",
          "height": 361
        },
        "id": "ac0N3Ezi1aZC",
        "outputId": "4d764c9b-e13f-45bd-fde0-ce3827064555"
      },
      "source": [
        "residuals = ydata - calc_y\n",
        "plt.stem(xdata,residuals)\n",
        "plt.xlabel('time / weeks'); plt.ylabel('Residuals')\n",
        "plt.title('$\\chi^2$ = %.2f' % (sum(residuals))**2 )\n",
        "plt.show()"
      ],
      "execution_count": 7,
      "outputs": [
        {
          "output_type": "stream",
          "name": "stderr",
          "text": [
            "/usr/local/lib/python3.7/dist-packages/ipykernel_launcher.py:2: UserWarning: In Matplotlib 3.3 individual lines on a stem plot will be added as a LineCollection instead of individual lines. This significantly improves the performance of a stem plot. To remove this warning and switch to the new behaviour, set the \"use_line_collection\" keyword argument to True.\n",
            "  \n"
          ]
        },
        {
          "output_type": "display_data",
          "data": {
            "text/plain": [
              "<Figure size 432x288 with 1 Axes>"
            ],
            "image/png": "[encoded data removed]"
          },
          "metadata": {}
        }
      ]
    },
    {
      "cell_type": "markdown",
      "metadata": {
        "id": "wxqUDIAhkoi9"
      },
      "source": [
        "*Fitting* involves finding model parameters that minimize the difference between the data and the model. Because an exponential decay equation  is not a straight line, we call this non-linear curve fitting.\n",
        "\n",
        "There are many algorithms and packages for curve fitting; here we use Scipy curve_fit:"
      ]
    },
    {
      "cell_type": "code",
      "metadata": {
        "colab": {
          "base_uri": "https://localhost:8080/",
          "height": 337
        },
        "id": "dqvql4sCkqZf",
        "outputId": "366815e3-96b8-4244-9d2f-c2466ef2be8f"
      },
      "source": [
        "from scipy.optimize import curve_fit\n",
        "'''\n",
        "<function: scipy.optimize.minpack.curve_fit(f, xdata, ydata, p0=None, sigma=None, absolute_sigma=False, \n",
        "    check_finite=True, bounds=(-inf, inf), method=None, jac=None, **kwargs)>\n",
        "\n",
        "for scipy's curve_fit function: we need to at least provide the function f, and x and y data.\n",
        "we could provide initial parameters via the list p0\n",
        "'''\n",
        "# specify the function to be used to generate model data\n",
        "f = decay_2p # y = a0*exp(-k*x)\n",
        "xdata = df['Time_weeks']\n",
        "ydata = df['Penicillin_U']\n",
        "p0 = 1,1e4 # optionally, provide starting parameters\n",
        "# run, and return parameter best-fit and covariation:\n",
        "popt,pcov = curve_fit(f,xdata,ydata, p0 = p0) \n",
        "print(\"Optimized parameters:\", popt)\n",
        "print(\"Covariance matrix:\", pcov)\n",
        "# Compute Standard errors:\n",
        "perr = np.sqrt(np.diag(pcov)) # square root of matrix diagonal\n",
        "# Always, always, visualize the fit before the trusting parameters:\n",
        "calc_data = f(xdata,*popt) # evaluate the function f with the optimized params \n",
        "plt.plot(xdata,ydata,'o')\n",
        "plt.plot(xdata,calc_data, label='Best-fit k: %.3f ± %.3f / week' % (popt[0], perr[0]))\n",
        "plt.xlabel('Time / Weeks'); plt.ylabel('Activity')\n",
        "plt.legend(); plt.show()"
      ],
      "execution_count": 8,
      "outputs": [
        {
          "output_type": "stream",
          "name": "stdout",
          "text": [
            "Optimized parameters: [2.03622120e-01 1.00997015e+04]\n",
            "Covariance matrix: [[7.31093451e-06 1.37719688e-01]\n",
            " [1.37719688e-01 6.72599479e+03]]\n"
          ]
        },
        {
          "output_type": "display_data",
          "data": {
            "text/plain": [
              "<Figure size 432x288 with 1 Axes>"
            ],
            "image/png": "[encoded data removed]"
          },
          "metadata": {}
        }
      ]
    },
    {
      "cell_type": "markdown",
      "metadata": {
        "id": "imk0cClGpZcK"
      },
      "source": [
        "When we are satisfied with the agreement between model and data, we have found the _best-fit parameters of the model_."
      ]
    },
    {
      "cell_type": "code",
      "metadata": {
        "colab": {
          "base_uri": "https://localhost:8080/",
          "height": 361
        },
        "id": "d-yVDwwhpVXc",
        "outputId": "56bd1051-ed74-46f8-ca3f-daf2481899ee"
      },
      "source": [
        "residuals = ydata - calc_data\n",
        "plt.stem(xdata,residuals)\n",
        "plt.xlabel('time / weeks'); plt.ylabel('Residuals')\n",
        "plt.title('$\\chi^2$ = %.2f' % (sum(residuals))**2 )\n",
        "plt.show()"
      ],
      "execution_count": 9,
      "outputs": [
        {
          "output_type": "stream",
          "name": "stderr",
          "text": [
            "/usr/local/lib/python3.7/dist-packages/ipykernel_launcher.py:2: UserWarning: In Matplotlib 3.3 individual lines on a stem plot will be added as a LineCollection instead of individual lines. This significantly improves the performance of a stem plot. To remove this warning and switch to the new behaviour, set the \"use_line_collection\" keyword argument to True.\n",
            "  \n"
          ]
        },
        {
          "output_type": "display_data",
          "data": {
            "text/plain": [
              "<Figure size 432x288 with 1 Axes>"
            ],
            "image/png": "[encoded data removed]"
          },
          "metadata": {}
        }
      ]
    },
    {
      "cell_type": "code",
      "metadata": {
        "colab": {
          "base_uri": "https://localhost:8080/"
        },
        "id": "3K3pmqGevFqD",
        "outputId": "1539decf-fb18-406e-a347-d49d6e1af2ea"
      },
      "source": [
        "# Standard deviation estimate:\n",
        "perr = np.sqrt(np.diag(pcov))\n",
        "perr"
      ],
      "execution_count": 10,
      "outputs": [
        {
          "output_type": "execute_result",
          "data": {
            "text/plain": [
              "array([2.70387398e-03, 8.20121625e+01])"
            ]
          },
          "metadata": {},
          "execution_count": 10
        }
      ]
    },
    {
      "cell_type": "markdown",
      "metadata": {
        "id": "4dNCKO0PcXKb"
      },
      "source": [
        "## The `lmfit` package\n",
        "Fitting involves finding parameters that generate a **best fit** between the _data_ and the _model_. Because the Hill equation model is not a straight line, we call this _non-linear curve fitting_. (The mathematics for linear regression is much more straightforward.)\n",
        "\n",
        "There's more than one way to perform nonlinear fitting in python, and here we use the `lmfit` package https://lmfit.github.io/lmfit-py/ to generate the model and perfom fitting. `lmfit` has some nice features but is not a standard package in most python installations (it is built on other standard packages, especially `numpy` and `scipy`), and therefore needs to be installed (esp. for use in Colab). From a Jupyter Notebook, packaged installation can often be accomplished using [`pip`, the package installer for Python](https://pypi.org/project/pip/), which will search online databases for named packages, and install them if possible:\n",
        "```\n",
        ">>> !pip install lmfit\n",
        "```\n"
      ]
    },
    {
      "cell_type": "code",
      "metadata": {
        "id": "E0NReY51yngk",
        "colab": {
          "base_uri": "https://localhost:8080/"
        },
        "outputId": "ff064e50-84f6-4d40-f964-4101a5d22385"
      },
      "source": [
        "# install lmfit\n",
        "!pip install lmfit"
      ],
      "execution_count": 11,
      "outputs": [
        {
          "output_type": "stream",
          "name": "stdout",
          "text": [
            "Looking in indexes: https://pypi.org/simple, https://us-python.pkg.dev/colab-wheels/public/simple/\n",
            "Requirement already satisfied: lmfit in /usr/local/lib/python3.7/dist-packages (1.0.3)\n",
            "Requirement already satisfied: asteval>=0.9.22 in /usr/local/lib/python3.7/dist-packages (from lmfit) (0.9.27)\n",
            "Requirement already satisfied: uncertainties>=3.0.1 in /usr/local/lib/python3.7/dist-packages (from lmfit) (3.1.7)\n",
            "Requirement already satisfied: scipy>=1.4 in /usr/local/lib/python3.7/dist-packages (from lmfit) (1.7.3)\n",
            "Requirement already satisfied: numpy>=1.18 in /usr/local/lib/python3.7/dist-packages (from lmfit) (1.21.6)\n",
            "Requirement already satisfied: importlib-metadata in /usr/local/lib/python3.7/dist-packages (from asteval>=0.9.22->lmfit) (4.13.0)\n",
            "Requirement already satisfied: future in /usr/local/lib/python3.7/dist-packages (from uncertainties>=3.0.1->lmfit) (0.16.0)\n",
            "Requirement already satisfied: zipp>=0.5 in /usr/local/lib/python3.7/dist-packages (from importlib-metadata->asteval>=0.9.22->lmfit) (3.10.0)\n",
            "Requirement already satisfied: typing-extensions>=3.6.4 in /usr/local/lib/python3.7/dist-packages (from importlib-metadata->asteval>=0.9.22->lmfit) (4.1.1)\n"
          ]
        }
      ]
    },
    {
      "cell_type": "markdown",
      "metadata": {
        "id": "ntuHLcafJOhW"
      },
      "source": [
        "To fit the data with the model, we have to define a _fitting object_ that is programmed with the mathematical model (here, the Hill equation), and parameters are independent (not to be optimized)."
      ]
    },
    {
      "cell_type": "code",
      "metadata": {
        "colab": {
          "base_uri": "https://localhost:8080/",
          "height": 416
        },
        "id": "PX1STDWLc_iO",
        "outputId": "95fcd934-414b-4867-a80e-d7e6dfbc178e"
      },
      "source": [
        "from lmfit import Model #, Parameter, report_fit  # import the desired components\n",
        "xdata = df['Time_weeks']\n",
        "ydata = df['Penicillin_U']\n",
        "dmodel = Model(decay_2p, independent_vars=['x']) # y = a0*exp(-k*x)\n",
        "params = dmodel.make_params()\n",
        "params.add('A', value=10100, vary=False) # don't optimize A0\n",
        "result = dmodel.fit(ydata, params, x=xdata, k=1, A=10100) # do the fit\n",
        "# ^^ here we guess some starting values, perform fit and store result ...\n",
        "# ... in a Python oject called 'result'\n",
        "result # output the contents of the result object"
      ],
      "execution_count": 12,
      "outputs": [
        {
          "output_type": "execute_result",
          "data": {
            "text/plain": [
              "<lmfit.model.ModelResult at 0x7f5600881c10>"
            ],
            "text/html": [
              "<h2> Model</h2> Model(decay_2p) <h2>Fit Statistics</h2><table><tr><td>fitting method</td><td>leastsq</td><td></td></tr><tr><td># function evals</td><td>16</td><td></td></tr><tr><td># data points</td><td>20</td><td></td></tr><tr><td># variables</td><td>1</td><td></td></tr><tr><td>chi-square</td><td> 215819.214</td><td></td></tr><tr><td>reduced chi-square</td><td> 11358.9060</td><td></td></tr><tr><td>Akaike info crit.</td><td> 187.729282</td><td></td></tr><tr><td>Bayesian info crit.</td><td> 188.725014</td><td></td></tr></table><h2>Variables</h2><table><tr><th> name </th><th> value </th><th> standard error </th><th> relative error </th><th> initial value </th><th> min </th><th> max </th><th> vary </th></tr><tr><td> k </td><td>  0.20362823 </td><td>  0.00206271 </td><td> (1.01%) </td><td> 1 </td><td>        -inf </td><td>         inf </td><td> True </td></tr><tr><td> A </td><td>  10100.0000 </td><td>  0.00000000 </td><td> (0.00%) </td><td> 10100 </td><td>        -inf </td><td>         inf </td><td> False </td></tr></table>"
            ]
          },
          "metadata": {},
          "execution_count": 12
        }
      ]
    },
    {
      "cell_type": "markdown",
      "metadata": {
        "id": "LihKXtQsfTyH"
      },
      "source": [
        "Next, we plot the data, along with the best-fit model, and the residuals; ALWAYS visually inspect the data, fit and residuals before interpreting parameters."
      ]
    },
    {
      "cell_type": "code",
      "metadata": {
        "colab": {
          "base_uri": "https://localhost:8080/",
          "height": 408
        },
        "id": "pkwv86D6gYLK",
        "outputId": "4a294d6a-1f94-4783-9b76-7d217364739b"
      },
      "source": [
        "result.plot(numpoints=100, show_init=True) # numpoints for the best fit curve \n",
        "plt.show()"
      ],
      "execution_count": 13,
      "outputs": [
        {
          "output_type": "display_data",
          "data": {
            "text/plain": [
              "<Figure size 432x432 with 2 Axes>"
            ],
            "image/png": "[encoded data removed]"
          },
          "metadata": {}
        }
      ]
    },
    {
      "cell_type": "markdown",
      "metadata": {
        "id": "SRD2W-y1bC82"
      },
      "source": [
        "The best-fit parameters and other statistics are printed above, and can be individually accessed by name:"
      ]
    },
    {
      "cell_type": "code",
      "metadata": {
        "colab": {
          "base_uri": "https://localhost:8080/"
        },
        "id": "9KJVTfvCWb7y",
        "outputId": "e21a5530-fd36-42b2-f53f-831ca718792d"
      },
      "source": [
        "print(f'Best-fit k: {result.params[\"k\"].value:.3f}')"
      ],
      "execution_count": 14,
      "outputs": [
        {
          "output_type": "stream",
          "name": "stdout",
          "text": [
            "Best-fit k: 0.204\n"
          ]
        }
      ]
    },
    {
      "cell_type": "markdown",
      "metadata": {
        "id": "grgD17bW6W2g"
      },
      "source": [
        "If desired, we can append to the dataframe the initial values, best-fit, and residuals of the fit:"
      ]
    },
    {
      "cell_type": "code",
      "metadata": {
        "id": "PGfMwSXUVEh7"
      },
      "source": [
        "df['init'] = result.init_fit\n",
        "df['best'] = result.best_fit\n",
        "df['residuals'] = result.residual\n",
        "df.head()\n",
        "# export df to a new csv file\n",
        "df.to_csv('output.csv')"
      ],
      "execution_count": 15,
      "outputs": []
    },
    {
      "cell_type": "code",
      "metadata": {
        "colab": {
          "base_uri": "https://localhost:8080/",
          "height": 300
        },
        "id": "jsvoIrQkW_yy",
        "outputId": "39cc9e6c-508d-4336-b6e9-da0ee66a735f"
      },
      "source": [
        "# shortcut to plotting data in the df (if created)\n",
        "df.plot(x='Time_weeks', y=['Penicillin_U','best','init','residuals'])"
      ],
      "execution_count": 16,
      "outputs": [
        {
          "output_type": "execute_result",
          "data": {
            "text/plain": [
              "<matplotlib.axes._subplots.AxesSubplot at 0x7f55fdf1ba90>"
            ]
          },
          "metadata": {},
          "execution_count": 16
        },
        {
          "output_type": "display_data",
          "data": {
            "text/plain": [
              "<Figure size 432x288 with 1 Axes>"
            ],
            "image/png": "[encoded data removed]"
          },
          "metadata": {}
        }
      ]
    }
  ]
}