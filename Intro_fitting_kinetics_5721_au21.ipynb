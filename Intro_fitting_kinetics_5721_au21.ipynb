{
  "nbformat": 4,
  "nbformat_minor": 0,
  "metadata": {
    "colab": {
      "name": "Intro_fitting_kinetics_5721-au21.ipynb",
      "provenance": [],
      "collapsed_sections": [],
      "include_colab_link": true
    },
    "kernelspec": {
      "display_name": "Python 3",
      "language": "python",
      "name": "python3"
    },
    "language_info": {
      "codemirror_mode": {
        "name": "ipython",
        "version": 3
      },
      "file_extension": ".py",
      "mimetype": "text/x-python",
      "name": "python",
      "nbconvert_exporter": "python",
      "pygments_lexer": "ipython3",
      "version": "3.9.1"
    }
  },
  "cells": [
    {
      "cell_type": "markdown",
      "metadata": {
        "id": "view-in-github",
        "colab_type": "text"
      },
      "source": [
        "<a href=\"https://colab.research.google.com/github/mpfoster/Biochem5721/blob/master/Intro_fitting_kinetics_5721_au21.ipynb\" target=\"_parent\"><img src=\"https://colab.research.google.com/assets/colab-badge.svg\" alt=\"Open In Colab\"/></a>"
      ]
    },
    {
      "cell_type": "markdown",
      "metadata": {
        "id": "7KCUG_b4FRTu"
      },
      "source": [
        "# Introduction to data fitting in Python for Biochem 5721 - AU21; Foster\n",
        "This notebook is intended to serve as a tutorial guide for introducing students to data fitting in Python. It is by no means a complete description of capabilities or possibilities for data analysis in Python, but hopefully provides some useful guides and examples. \n",
        "\n",
        "Have fun! 2021-11-07 MPF"
      ]
    },
    {
      "cell_type": "markdown",
      "metadata": {
        "id": "qALsW8XAgwaa"
      },
      "source": [
        "## Data fitting with Python, using Matplotlib and Pandas\n",
        "We will start with data for the first-order decomposition of penicillin during storage at 25°C. The data can be loaded from a file, or entered as lists of $x$ and $y$ values. We will read the values from a _.csv_ (comma separated values) file available on Carmen/Canvas"
      ]
    },
    {
      "cell_type": "markdown",
      "metadata": {
        "id": "fSe_Gli9SUjT"
      },
      "source": [
        "We will read in the data using the `pandas` package, https://pandas.pydata.org/. Pandas simplifies loading tabular data into a \"data frame\"; basically a table with rows and columns. For this example, we will load a `.csv` (comma-separated-values) file that looks like this:\n",
        "```\n",
        "Time_weeks,Penicillin_U\n",
        "0.0,10100\n",
        "1.0,8180\n",
        "2.0,6900\n",
        "3.0,5380\n",
        "4.0,4320\n",
        "5.0,3870\n",
        "7.0,2190\n",
        "8.0,2000\n",
        "9.0,1790\n",
        "10.0,1330\n",
        "11.0,1040\n",
        "12.0,898\n",
        "13.0,750\n",
        "14.0,572\n",
        "15.0,403\n",
        "16.0,403\n",
        "17.0,314\n",
        "18.0,279\n",
        "19.0,181\n",
        "20.0,167\n",
        "```\n",
        "The first row has column labels; the rest are data. We can drag/drop the file into the Jupter file window, tell Pandas to load the data in the file into a data frame. [(See Pandas docs.)](https://pandas.pydata.org/pandas-docs/stable/reference/api/pandas.read_table.html)"
      ]
    },
    {
      "cell_type": "code",
      "metadata": {
        "colab": {
          "base_uri": "https://localhost:8080/",
          "height": 677
        },
        "id": "NJZEkhpVyggl",
        "outputId": "9bd50d04-535b-4c2d-d016-be980b30af0f"
      },
      "source": [
        "# use pandas to load the data from a local file\n",
        "import pandas as pd\n",
        "df = pd.read_csv(\"penicillin-data.csv\") # here, assumes file in current directory\n",
        "df  # print out the data frame"
      ],
      "execution_count": 1,
      "outputs": [
        {
          "output_type": "execute_result",
          "data": {
            "text/html": [
              "<div>\n",
              "<style scoped>\n",
              "    .dataframe tbody tr th:only-of-type {\n",
              "        vertical-align: middle;\n",
              "    }\n",
              "\n",
              "    .dataframe tbody tr th {\n",
              "        vertical-align: top;\n",
              "    }\n",
              "\n",
              "    .dataframe thead th {\n",
              "        text-align: right;\n",
              "    }\n",
              "</style>\n",
              "<table border=\"1\" class=\"dataframe\">\n",
              "  <thead>\n",
              "    <tr style=\"text-align: right;\">\n",
              "      <th></th>\n",
              "      <th>Time_weeks</th>\n",
              "      <th>Penicillin_U</th>\n",
              "    </tr>\n",
              "  </thead>\n",
              "  <tbody>\n",
              "    <tr>\n",
              "      <th>0</th>\n",
              "      <td>0.0</td>\n",
              "      <td>10100</td>\n",
              "    </tr>\n",
              "    <tr>\n",
              "      <th>1</th>\n",
              "      <td>1.0</td>\n",
              "      <td>8180</td>\n",
              "    </tr>\n",
              "    <tr>\n",
              "      <th>2</th>\n",
              "      <td>2.0</td>\n",
              "      <td>6900</td>\n",
              "    </tr>\n",
              "    <tr>\n",
              "      <th>3</th>\n",
              "      <td>3.0</td>\n",
              "      <td>5380</td>\n",
              "    </tr>\n",
              "    <tr>\n",
              "      <th>4</th>\n",
              "      <td>4.0</td>\n",
              "      <td>4320</td>\n",
              "    </tr>\n",
              "    <tr>\n",
              "      <th>5</th>\n",
              "      <td>5.0</td>\n",
              "      <td>3870</td>\n",
              "    </tr>\n",
              "    <tr>\n",
              "      <th>6</th>\n",
              "      <td>7.0</td>\n",
              "      <td>2190</td>\n",
              "    </tr>\n",
              "    <tr>\n",
              "      <th>7</th>\n",
              "      <td>8.0</td>\n",
              "      <td>2000</td>\n",
              "    </tr>\n",
              "    <tr>\n",
              "      <th>8</th>\n",
              "      <td>9.0</td>\n",
              "      <td>1790</td>\n",
              "    </tr>\n",
              "    <tr>\n",
              "      <th>9</th>\n",
              "      <td>10.0</td>\n",
              "      <td>1330</td>\n",
              "    </tr>\n",
              "    <tr>\n",
              "      <th>10</th>\n",
              "      <td>11.0</td>\n",
              "      <td>1040</td>\n",
              "    </tr>\n",
              "    <tr>\n",
              "      <th>11</th>\n",
              "      <td>12.0</td>\n",
              "      <td>898</td>\n",
              "    </tr>\n",
              "    <tr>\n",
              "      <th>12</th>\n",
              "      <td>13.0</td>\n",
              "      <td>750</td>\n",
              "    </tr>\n",
              "    <tr>\n",
              "      <th>13</th>\n",
              "      <td>14.0</td>\n",
              "      <td>572</td>\n",
              "    </tr>\n",
              "    <tr>\n",
              "      <th>14</th>\n",
              "      <td>15.0</td>\n",
              "      <td>403</td>\n",
              "    </tr>\n",
              "    <tr>\n",
              "      <th>15</th>\n",
              "      <td>16.0</td>\n",
              "      <td>403</td>\n",
              "    </tr>\n",
              "    <tr>\n",
              "      <th>16</th>\n",
              "      <td>17.0</td>\n",
              "      <td>314</td>\n",
              "    </tr>\n",
              "    <tr>\n",
              "      <th>17</th>\n",
              "      <td>18.0</td>\n",
              "      <td>279</td>\n",
              "    </tr>\n",
              "    <tr>\n",
              "      <th>18</th>\n",
              "      <td>19.0</td>\n",
              "      <td>181</td>\n",
              "    </tr>\n",
              "    <tr>\n",
              "      <th>19</th>\n",
              "      <td>20.0</td>\n",
              "      <td>167</td>\n",
              "    </tr>\n",
              "  </tbody>\n",
              "</table>\n",
              "</div>"
            ],
            "text/plain": [
              "    Time_weeks  Penicillin_U\n",
              "0          0.0         10100\n",
              "1          1.0          8180\n",
              "2          2.0          6900\n",
              "3          3.0          5380\n",
              "4          4.0          4320\n",
              "5          5.0          3870\n",
              "6          7.0          2190\n",
              "7          8.0          2000\n",
              "8          9.0          1790\n",
              "9         10.0          1330\n",
              "10        11.0          1040\n",
              "11        12.0           898\n",
              "12        13.0           750\n",
              "13        14.0           572\n",
              "14        15.0           403\n",
              "15        16.0           403\n",
              "16        17.0           314\n",
              "17        18.0           279\n",
              "18        19.0           181\n",
              "19        20.0           167"
            ]
          },
          "metadata": {},
          "execution_count": 1
        }
      ]
    },
    {
      "cell_type": "code",
      "metadata": {
        "id": "0aM26Pua0957"
      },
      "source": [
        "Penicillin_U = list(df['Penicillin_U'])\n",
        "Time_weeks = list(df['Time_weeks'])"
      ],
      "execution_count": 2,
      "outputs": []
    },
    {
      "cell_type": "code",
      "metadata": {
        "id": "sm0ySEubw7u9"
      },
      "source": [
        "# Alternatively, uncomment the next two lines to define the data\n",
        "#Time_weeks =  [0.0, 1.0, 2.0, 3.0, 4.0, 5.0, 7.0, 8.0, 9.0, 10.0, 11.0, 12.0, 13.0, 14.0, 15.0, 16.0, 17.0, 18.0, 19.0, 20.0]\n",
        "#Penicillin_U =  [10100, 8180, 6900, 5380, 4320, 3870, 2190, 2000, 1790, 1330, 1040, 898, 750, 572, 403, 403, 314, 279, 181, 167]"
      ],
      "execution_count": 3,
      "outputs": []
    },
    {
      "cell_type": "markdown",
      "metadata": {
        "id": "Lrm7uBrReLwj"
      },
      "source": [
        "and... plot the data:"
      ]
    },
    {
      "cell_type": "code",
      "metadata": {
        "colab": {
          "base_uri": "https://localhost:8080/",
          "height": 300
        },
        "id": "aS8jEKNa1U_n",
        "outputId": "781ffbc7-b959-4482-8c10-74804aff0d6e"
      },
      "source": [
        "import matplotlib.pyplot as plt\n",
        "plt.style.use('ggplot') # one of many available plot styles\n",
        "plt.plot(Time_weeks, Penicillin_U, 'o') # plot the data using a scatter plot\n",
        "plt.xlabel('Time / weeks'); plt.ylabel('Penicillin Units')"
      ],
      "execution_count": 19,
      "outputs": [
        {
          "output_type": "execute_result",
          "data": {
            "text/plain": [
              "Text(0, 0.5, 'Penicillin Units')"
            ]
          },
          "metadata": {},
          "execution_count": 19
        },
        {
          "output_type": "display_data",
          "data": {
            "image/png": "[encoded data removed]",
            "text/plain": [
              "<Figure size 432x288 with 1 Axes>"
            ]
          },
          "metadata": {}
        }
      ]
    },
    {
      "cell_type": "markdown",
      "metadata": {
        "id": "T_HHtk1rVdGF"
      },
      "source": [
        "## Fitting to a model\n",
        "We've hypothesized that the data can be described by a first-order kinetic process, whose integrated form is:\n",
        "\n",
        "$$[A]=[A_0]e^{-kt}$$\n",
        "\n",
        "where $[A_0]$ the value of [A] at time $t = 0$, and $k$ is the first order rate constant. We see from the data that $[A_0]= 10,100$. We just need a value of $k$ that best explains the data."
      ]
    },
    {
      "cell_type": "markdown",
      "metadata": {
        "id": "9-EoONdWIA2j"
      },
      "source": [
        "We will write out the integrated rate equation in a form that Python will understand. We will do this in the form of a _function_, so we can call and re-use the function by name; e.g., the square root function `sqrt()`."
      ]
    },
    {
      "cell_type": "code",
      "metadata": {
        "id": "tIRPk9I1aoT3"
      },
      "source": [
        "# Let's define some functions for fitting exponential decay data\n",
        "\n",
        "import numpy as np\n",
        "  \n",
        "def decay_1p(x,k):\n",
        "  # one-parameter exponential decay, with rate constant k\n",
        "  return np.exp(-k*x)\n",
        "\n",
        "def decay_2p(x,k,A):\n",
        "  # two-parameters exponential decay, with amplitude A\n",
        "  return A*np.exp(-x*k)\n",
        "\n",
        "def decay_3p(x,k,A,C):\n",
        "  # three-parameter exponential decay, with amplitude A and baseline C\n",
        "  return A*np.exp(-x*k) + C\n",
        "\n",
        "def biphasic(x,k1,A1,k2,A2,C): # two rate constants, two amplitudes + C\n",
        "  return A1*np.exp(-x*k1)+A2*np.exp(-x*k2)+C\n",
        "\n",
        "def sec_order_1(t,a0,k): # 2a -> c\n",
        "    return a0/(a0*k*t+1)\n",
        "\n",
        "def sec_order_2(t,a0,b0,k): # a + 2b -> c\n",
        "    return a0*b0*(np.exp(k*t*(a0 - b0)) - 1)/(a0*np.exp(k*t*(a0 - b0)) - b0)"
      ],
      "execution_count": 5,
      "outputs": []
    },
    {
      "cell_type": "markdown",
      "metadata": {
        "id": "Jh059lqBeFpj"
      },
      "source": [
        "Having defined a function, it can be useful to guess some parameters for the model and plot the model along with the data."
      ]
    },
    {
      "cell_type": "code",
      "metadata": {
        "colab": {
          "base_uri": "https://localhost:8080/",
          "height": 282
        },
        "id": "wzEeuQRRcjca",
        "outputId": "4becccc9-7bb0-4510-f7d0-548219f83f64"
      },
      "source": [
        "# often if we can't guess a good value for k, 1 is a good starting point.\n",
        "a0=10100; k =1\n",
        "t = np.array(Time_weeks)\n",
        "data = np.array(Penicillin_U) # turn lists into arrays for easier math\n",
        "calc_y = a0*decay_1p(t, k)\n",
        "# now plot the measured and calculated values against the same x values:\n",
        "plt.plot(t, data,'o', label='data')\n",
        "plt.plot(t, calc_y, label='model, k: %g' %k)\n",
        "plt.xlabel('time / weeks'); plt.ylabel('Penicillin Units')\n",
        "plt.legend(); plt.show()"
      ],
      "execution_count": 20,
      "outputs": [
        {
          "output_type": "display_data",
          "data": {
            "image/png": "[encoded data removed]",
            "text/plain": [
              "<Figure size 432x288 with 1 Axes>"
            ]
          },
          "metadata": {}
        }
      ]
    },
    {
      "cell_type": "markdown",
      "metadata": {
        "id": "mwo9WYlTzprl"
      },
      "source": [
        "We evaluate the goodness of fit by computing a chi-square ($\\chi^2$), the squared sum of the residual differences between the data ($y$ values) and the model evaluated at each $x$ value, $f(x)$:\n",
        "$$\\chi^2 =  \\sum_i\\left(y(x)-f(x)\\right)^2 = \\sum_i (residuals)^2$$\n"
      ]
    },
    {
      "cell_type": "code",
      "metadata": {
        "colab": {
          "base_uri": "https://localhost:8080/",
          "height": 361
        },
        "id": "ac0N3Ezi1aZC",
        "outputId": "925b6bfe-f95b-4cc5-eae7-19421cb45b93"
      },
      "source": [
        "residuals = data - calc_y\n",
        "plt.stem(t,residuals)\n",
        "plt.xlabel('time / weeks'); plt.ylabel('Residuals')\n",
        "plt.title('$\\chi^2$ = %.2f' % (sum(residuals))**2 )\n",
        "plt.show()"
      ],
      "execution_count": 21,
      "outputs": [
        {
          "output_type": "stream",
          "name": "stderr",
          "text": [
            "/usr/local/lib/python3.7/dist-packages/ipykernel_launcher.py:2: UserWarning: In Matplotlib 3.3 individual lines on a stem plot will be added as a LineCollection instead of individual lines. This significantly improves the performance of a stem plot. To remove this warning and switch to the new behaviour, set the \"use_line_collection\" keyword argument to True.\n",
            "  \n"
          ]
        },
        {
          "output_type": "display_data",
          "data": {
            "image/png": "[encoded data removed]",
            "text/plain": [
              "<Figure size 432x288 with 1 Axes>"
            ]
          },
          "metadata": {}
        }
      ]
    },
    {
      "cell_type": "markdown",
      "metadata": {
        "id": "wxqUDIAhkoi9"
      },
      "source": [
        "Fitting involves finding parameters that generate a best fit between the data and the model. Because an exponential decay equation  is not a straight line, we call this non-linear curve fitting.\n",
        "\n",
        "There are many algorithms and packages for curve fitting; here we use Scipy curve_fit:"
      ]
    },
    {
      "cell_type": "code",
      "metadata": {
        "colab": {
          "base_uri": "https://localhost:8080/",
          "height": 302
        },
        "id": "dqvql4sCkqZf",
        "outputId": "a10dbc7a-face-41e2-c208-2b998eac8f02"
      },
      "source": [
        "from scipy.optimize import curve_fit\n",
        "'''\n",
        "<function: scipy.optimize.minpack.curve_fit(f, xdata, ydata, p0=None, sigma=None, absolute_sigma=False, \n",
        "    check_finite=True, bounds=(-inf, inf), method=None, jac=None, **kwargs)>\n",
        "\n",
        "for scipy's curve_fit function: we need to at least provide the function f, and x and y data.\n",
        "we could provide initial parameters via p0\n",
        "'''\n",
        "f = decay_1p # specify the function to be used to generate model data\n",
        "xdata = t # x values to evaluate\n",
        "ydata = data/a0 # data to compare\n",
        "p0 = 1 # optionally, provide starting parameters\n",
        "popt,pcov = curve_fit(f,xdata,ydata, p0 = p0) # run, and return parameter best-fit and covariation\n",
        "print(popt,pcov)\n",
        "# Standard deviation estimate:\n",
        "perr = np.sqrt(np.diag(pcov))\n",
        "# Always, always, look at the quality of the fit before the parameters:\n",
        "ydata = a0*f(xdata,*popt) # we evaluate the function f at each xval \n",
        "plt.plot(t,data,'o')\n",
        "plt.plot(xdata,ydata, label='Best-fit k: %.3f ± %.3f / week' % (popt[0], perr))\n",
        "plt.legend()\n",
        "#print('Linear-fit of LB V_max: %.2f pmol/min, K_M: %.2g pmol/µL' % (pars_LB[0],pars_LB[1]))\n",
        "#print('Direct-fit of MM V_max: %0.2f pmol/min and K_M: %0.2g pmol/µL' % (popt[0],popt[1]))"
      ],
      "execution_count": 23,
      "outputs": [
        {
          "output_type": "stream",
          "name": "stdout",
          "text": [
            "[0.20362823] [[4.25476874e-06]]\n"
          ]
        },
        {
          "output_type": "execute_result",
          "data": {
            "text/plain": [
              "<matplotlib.legend.Legend at 0x7fd562c42e10>"
            ]
          },
          "metadata": {},
          "execution_count": 23
        },
        {
          "output_type": "display_data",
          "data": {
            "image/png": "[encoded data removed]",
            "text/plain": [
              "<Figure size 432x288 with 1 Axes>"
            ]
          },
          "metadata": {}
        }
      ]
    },
    {
      "cell_type": "markdown",
      "metadata": {
        "id": "imk0cClGpZcK"
      },
      "source": [
        "When we are satisfied with the agreement between model and data, we have found the _best-fit parameters of the model_."
      ]
    },
    {
      "cell_type": "code",
      "metadata": {
        "colab": {
          "base_uri": "https://localhost:8080/",
          "height": 361
        },
        "id": "d-yVDwwhpVXc",
        "outputId": "7215c1ca-737a-4a4a-da35-897468cf297f"
      },
      "source": [
        "residuals = data - ydata\n",
        "plt.stem(t,residuals)\n",
        "plt.xlabel('time / weeks'); plt.ylabel('Residuals')\n",
        "plt.title('$\\chi^2$ = %.2f' % (sum(residuals))**2 )\n",
        "plt.show()"
      ],
      "execution_count": 24,
      "outputs": [
        {
          "output_type": "stream",
          "name": "stderr",
          "text": [
            "/usr/local/lib/python3.7/dist-packages/ipykernel_launcher.py:2: UserWarning: In Matplotlib 3.3 individual lines on a stem plot will be added as a LineCollection instead of individual lines. This significantly improves the performance of a stem plot. To remove this warning and switch to the new behaviour, set the \"use_line_collection\" keyword argument to True.\n",
            "  \n"
          ]
        },
        {
          "output_type": "display_data",
          "data": {
            "image/png": "[encoded data removed]",
            "text/plain": [
              "<Figure size 432x288 with 1 Axes>"
            ]
          },
          "metadata": {}
        }
      ]
    },
    {
      "cell_type": "code",
      "metadata": {
        "colab": {
          "base_uri": "https://localhost:8080/"
        },
        "id": "3K3pmqGevFqD",
        "outputId": "9c8c554b-28a0-4b16-a01b-294fb8bbdb84"
      },
      "source": [
        "# Standard deviation estimate:\n",
        "perr = np.sqrt(np.diag(pcov))\n",
        "perr"
      ],
      "execution_count": 25,
      "outputs": [
        {
          "output_type": "execute_result",
          "data": {
            "text/plain": [
              "array([0.00206271])"
            ]
          },
          "metadata": {},
          "execution_count": 25
        }
      ]
    },
    {
      "cell_type": "markdown",
      "metadata": {
        "id": "4dNCKO0PcXKb"
      },
      "source": [
        "Fitting involves finding parameters that generate a **best fit** between the _data_ and the _model_. Because the Hill equation model is not a straight line, we call this _non-linear curve fitting_. (The mathematics for linear regression is much more straightforward.)\n",
        "\n",
        "There's more than one way to perform nonlinear fitting in python, and we will use the `lmfit` package https://lmfit.github.io/lmfit-py/ to generate the model and perfom fitting. `lmfit` has some nice features but is not a standard package in most python installations (it is built on other standard packages, especially `numpy` and `scipy`), and therefore needs to be installed (esp. for use in Colab). From a Jupyter Notebook, packaged installation can often be accomplished using [`pip`, the package installer for Python](https://pypi.org/project/pip/), which will search online databases for named packages, and install them if possible:\n",
        "```\n",
        ">>> !pip install lmfit\n",
        "```\n"
      ]
    },
    {
      "cell_type": "code",
      "metadata": {
        "id": "E0NReY51yngk",
        "colab": {
          "base_uri": "https://localhost:8080/"
        },
        "outputId": "5e4c015c-75b5-41ef-bc78-9e6816878a3d"
      },
      "source": [
        "# install lmfit\n",
        "!pip install lmfit"
      ],
      "execution_count": 26,
      "outputs": [
        {
          "output_type": "stream",
          "name": "stdout",
          "text": [
            "Collecting lmfit\n",
            "  Downloading lmfit-1.0.3.tar.gz (292 kB)\n",
            "\u001b[?25l\r\u001b[K     |█▏                              | 10 kB 23.0 MB/s eta 0:00:01\r\u001b[K     |██▎                             | 20 kB 30.0 MB/s eta 0:00:01\r\u001b[K     |███▍                            | 30 kB 34.2 MB/s eta 0:00:01\r\u001b[K     |████▌                           | 40 kB 36.7 MB/s eta 0:00:01\r\u001b[K     |█████▋                          | 51 kB 38.3 MB/s eta 0:00:01\r\u001b[K     |██████▊                         | 61 kB 37.0 MB/s eta 0:00:01\r\u001b[K     |███████▉                        | 71 kB 31.0 MB/s eta 0:00:01\r\u001b[K     |█████████                       | 81 kB 30.7 MB/s eta 0:00:01\r\u001b[K     |██████████                      | 92 kB 32.8 MB/s eta 0:00:01\r\u001b[K     |███████████▏                    | 102 kB 33.2 MB/s eta 0:00:01\r\u001b[K     |████████████▎                   | 112 kB 33.2 MB/s eta 0:00:01\r\u001b[K     |█████████████▍                  | 122 kB 33.2 MB/s eta 0:00:01\r\u001b[K     |██████████████▋                 | 133 kB 33.2 MB/s eta 0:00:01\r\u001b[K     |███████████████▊                | 143 kB 33.2 MB/s eta 0:00:01\r\u001b[K     |████████████████▉               | 153 kB 33.2 MB/s eta 0:00:01\r\u001b[K     |██████████████████              | 163 kB 33.2 MB/s eta 0:00:01\r\u001b[K     |███████████████████             | 174 kB 33.2 MB/s eta 0:00:01\r\u001b[K     |████████████████████▏           | 184 kB 33.2 MB/s eta 0:00:01\r\u001b[K     |█████████████████████▎          | 194 kB 33.2 MB/s eta 0:00:01\r\u001b[K     |██████████████████████▍         | 204 kB 33.2 MB/s eta 0:00:01\r\u001b[K     |███████████████████████▌        | 215 kB 33.2 MB/s eta 0:00:01\r\u001b[K     |████████████████████████▋       | 225 kB 33.2 MB/s eta 0:00:01\r\u001b[K     |█████████████████████████▊      | 235 kB 33.2 MB/s eta 0:00:01\r\u001b[K     |██████████████████████████▉     | 245 kB 33.2 MB/s eta 0:00:01\r\u001b[K     |████████████████████████████    | 256 kB 33.2 MB/s eta 0:00:01\r\u001b[K     |█████████████████████████████▏  | 266 kB 33.2 MB/s eta 0:00:01\r\u001b[K     |██████████████████████████████▎ | 276 kB 33.2 MB/s eta 0:00:01\r\u001b[K     |███████████████████████████████▍| 286 kB 33.2 MB/s eta 0:00:01\r\u001b[K     |████████████████████████████████| 292 kB 33.2 MB/s \n",
            "\u001b[?25hCollecting asteval>=0.9.22\n",
            "  Downloading asteval-0.9.25.tar.gz (39 kB)\n",
            "Requirement already satisfied: numpy>=1.18 in /usr/local/lib/python3.7/dist-packages (from lmfit) (1.19.5)\n",
            "Requirement already satisfied: scipy>=1.4 in /usr/local/lib/python3.7/dist-packages (from lmfit) (1.4.1)\n",
            "Collecting uncertainties>=3.0.1\n",
            "  Downloading uncertainties-3.1.6-py2.py3-none-any.whl (98 kB)\n",
            "\u001b[K     |████████████████████████████████| 98 kB 8.2 MB/s \n",
            "\u001b[?25hRequirement already satisfied: future in /usr/local/lib/python3.7/dist-packages (from uncertainties>=3.0.1->lmfit) (0.16.0)\n",
            "Building wheels for collected packages: lmfit, asteval\n",
            "  Building wheel for lmfit (setup.py) ... \u001b[?25l\u001b[?25hdone\n",
            "  Created wheel for lmfit: filename=lmfit-1.0.3-py3-none-any.whl size=84401 sha256=d72781200fedf99ba37a75f3c8cd595bd306632a68e439d49697b68a47c5add2\n",
            "  Stored in directory: /root/.cache/pip/wheels/b9/7a/d1/236aa0f8196b264fda481a112f7cfb1bfde7bfb20235f8e331\n",
            "  Building wheel for asteval (setup.py) ... \u001b[?25l\u001b[?25hdone\n",
            "  Created wheel for asteval: filename=asteval-0.9.25-py3-none-any.whl size=17301 sha256=4f85d60c1f1ec69d7bf049754746d4ca7d06c2eab5e838965885cee419c781bf\n",
            "  Stored in directory: /root/.cache/pip/wheels/4a/87/53/f1385a55b3f60eabb921c5f4fd151c00fdb016b5111b8c830f\n",
            "Successfully built lmfit asteval\n",
            "Installing collected packages: uncertainties, asteval, lmfit\n",
            "Successfully installed asteval-0.9.25 lmfit-1.0.3 uncertainties-3.1.6\n"
          ]
        }
      ]
    },
    {
      "cell_type": "markdown",
      "metadata": {
        "id": "ntuHLcafJOhW"
      },
      "source": [
        "To fit the data with the model, we have to define a _fitting object_ that is programmed with the mathematical model (here, the Hill equation), and parameters are independent (not to be optimized)."
      ]
    },
    {
      "cell_type": "code",
      "metadata": {
        "colab": {
          "base_uri": "https://localhost:8080/",
          "height": 416
        },
        "id": "PX1STDWLc_iO",
        "outputId": "eb435a40-bb40-4730-e88b-869ac2548014"
      },
      "source": [
        "from lmfit import Model #, Parameter, report_fit  # import the desired components\n",
        "x = t; data = data # x and y vectors\n",
        "dmodel = Model(decay_2p, independent_vars=['x'])\n",
        "params = dmodel.make_params()\n",
        "params.add('A', value=10100, vary=False)\n",
        "result = dmodel.fit(data, params, x=x, k=1, A=10100) \n",
        "# ^^ here we guess some starting values, perform fit and store result ...\n",
        "# ... in a Python oject, here called 'result'\n",
        "result # output the contents of the result object"
      ],
      "execution_count": 34,
      "outputs": [
        {
          "output_type": "execute_result",
          "data": {
            "text/html": [
              "<h2> Model</h2> Model(decay_2p) <h2>Fit Statistics</h2><table><tr><td>fitting method</td><td>leastsq</td><td></td></tr><tr><td># function evals</td><td>16</td><td></td></tr><tr><td># data points</td><td>20</td><td></td></tr><tr><td># variables</td><td>1</td><td></td></tr><tr><td>chi-square</td><td> 215819.214</td><td></td></tr><tr><td>reduced chi-square</td><td> 11358.9060</td><td></td></tr><tr><td>Akaike info crit.</td><td> 187.729282</td><td></td></tr><tr><td>Bayesian info crit.</td><td> 188.725014</td><td></td></tr></table><h2>Variables</h2><table><tr><th> name </th><th> value </th><th> standard error </th><th> relative error </th><th> initial value </th><th> min </th><th> max </th><th> vary </th></tr><tr><td> k </td><td>  0.20362823 </td><td>  0.00206271 </td><td> (1.01%) </td><td> 1 </td><td>        -inf </td><td>         inf </td><td> True </td></tr><tr><td> A </td><td>  10100.0000 </td><td>  0.00000000 </td><td> (0.00%) </td><td> 10100 </td><td>        -inf </td><td>         inf </td><td> False </td></tr></table>"
            ],
            "text/plain": [
              "<lmfit.model.ModelResult at 0x7fd552a02450>"
            ]
          },
          "metadata": {},
          "execution_count": 34
        }
      ]
    },
    {
      "cell_type": "markdown",
      "metadata": {
        "id": "LihKXtQsfTyH"
      },
      "source": [
        "Next, we plot the data, along with the best-fit model, and the residuals; ALWAYS visually inspect the data, fit and residuals before interpreting parameters."
      ]
    },
    {
      "cell_type": "code",
      "metadata": {
        "colab": {
          "base_uri": "https://localhost:8080/",
          "height": 408
        },
        "id": "pkwv86D6gYLK",
        "outputId": "df34c3f9-13e8-4672-f647-dc2c84ec7f11"
      },
      "source": [
        "result.plot(numpoints=100, show_init=True) # numpoints for the best fit curve \n",
        "plt.show()"
      ],
      "execution_count": 35,
      "outputs": [
        {
          "output_type": "display_data",
          "data": {
            "image/png": "[encoded data removed]",
            "text/plain": [
              "<Figure size 432x432 with 2 Axes>"
            ]
          },
          "metadata": {}
        }
      ]
    },
    {
      "cell_type": "markdown",
      "metadata": {
        "id": "SRD2W-y1bC82"
      },
      "source": [
        "The best-fit parameters and other statistics are printed above, and can be individually accessed by name:"
      ]
    },
    {
      "cell_type": "code",
      "metadata": {
        "colab": {
          "base_uri": "https://localhost:8080/"
        },
        "id": "9KJVTfvCWb7y",
        "outputId": "f69c65bb-c1ab-4ebc-d91a-e5029aaad6fa"
      },
      "source": [
        "print('Best-fit k: {:.3f}'.format(result.params['k'].value))"
      ],
      "execution_count": 39,
      "outputs": [
        {
          "output_type": "stream",
          "name": "stdout",
          "text": [
            "Best-fit k: 0.204\n"
          ]
        }
      ]
    },
    {
      "cell_type": "markdown",
      "metadata": {
        "id": "grgD17bW6W2g"
      },
      "source": [
        "If desired, we can append to the dataframe the initial values, best-fit, and residuals of the fit:"
      ]
    },
    {
      "cell_type": "code",
      "metadata": {
        "colab": {
          "base_uri": "https://localhost:8080/",
          "height": 206
        },
        "id": "PGfMwSXUVEh7",
        "outputId": "0ef141de-0f2c-416b-c617-350d72c75948"
      },
      "source": [
        "df['init'] = result.init_fit\n",
        "df['best'] = result.best_fit\n",
        "df['residuals'] = result.residual\n",
        "df.head()"
      ],
      "execution_count": 40,
      "outputs": [
        {
          "output_type": "execute_result",
          "data": {
            "text/html": [
              "<div>\n",
              "<style scoped>\n",
              "    .dataframe tbody tr th:only-of-type {\n",
              "        vertical-align: middle;\n",
              "    }\n",
              "\n",
              "    .dataframe tbody tr th {\n",
              "        vertical-align: top;\n",
              "    }\n",
              "\n",
              "    .dataframe thead th {\n",
              "        text-align: right;\n",
              "    }\n",
              "</style>\n",
              "<table border=\"1\" class=\"dataframe\">\n",
              "  <thead>\n",
              "    <tr style=\"text-align: right;\">\n",
              "      <th></th>\n",
              "      <th>Time_weeks</th>\n",
              "      <th>Penicillin_U</th>\n",
              "      <th>init</th>\n",
              "      <th>best</th>\n",
              "      <th>residuals</th>\n",
              "    </tr>\n",
              "  </thead>\n",
              "  <tbody>\n",
              "    <tr>\n",
              "      <th>0</th>\n",
              "      <td>0.0</td>\n",
              "      <td>10100</td>\n",
              "      <td>10100.000000</td>\n",
              "      <td>10100.000000</td>\n",
              "      <td>0.000000</td>\n",
              "    </tr>\n",
              "    <tr>\n",
              "      <th>1</th>\n",
              "      <td>1.0</td>\n",
              "      <td>8180</td>\n",
              "      <td>3715.582356</td>\n",
              "      <td>8239.232456</td>\n",
              "      <td>59.232456</td>\n",
              "    </tr>\n",
              "    <tr>\n",
              "      <th>2</th>\n",
              "      <td>2.0</td>\n",
              "      <td>6900</td>\n",
              "      <td>1366.886361</td>\n",
              "      <td>6721.282323</td>\n",
              "      <td>-178.717677</td>\n",
              "    </tr>\n",
              "    <tr>\n",
              "      <th>3</th>\n",
              "      <td>3.0</td>\n",
              "      <td>5380</td>\n",
              "      <td>502.849391</td>\n",
              "      <td>5482.990838</td>\n",
              "      <td>102.990838</td>\n",
              "    </tr>\n",
              "    <tr>\n",
              "      <th>4</th>\n",
              "      <td>4.0</td>\n",
              "      <td>4320</td>\n",
              "      <td>184.987953</td>\n",
              "      <td>4472.835254</td>\n",
              "      <td>152.835254</td>\n",
              "    </tr>\n",
              "  </tbody>\n",
              "</table>\n",
              "</div>"
            ],
            "text/plain": [
              "   Time_weeks  Penicillin_U          init          best   residuals\n",
              "0         0.0         10100  10100.000000  10100.000000    0.000000\n",
              "1         1.0          8180   3715.582356   8239.232456   59.232456\n",
              "2         2.0          6900   1366.886361   6721.282323 -178.717677\n",
              "3         3.0          5380    502.849391   5482.990838  102.990838\n",
              "4         4.0          4320    184.987953   4472.835254  152.835254"
            ]
          },
          "metadata": {},
          "execution_count": 40
        }
      ]
    },
    {
      "cell_type": "code",
      "metadata": {
        "colab": {
          "base_uri": "https://localhost:8080/",
          "height": 300
        },
        "id": "jsvoIrQkW_yy",
        "outputId": "f6836bb6-76dd-4819-a480-30ac332839fb"
      },
      "source": [
        "# shortcut to plotting data in the df (if created)\n",
        "# df.plot(x='Time_weeks', y=['Penicillin_U','best','init','residuals'])"
      ],
      "execution_count": 43,
      "outputs": [
        {
          "output_type": "execute_result",
          "data": {
            "text/plain": [
              "<matplotlib.axes._subplots.AxesSubplot at 0x7fd54a6786d0>"
            ]
          },
          "metadata": {},
          "execution_count": 43
        },
        {
          "output_type": "display_data",
          "data": {
            "image/png": "[encoded data removed]",
            "text/plain": [
              "<Figure size 432x288 with 1 Axes>"
            ]
          },
          "metadata": {}
        }
      ]
    }
  ]
}