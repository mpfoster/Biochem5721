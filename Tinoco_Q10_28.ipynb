{
  "nbformat": 4,
  "nbformat_minor": 0,
  "metadata": {
    "colab": {
      "name": "Tinoco_Q10_28.ipynb",
      "provenance": [],
      "authorship_tag": "ABX9TyMIH1LivEhHpReuKiVJCpEn",
      "include_colab_link": true
    },
    "kernelspec": {
      "name": "python3",
      "display_name": "Python 3"
    },
    "language_info": {
      "name": "python"
    }
  },
  "cells": [
    {
      "cell_type": "markdown",
      "metadata": {
        "id": "view-in-github",
        "colab_type": "text"
      },
      "source": [
        "<a href=\"https://colab.research.google.com/github/mpfoster/Biochem5721/blob/master/Tinoco_Q10_28.ipynb\" target=\"_parent\"><img src=\"https://colab.research.google.com/assets/colab-badge.svg\" alt=\"Open In Colab\"/></a>"
      ]
    },
    {
      "cell_type": "markdown",
      "metadata": {
        "id": "AMErzwRYxwbB"
      },
      "source": [
        "<img src=\"https://github.com/mpfoster/Biochem5721/blob/master/images/p10-28-tinoco.png?raw=true\" width=50%/>"
      ]
    },
    {
      "cell_type": "code",
      "metadata": {
        "id": "_u77PRVYUpeO"
      },
      "source": [
        "# Let’s analyze Q10.28 w/ Python\n",
        "import numpy as np  #  for making arrays and fitting lines\n",
        "import matplotlib.pyplot as plt #  for plotting\n",
        "\n",
        "# enter experimental values:\n",
        "S = 0.1,0.25,0.5,1,2 # mM\n",
        "v0 = 0.746,0.992,1.12,1.26,1.36 # e-6 M/min\n",
        "v0_I = 0.136,0.285,0.618,0.758,1.29 # e-6 M/min\n",
        "I = 20 # e-6 M (i.e., 0.2e-4)\n",
        "# convert the lists of numbers into arrays\n",
        "S = np.array(S); v0=np.array(v0); v0_I = np.array(v0_I)\n",
        "plt.grid()\n",
        "plt.plot(S, v0, 'o-')\n",
        "plt.plot(S, v0_I, 'o-')\n",
        "plt.xlabel('[S] / 1e-6M'); plt.ylabel('v0 / 1e-6 M/min')"
      ],
      "execution_count": null,
      "outputs": []
    },
    {
      "cell_type": "code",
      "metadata": {
        "id": "qNMzMLjzu1nA"
      },
      "source": [
        "# first, let's make double-reciprocal plots\n",
        "# the uninhibited data:\n",
        "x = 1/S # reciprocal of S\n",
        "y = 1/v0 # reciprocal of v0\n",
        "plt.grid()\n",
        "plt.plot(x,y,'o')"
      ],
      "execution_count": null,
      "outputs": []
    },
    {
      "cell_type": "code",
      "metadata": {
        "id": "ZZVQn1JnbRj6"
      },
      "source": [
        "# first, let's make double-reciprocal plots\n",
        "# the uninhibited data:\n",
        "x = 1/S # reciprocal of S\n",
        "y = 1/v0 # reciprocal of v0\n",
        "plt.grid()\n",
        "plt.plot(x,y,'o')\n",
        "# fit to a line:\n",
        "m,b = np.polyfit(x,y,1) # this fits the data to y  = mx + b, returns m and b\n",
        "plt.plot(x,m*x+b)\n",
        "Vmax = 1/b; Km = b*m\n",
        "print(f'Vmax: {Vmax:.2f}, Km:{Km:.2f}')"
      ],
      "execution_count": null,
      "outputs": []
    },
    {
      "cell_type": "code",
      "metadata": {
        "id": "-9CAZGIovQvx"
      },
      "source": [
        "# first, let's make double-reciprocal plots\n",
        "# the uninhibited data:\n",
        "x = 1/S # reciprocal of S\n",
        "y = 1/v0 # reciprocal of v0\n",
        "plt.plot(x,y,'o')\n",
        "# fit to a line:\n",
        "m,b = np.polyfit(x,y,1) # this fits the data to y  = mx + b, returns m and b\n",
        "plt.plot(x,m*x+b)\n",
        "Vmax = 1/b; Km = b*m\n",
        "print(f'Vmax: {Vmax:.2f}, Km:{Km:.2f}')\n",
        "\n",
        "# now the inhibited:\n",
        "x = 1/S; y = 1/v0_I\n",
        "plt.plot(x,y,'o')\n",
        "# fit to a line:\n",
        "m,b = np.polyfit(x,y,1)\n",
        "VmaxI = 1/b; KmI = b*m\n",
        "plt.plot(x,m*x+b)\n",
        "print(f'Vmax\\': {VmaxI:.2f}, Km\\':{KmI:.2f}')\n",
        "alpha_Vmax = Vmax/VmaxI\n",
        "alpha_Km = KmI/Km\n",
        "print(f'Vmax/Vmax\\' = {alpha_Vmax:.2f}; Km\\'/Km = {alpha_Km:.2f}')\n",
        "\n",
        "plt.grid()"
      ],
      "execution_count": null,
      "outputs": []
    },
    {
      "cell_type": "markdown",
      "metadata": {
        "id": "19tx5PfSjs1L"
      },
      "source": [
        "---\n",
        "By comparing the Vmax and Km values from LB analysis, we might be able to determine the mode of inhibition, since the canonical models follow this pattern:\n",
        "\n",
        "1. *Competitive; altered $K_M$* :\n",
        "\n",
        "$\\frac{1}{v_0} =\\frac{\\alpha K_M}{V_{max}}\\cdot\\frac{1}{[S]} + \\frac{1}{V_{max}}$\n",
        "\n",
        "2. *Non-conpetitive; altered $V_{max}$*:\n",
        "\n",
        "$\\frac{1}{v_0} =\\frac{\\alpha K_M}{V_{max}}\\cdot\\frac{1}{[S]} + \\frac{\\alpha}{V_{max}}$\n",
        "\n",
        "3. *Un-competitive; altered $K_M$ and $V_{max}$*:\n",
        "\n",
        "$\\frac{1}{v_0} =\\frac{K_M}{V_{max}}\\cdot\\frac{1}{[S]} + \\frac{\\alpha}{V_{max}}$\n",
        "\n",
        "---\n",
        "\n",
        "So, in case (1) we expect $K_M' = \\alpha K_M$, in case (2) we would see $V_{max}' = V_{max}/\\alpha$ and in case (3), both $V_{max}$ and $K_M$ are altered by $\\alpha = \\left(1 + \\frac{[I]}{K_I}\\right)$. \n",
        "\n",
        "Solving for $K_I$, $\\alpha-1 = \\frac{[I]}{K_I}$; $K_I = \\frac{[I]}{\\alpha-1}$\n",
        "\n",
        "Since $\\alpha = K_M'/K_M$, or $=V_{max}/V'_{max}$, we can determine $K_I$ from the ratios of $V_{max}$ and/or $K_M$ under inhibited and non-inhibited conditions."
      ]
    },
    {
      "cell_type": "code",
      "metadata": {
        "id": "TynGF4O9uWir"
      },
      "source": [
        "# Let's compute all possible scenarios:\n",
        "c_I = 20 # e-6 M\n",
        "# effect on Vmax:\n",
        "Ki = c_I/(alpha_Vmax-1)\n",
        "print(f'Ki from Vmax: {Ki:.2f}')\n",
        "# effect on Km:\n",
        "Ki = c_I/(alpha_Km-1)\n",
        "print(f'Ki from Km: {Ki:.2f}')"
      ],
      "execution_count": null,
      "outputs": []
    },
    {
      "cell_type": "code",
      "metadata": {
        "id": "0MPTfJZmZA98"
      },
      "source": [
        "# define the MM equation for plotting and fitting\n",
        "def MM(s,Vmax,Km):\n",
        "  return s*Vmax/(s+Km)\n",
        "# and import the curve-fitting library\n",
        "from scipy.optimize import curve_fit"
      ],
      "execution_count": null,
      "outputs": []
    },
    {
      "cell_type": "code",
      "metadata": {
        "id": "Ik6eBxc3ZjLu"
      },
      "source": [
        "# now, we will fit the curves to the MM equation \n",
        "popt,pcov = curve_fit(MM, S,v0)\n",
        "plt.plot(S,v0,'o')\n",
        "xcalc = np.linspace(0,max(S)*2)\n",
        "ycalc = MM(xcalc,*popt)\n",
        "plt.plot(xcalc,ycalc)\n",
        "Vmax = popt[0]; Km=popt[1]\n",
        "print(\"Vmax, Km:\", popt)\n",
        "# now repeat for the inhibited data vo_I\n",
        "popt,pcov = curve_fit(MM, S,v0_I)\n",
        "plt.plot(S,v0_I,'o')\n",
        "xcalc = np.linspace(0,max(S)*2)\n",
        "ycalc = MM(xcalc,*popt)\n",
        "plt.plot(xcalc,ycalc)\n",
        "VmaxI = popt[0]; KmI=popt[1]\n",
        "print(\"Vmax, Km:\", popt)\n",
        "alpha_Vmax = Vmax/VmaxI\n",
        "alpha_Km = KmI/Km\n",
        "print(f'Vmax/Vmax\\' = {alpha_Vmax:.2f}; Km\\'/Km = {alpha_Km:.2f}')"
      ],
      "execution_count": null,
      "outputs": []
    },
    {
      "cell_type": "code",
      "metadata": {
        "id": "M9W7Slyiqf1D"
      },
      "source": [
        "# Let's compute all possible scenarios:\n",
        "c_I = 20 # e-6 M\n",
        "# effect on Vmax:\n",
        "Ki = c_I/(alpha_Vmax-1)\n",
        "print(f'Ki from Vmax: {Ki:.2f} µM')\n",
        "# effect on Km:\n",
        "Ki = c_I/(alpha_Km-1)\n",
        "print(f'Ki from Km: {Ki:.2f} µM')"
      ],
      "execution_count": null,
      "outputs": []
    },
    {
      "cell_type": "markdown",
      "metadata": {
        "id": "0I1l_ZWJ5NAW"
      },
      "source": [
        "---\n",
        "So, what do we conclude?"
      ]
    }
  ]
}