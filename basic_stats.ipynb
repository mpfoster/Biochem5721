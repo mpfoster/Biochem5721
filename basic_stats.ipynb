{
  "nbformat": 4,
  "nbformat_minor": 0,
  "metadata": {
    "colab": {
      "name": "basic-stats.ipynb",
      "provenance": [],
      "authorship_tag": "ABX9TyNQpYTHYlR9yVy/EI0F5JPf",
      "include_colab_link": true
    },
    "kernelspec": {
      "name": "python3",
      "display_name": "Python 3"
    },
    "language_info": {
      "name": "python"
    }
  },
  "cells": [
    {
      "cell_type": "markdown",
      "metadata": {
        "id": "view-in-github",
        "colab_type": "text"
      },
      "source": [
        "<a href=\"https://colab.research.google.com/github/mpfoster/Biochem5721/blob/master/basic_stats.ipynb\" target=\"_parent\"><img src=\"https://colab.research.google.com/assets/colab-badge.svg\" alt=\"Open In Colab\"/></a>"
      ]
    },
    {
      "cell_type": "markdown",
      "metadata": {
        "id": "MR3VK19Mz-X6"
      },
      "source": [
        "# Introduction to Python, Jupyter Notebooks and Statistics\n",
        "(Biochem 5721 AU21 MPF)\n",
        "\n",
        "A Jupyter notebook is an interactive web browser-based container for code, graphics and text. \n",
        "\n",
        "This is a Jupyter _markdown_ cell, which contains styled text. Jupyter _code_ cells contain executable code (Python in this case). The code in those cells is executed by _running_ the cell: **Cmd/Crt-Enter**, or clicking on the triagle to the left of the cell. Note that code cells in a Notebook that depend on the results of other cells must be executed in the right order.\n",
        "\n",
        "---\n",
        "## Importing pre-defined tools\n",
        "First, we load some common _packages_ that will define functions we will use to compute the values of interest, and plot the results (importing them means we can use previously written code, without having to re-write it ourselves):"
      ]
    },
    {
      "cell_type": "code",
      "metadata": {
        "id": "NaDHBzLIyoR7"
      },
      "source": [
        "import numpy as np  # this hashtag separates code from comments. \n",
        "import matplotlib.pyplot as plt   # the shortcut plt = matplotlib.pyplot"
      ],
      "execution_count": 1,
      "outputs": []
    },
    {
      "cell_type": "markdown",
      "metadata": {
        "id": "rxOin9ga0szl"
      },
      "source": [
        "Now we can access all _Numpy_ functions by using the prefix _np_, as in `np.mean(2, 3, 4)` to compute the mean of the numbers 2, 3 and 4. The _Pyplot_ library from _Matplotlib_ is similarly accessed via the prefix `plt`"
      ]
    },
    {
      "cell_type": "markdown",
      "metadata": {
        "id": "TZeBDDEHDoLc"
      },
      "source": [
        "## The aggregate behavior of individual molecules can be summarized with statistics\n",
        "We start by considering the step sizes measured for the Myosin V motor walking on immobilized actin filaments (Yildiz _et al._ (2003) _Science_, Fig. 3).\n",
        "\n",
        " <figure>\n",
        "  <img src=\"https://science.sciencemag.org/content/sci/300/5628/2061/F3.large.jpg?download=true\" width=\"50%\">\n",
        "  <figcaption>Yildiz et al. 2003, Fig. 3</figcaption>\n",
        "</figure> \n",
        "\n",
        "To analyze the data we make a list of measured step lengths, which we'll call `steps`:"
      ]
    },
    {
      "cell_type": "code",
      "metadata": {
        "id": "9Z3QGWpWyd_9"
      },
      "source": [
        "# from Yildiz et al.(2003) Science, Fig. 3, red trace\n",
        "steps = 65.1,83.5, 69.8,64.2,78.8,70.0,70.9,79.1,67.4,68.8,73.7,70.7,70.1,68.9,\\\n",
        "  71.3,82.4,72.0,75.4"
      ],
      "execution_count": 2,
      "outputs": []
    },
    {
      "cell_type": "markdown",
      "metadata": {
        "id": "wiodV1oB1bSG"
      },
      "source": [
        "Executing a stand-alone function (or the name of a variable) will cause the result (or content) to be printed to the output cell:"
      ]
    },
    {
      "cell_type": "code",
      "metadata": {
        "colab": {
          "base_uri": "https://localhost:8080/"
        },
        "id": "wrpohYWlyt7U",
        "outputId": "1ef8face-ac6e-45b4-a820-88463c4a0008"
      },
      "source": [
        "np.mean(steps)"
      ],
      "execution_count": 3,
      "outputs": [
        {
          "output_type": "execute_result",
          "data": {
            "text/plain": [
              "72.3388888888889"
            ]
          },
          "metadata": {
            "tags": []
          },
          "execution_count": 3
        }
      ]
    },
    {
      "cell_type": "markdown",
      "metadata": {
        "id": "5UYkbFbyQfDA"
      },
      "source": [
        "As for the list, we could assign the result of a function to a variable:"
      ]
    },
    {
      "cell_type": "code",
      "metadata": {
        "colab": {
          "base_uri": "https://localhost:8080/"
        },
        "id": "oFgprObdQi22",
        "outputId": "97ebe6a2-a8cb-4091-820e-d636d43eee14"
      },
      "source": [
        "mean = np.mean(steps)\n",
        "mean"
      ],
      "execution_count": 15,
      "outputs": [
        {
          "output_type": "execute_result",
          "data": {
            "text/plain": [
              "72.3388888888889"
            ]
          },
          "metadata": {
            "tags": []
          },
          "execution_count": 15
        }
      ]
    },
    {
      "cell_type": "code",
      "metadata": {
        "colab": {
          "base_uri": "https://localhost:8080/"
        },
        "id": "hzqSXlgWy5lr",
        "outputId": "42f2a415-0dbe-40af-d1e6-32082d3c963b"
      },
      "source": [
        "np.std(steps,ddof=1)  # we use ddof = 1 when computing the STDEV of a sample"
      ],
      "execution_count": 4,
      "outputs": [
        {
          "output_type": "execute_result",
          "data": {
            "text/plain": [
              "5.502634544298265"
            ]
          },
          "metadata": {
            "tags": []
          },
          "execution_count": 4
        }
      ]
    },
    {
      "cell_type": "code",
      "metadata": {
        "colab": {
          "base_uri": "https://localhost:8080/"
        },
        "id": "9Okys_RwIXdt",
        "outputId": "b5b2c5b7-196f-4406-dffb-0956a44a733b"
      },
      "source": [
        "len(steps)  # this counts the number of elements in the list"
      ],
      "execution_count": 5,
      "outputs": [
        {
          "output_type": "execute_result",
          "data": {
            "text/plain": [
              "18"
            ]
          },
          "metadata": {
            "tags": []
          },
          "execution_count": 5
        }
      ]
    },
    {
      "cell_type": "markdown",
      "metadata": {
        "id": "iVwxe7LnIL4S"
      },
      "source": [
        "We see that the mean and standard deviation of these 18 steps differ from the mean and stdev obtained for the full dataset of 231 steps: 73.75 ± 5.25. Why?"
      ]
    },
    {
      "cell_type": "markdown",
      "metadata": {
        "id": "ULpINfIB6JjF"
      },
      "source": [
        "Some insight can be obtained from visually inspecting the distribution of the data. [**Always visualize the raw data before proceeding with analysis.**] We can do this easily by plotting a _histogram_. "
      ]
    },
    {
      "cell_type": "code",
      "metadata": {
        "colab": {
          "base_uri": "https://localhost:8080/",
          "height": 297
        },
        "id": "Fwace0rW6J5D",
        "outputId": "61d48743-610f-4f14-c408-cd9cec5d6414"
      },
      "source": [
        "plt.hist(steps) # by default plt.hist() creates 10 evenly-spaced bins\n",
        "plt.ylabel('Count'); plt.xlabel('Step Size / nm')\n",
        "plt.title('Yildiz et al. (2003) $Science$')\n",
        "plt.show()"
      ],
      "execution_count": 6,
      "outputs": [
        {
          "output_type": "display_data",
          "data": {
            "image/png": "[encoded data removed]",
            "text/plain": [
              "<Figure size 432x288 with 1 Axes>"
            ]
          },
          "metadata": {
            "tags": [],
            "needs_background": "light"
          }
        }
      ]
    },
    {
      "cell_type": "markdown",
      "metadata": {
        "id": "00TJxzcoKhAF"
      },
      "source": [
        "Are the data Gaussian/Normal distribution?\n",
        "\n",
        "We can compare the distribution of this sample to a Gaussian distribution featuring the reported parameters, by simulating a probability distribution function (PDF). \n",
        "\n",
        "We first define a function to compute a y value for each x value\n",
        "given a known mean μ and standard deviation σ."
      ]
    },
    {
      "cell_type": "code",
      "metadata": {
        "colab": {
          "base_uri": "https://localhost:8080/",
          "height": 281
        },
        "id": "h2tLExOALiVm",
        "outputId": "31b354ef-d4ef-439d-c509-a75b83dbaf7f"
      },
      "source": [
        "# function takes a list of x values, mu and sig as input; returns y\n",
        "def gaussian(x, mu, sig):\n",
        "    return 1./(np.sqrt(2.*np.pi)*sig)*np.exp(-np.power((x - mu)/sig, 2.)/2)\n",
        "\n",
        "# generate the x and y values of the Gaussian\n",
        "xval = np.linspace(60,90,100) # 100 points between 60 and 90\n",
        "mu = 73.75; sigma = 5.25  # the published values\n",
        "yval = gaussian(xval, mu, sigma)\n",
        "\n",
        "# the data will have different y-axis ranges, so create a plot w/ 2 axes: \n",
        "fig, ax1 = plt.subplots()\n",
        "ax2 = ax1.twinx()\n",
        "\n",
        "# plot the histogram of the data\n",
        "ax1.hist(steps)\n",
        "ax1.set_ylabel('Count')\n",
        "\n",
        "ax2.plot(xval,yval, color='C1', label= '%.2f ± %.2f ' % (mu, sigma))\n",
        "plt.xlabel('Step Size /nm')\n",
        "ax2.set_ylabel('Probability')\n",
        "plt.title('Sample mean: %.2f ± %.2f' %(np.mean(steps), np.std(steps,ddof=1)))\n",
        "plt.legend()\n",
        "plt.show()"
      ],
      "execution_count": 98,
      "outputs": [
        {
          "output_type": "display_data",
          "data": {
            "image/png": "[encoded data removed]",
            "text/plain": [
              "<Figure size 432x288 with 2 Axes>"
            ]
          },
          "metadata": {
            "tags": [],
            "needs_background": "light"
          }
        }
      ]
    },
    {
      "cell_type": "markdown",
      "metadata": {
        "id": "oQOh0ruOZzeW"
      },
      "source": [
        "We see that the distribution of 18 points differs a bit from the distribution computed from all 231 data points. What if we had fewer points? (How many should we record?)"
      ]
    },
    {
      "cell_type": "code",
      "metadata": {
        "colab": {
          "base_uri": "https://localhost:8080/"
        },
        "id": "TJqUG_wmN2EB",
        "outputId": "07d4de77-ae9a-45ff-b579-867395ea9a55"
      },
      "source": [
        "sample = steps[0:3] # the 0th, 1st, and 2nd values of the list\n",
        "sample"
      ],
      "execution_count": 17,
      "outputs": [
        {
          "output_type": "execute_result",
          "data": {
            "text/plain": [
              "(65.1, 83.5, 69.8)"
            ]
          },
          "metadata": {
            "tags": []
          },
          "execution_count": 17
        }
      ]
    },
    {
      "cell_type": "code",
      "metadata": {
        "colab": {
          "base_uri": "https://localhost:8080/",
          "height": 281
        },
        "id": "tKi3N5uNMRta",
        "outputId": "bc724b45-05a5-4bf8-a8b6-0617682e8558"
      },
      "source": [
        "fig, ax1 = plt.subplots()\n",
        "ax1.hist(sample)\n",
        "ax1.set_ylabel('Count')\n",
        "\n",
        "ax2 = ax1.twinx()\n",
        "xval = np.linspace(60,90)\n",
        "mu = 73.75; sigma = 5.25\n",
        "yval = gaussian(xval, mu, sigma)\n",
        "ax2.plot(xval,yval, color='C1', label= '%.2f ± %.2f ' % (mu, sigma))\n",
        "plt.xlabel('Step Size /nm')\n",
        "ax2.set_ylabel('Probability')\n",
        "\n",
        "smean = np.mean(sample); ssdev = np.std(sample,ddof=1); slen = len(sample)\n",
        "plt.title('Sample mean of %d values: %.2f ± %.2f' %(slen,smean,ssdev))\n",
        "plt.legend()\n",
        "plt.show()\n"
      ],
      "execution_count": 100,
      "outputs": [
        {
          "output_type": "display_data",
          "data": {
            "image/png": "[encoded data removed]",
            "text/plain": [
              "<Figure size 432x288 with 2 Axes>"
            ]
          },
          "metadata": {
            "tags": [],
            "needs_background": "light"
          }
        }
      ]
    },
    {
      "cell_type": "markdown",
      "metadata": {
        "id": "aoIi1S7jW621"
      },
      "source": [
        "We see that with a smaller sample, the statistical descriptors of the data diverge from the values for a larger sample. Thus _sample size_ is an **important** consideration when designing experiments and determining statistical significance. "
      ]
    },
    {
      "cell_type": "markdown",
      "metadata": {
        "id": "sGoAEdU2FoV3"
      },
      "source": [
        "## Scipy.Stats\n",
        "Given the easy of defining and reusing functions in Python, it's probably not surprising that programmers have written functions to streamline analysis of populations. Indeed, the _scipy.stats_ library has a simple `describe()` function:"
      ]
    },
    {
      "cell_type": "code",
      "metadata": {
        "colab": {
          "base_uri": "https://localhost:8080/"
        },
        "id": "tERaX9ChFYBm",
        "outputId": "72d4d26d-f73c-4749-96ed-f9b549a5516f"
      },
      "source": [
        "from scipy import stats\n",
        "stats.describe(steps)"
      ],
      "execution_count": 10,
      "outputs": [
        {
          "output_type": "execute_result",
          "data": {
            "text/plain": [
              "DescribeResult(nobs=18, minmax=(64.2, 83.5), mean=72.3388888888889, variance=30.278986928104572, skewness=0.6706085037204145, kurtosis=-0.43050942615291454)"
            ]
          },
          "metadata": {
            "tags": []
          },
          "execution_count": 10
        }
      ]
    },
    {
      "cell_type": "markdown",
      "metadata": {
        "id": "Z7IMp42_GOG5"
      },
      "source": [
        "We see that _scipy.stats.describe_ returns a _dict_: a dictionary of six variables and their values. We could assign them individually, as:"
      ]
    },
    {
      "cell_type": "code",
      "metadata": {
        "id": "w3MRcxDUGccF"
      },
      "source": [
        "n,mm,m,var,sk,k = stats.describe(steps)"
      ],
      "execution_count": 29,
      "outputs": []
    },
    {
      "cell_type": "markdown",
      "metadata": {
        "id": "MtuMVH-HUqWZ"
      },
      "source": [
        "And then generate formatted output:"
      ]
    },
    {
      "cell_type": "code",
      "metadata": {
        "colab": {
          "base_uri": "https://localhost:8080/"
        },
        "id": "-t-z0uCrUtbz",
        "outputId": "f931004b-6edd-45a1-8a84-b52e13b21a87"
      },
      "source": [
        "print(\"Mean %.2f, rmsd = sqrt of variance %.2f\" %(m, var**(1/2)))"
      ],
      "execution_count": 28,
      "outputs": [
        {
          "output_type": "stream",
          "text": [
            "Mean 72.34, rmsd = sqrt of variance 5.50\n"
          ],
          "name": "stdout"
        }
      ]
    },
    {
      "cell_type": "markdown",
      "metadata": {
        "id": "vqLVTQmoWQtj"
      },
      "source": [
        "## Built-in Guassian PDF from Scipy\n",
        "Above, we defined our own Gaussian function using the values mu and sig for mean and stdev.  In fact, the _scipy_ library also has its own [Gaussian PDF](https://docs.scipy.org/doc/scipy/reference/generated/scipy.stats.norm.html), `stats.norm.pdf`, which we demonstrate here to be equivalent:"
      ]
    },
    {
      "cell_type": "code",
      "metadata": {
        "colab": {
          "base_uri": "https://localhost:8080/",
          "height": 265
        },
        "id": "cqoXRZrOWD_4",
        "outputId": "5bf99bcf-3d5b-4136-e77e-138d9a9e486b"
      },
      "source": [
        "# https://docs.scipy.org/doc/scipy/reference/generated/scipy.stats.norm.html\n",
        "# stats.norm.pdf takes inputs x, loc and scale\n",
        "loc = 73.75; scale = 5.25 # these are the mean and stdev\n",
        "# define some x and y values to plot:\n",
        "x = np.linspace(60,90,100) # generate 100 linearly spaced values from 60 to 90\n",
        "y = stats.norm.pdf(x, loc=loc, scale=scale) # compute probability y values for each x\n",
        "plt.plot(x, y, 'r-', lw=10, alpha=0.6, label='norm.pdf')\n",
        "plt.plot(xval,yval,label='our Gaussian')\n",
        "plt.legend()\n",
        "plt.show()"
      ],
      "execution_count": 34,
      "outputs": [
        {
          "output_type": "display_data",
          "data": {
            "image/png": "[encoded data removed]",
            "text/plain": [
              "<Figure size 432x288 with 1 Axes>"
            ]
          },
          "metadata": {
            "tags": [],
            "needs_background": "light"
          }
        }
      ]
    },
    {
      "cell_type": "markdown",
      "metadata": {
        "id": "_0_p_D_BU5U7"
      },
      "source": [
        "---\n",
        "# Other Distributions -- e.g., NMR chemical shifts\n",
        "- NMR chemical shifts are sensitive to the local chemical environment. For a tryptophan (Trp) residue in a protein, the chemical shift of the H indole proton Hϵ1 is generally well separated from other 1H signals in the molecule and can serve as useful probes of protein foldedness, flexibility and ligand binding.\n",
        "\n",
        "- Chemical shift statistics in general are used to facilitate assignments and to determine whether the local environment is unusual.\n",
        "\n",
        "- Chemical shift data has been tabulated by the NMR community at the BMRB (BioMagResBank, Biological Magnetic Resonance Data Bank; http://www.bmrb.wisc.edu/). Because chemical shift depends on structure, and structure depends on energy (thermodynamics), one might expect the chemical shifts for a particular atom type to exhibit a Normal (Gaussian) distribution around some mean value. We will test that assumption in this Jupyter notebook.\n",
        "\n",
        "- BMRB data TrpHE1 The protein dataset at the BMRB consists of a series of 'csv' (comma-separated-value) plain text files. For the Trp indole 1H the file can be found at this URL: http://www.bmrb.wisc.edu/ftp/pub/bmrb/statistics/chem_shifts/full/devise/TRP_HE1_sel.txt.\n",
        "\n",
        "- The first number is the BMRB entry ID; the next to last number is the chemical shift of the Hϵ1 nucleus.\n",
        "\n",
        "- We will proceed by:\n",
        "  -       Importing the required tools/packages\n",
        "  -     Dowloading the data from the web in to a Python data frame using Pandas\n",
        "  -      Performing statistical analysis to determine Mean and STDEV\n",
        "\n",
        "We will load and plot a histogram of the chemical shift data from the BMRB: https://bmrb.io/ftp/pub/bmrb/statistics/chem_shifts/selected/aasel/TRP_HE1_sel.txt\n"
      ]
    },
    {
      "cell_type": "code",
      "metadata": {
        "id": "4T3mXw9EZreb"
      },
      "source": [
        "# import required libraries\n",
        "import pandas as pd   # helps organize the data into a dataframe\n",
        "import matplotlib.pyplot as plt\n",
        "from scipy import stats"
      ],
      "execution_count": 35,
      "outputs": []
    },
    {
      "cell_type": "code",
      "metadata": {
        "colab": {
          "base_uri": "https://localhost:8080/",
          "height": 424
        },
        "id": "4Te959wzZyfv",
        "outputId": "ed54a474-2de2-400f-ce0e-1222dcc15459"
      },
      "source": [
        "# load data into a dataframe:\n",
        "data_url='https://bmrb.io/ftp/pub/bmrb/statistics/chem_shifts/selected/aasel/TRP_HE1_sel.txt'\n",
        "df = pd.read_csv(data_url,    # pandas can read the csv file from the url\n",
        "    names=(\"id\",\"mol\",\"282\",\"resi\",\"resn\",\"name\",\"element\",\"shift\",\"n\")\n",
        "    )  # ^^ this adds column names for convenience\n",
        "df"
      ],
      "execution_count": 42,
      "outputs": [
        {
          "output_type": "execute_result",
          "data": {
            "text/html": [
              "<div>\n",
              "<style scoped>\n",
              "    .dataframe tbody tr th:only-of-type {\n",
              "        vertical-align: middle;\n",
              "    }\n",
              "\n",
              "    .dataframe tbody tr th {\n",
              "        vertical-align: top;\n",
              "    }\n",
              "\n",
              "    .dataframe thead th {\n",
              "        text-align: right;\n",
              "    }\n",
              "</style>\n",
              "<table border=\"1\" class=\"dataframe\">\n",
              "  <thead>\n",
              "    <tr style=\"text-align: right;\">\n",
              "      <th></th>\n",
              "      <th>id</th>\n",
              "      <th>mol</th>\n",
              "      <th>282</th>\n",
              "      <th>resi</th>\n",
              "      <th>resn</th>\n",
              "      <th>name</th>\n",
              "      <th>element</th>\n",
              "      <th>shift</th>\n",
              "      <th>n</th>\n",
              "    </tr>\n",
              "  </thead>\n",
              "  <tbody>\n",
              "    <tr>\n",
              "      <th>0</th>\n",
              "      <td>36103</td>\n",
              "      <td>protein</td>\n",
              "      <td>282</td>\n",
              "      <td>32</td>\n",
              "      <td>TRP</td>\n",
              "      <td>HE1</td>\n",
              "      <td>H</td>\n",
              "      <td>4.6900</td>\n",
              "      <td>1</td>\n",
              "    </tr>\n",
              "    <tr>\n",
              "      <th>1</th>\n",
              "      <td>16933</td>\n",
              "      <td>protein</td>\n",
              "      <td>282</td>\n",
              "      <td>59</td>\n",
              "      <td>TRP</td>\n",
              "      <td>HE1</td>\n",
              "      <td>H</td>\n",
              "      <td>5.1154</td>\n",
              "      <td>1</td>\n",
              "    </tr>\n",
              "    <tr>\n",
              "      <th>2</th>\n",
              "      <td>11061</td>\n",
              "      <td>protein</td>\n",
              "      <td>282</td>\n",
              "      <td>83</td>\n",
              "      <td>TRP</td>\n",
              "      <td>HE1</td>\n",
              "      <td>H</td>\n",
              "      <td>5.1210</td>\n",
              "      <td>1</td>\n",
              "    </tr>\n",
              "    <tr>\n",
              "      <th>3</th>\n",
              "      <td>6334</td>\n",
              "      <td>protein</td>\n",
              "      <td>282</td>\n",
              "      <td>86</td>\n",
              "      <td>TRP</td>\n",
              "      <td>HE1</td>\n",
              "      <td>H</td>\n",
              "      <td>5.1600</td>\n",
              "      <td>1</td>\n",
              "    </tr>\n",
              "    <tr>\n",
              "      <th>4</th>\n",
              "      <td>28038</td>\n",
              "      <td>protein</td>\n",
              "      <td>282</td>\n",
              "      <td>63</td>\n",
              "      <td>TRP</td>\n",
              "      <td>HE1</td>\n",
              "      <td>H</td>\n",
              "      <td>5.2420</td>\n",
              "      <td>1</td>\n",
              "    </tr>\n",
              "    <tr>\n",
              "      <th>...</th>\n",
              "      <td>...</td>\n",
              "      <td>...</td>\n",
              "      <td>...</td>\n",
              "      <td>...</td>\n",
              "      <td>...</td>\n",
              "      <td>...</td>\n",
              "      <td>...</td>\n",
              "      <td>...</td>\n",
              "      <td>...</td>\n",
              "    </tr>\n",
              "    <tr>\n",
              "      <th>6229</th>\n",
              "      <td>11549</td>\n",
              "      <td>protein</td>\n",
              "      <td>282</td>\n",
              "      <td>41</td>\n",
              "      <td>TRP</td>\n",
              "      <td>HE1</td>\n",
              "      <td>H</td>\n",
              "      <td>12.1870</td>\n",
              "      <td>1</td>\n",
              "    </tr>\n",
              "    <tr>\n",
              "      <th>6230</th>\n",
              "      <td>34260</td>\n",
              "      <td>protein</td>\n",
              "      <td>282</td>\n",
              "      <td>131</td>\n",
              "      <td>TRP</td>\n",
              "      <td>HE1</td>\n",
              "      <td>H</td>\n",
              "      <td>12.2670</td>\n",
              "      <td>.</td>\n",
              "    </tr>\n",
              "    <tr>\n",
              "      <th>6231</th>\n",
              "      <td>6287</td>\n",
              "      <td>protein</td>\n",
              "      <td>282</td>\n",
              "      <td>34</td>\n",
              "      <td>TRP</td>\n",
              "      <td>HE1</td>\n",
              "      <td>H</td>\n",
              "      <td>12.4640</td>\n",
              "      <td>1</td>\n",
              "    </tr>\n",
              "    <tr>\n",
              "      <th>6232</th>\n",
              "      <td>11404</td>\n",
              "      <td>protein</td>\n",
              "      <td>282</td>\n",
              "      <td>46</td>\n",
              "      <td>TRP</td>\n",
              "      <td>HE1</td>\n",
              "      <td>H</td>\n",
              "      <td>13.4440</td>\n",
              "      <td>1</td>\n",
              "    </tr>\n",
              "    <tr>\n",
              "      <th>6233</th>\n",
              "      <td>11225</td>\n",
              "      <td>protein</td>\n",
              "      <td>282</td>\n",
              "      <td>45</td>\n",
              "      <td>TRP</td>\n",
              "      <td>HE1</td>\n",
              "      <td>H</td>\n",
              "      <td>13.4900</td>\n",
              "      <td>1</td>\n",
              "    </tr>\n",
              "  </tbody>\n",
              "</table>\n",
              "<p>6234 rows × 9 columns</p>\n",
              "</div>"
            ],
            "text/plain": [
              "         id      mol  282  resi resn name element    shift  n\n",
              "0     36103  protein  282    32  TRP  HE1       H   4.6900  1\n",
              "1     16933  protein  282    59  TRP  HE1       H   5.1154  1\n",
              "2     11061  protein  282    83  TRP  HE1       H   5.1210  1\n",
              "3      6334  protein  282    86  TRP  HE1       H   5.1600  1\n",
              "4     28038  protein  282    63  TRP  HE1       H   5.2420  1\n",
              "...     ...      ...  ...   ...  ...  ...     ...      ... ..\n",
              "6229  11549  protein  282    41  TRP  HE1       H  12.1870  1\n",
              "6230  34260  protein  282   131  TRP  HE1       H  12.2670  .\n",
              "6231   6287  protein  282    34  TRP  HE1       H  12.4640  1\n",
              "6232  11404  protein  282    46  TRP  HE1       H  13.4440  1\n",
              "6233  11225  protein  282    45  TRP  HE1       H  13.4900  1\n",
              "\n",
              "[6234 rows x 9 columns]"
            ]
          },
          "metadata": {
            "tags": []
          },
          "execution_count": 42
        }
      ]
    },
    {
      "cell_type": "code",
      "metadata": {
        "colab": {
          "base_uri": "https://localhost:8080/",
          "height": 300
        },
        "id": "EXIKW3picv85",
        "outputId": "6d3448f2-1053-4937-d3b1-bac33756f7c2"
      },
      "source": [
        "df.describe()   # pandas has built in stats tools"
      ],
      "execution_count": 43,
      "outputs": [
        {
          "output_type": "execute_result",
          "data": {
            "text/html": [
              "<div>\n",
              "<style scoped>\n",
              "    .dataframe tbody tr th:only-of-type {\n",
              "        vertical-align: middle;\n",
              "    }\n",
              "\n",
              "    .dataframe tbody tr th {\n",
              "        vertical-align: top;\n",
              "    }\n",
              "\n",
              "    .dataframe thead th {\n",
              "        text-align: right;\n",
              "    }\n",
              "</style>\n",
              "<table border=\"1\" class=\"dataframe\">\n",
              "  <thead>\n",
              "    <tr style=\"text-align: right;\">\n",
              "      <th></th>\n",
              "      <th>id</th>\n",
              "      <th>282</th>\n",
              "      <th>resi</th>\n",
              "      <th>shift</th>\n",
              "    </tr>\n",
              "  </thead>\n",
              "  <tbody>\n",
              "    <tr>\n",
              "      <th>count</th>\n",
              "      <td>6234.000000</td>\n",
              "      <td>6234.0</td>\n",
              "      <td>6234.000000</td>\n",
              "      <td>6234.000000</td>\n",
              "    </tr>\n",
              "    <tr>\n",
              "      <th>mean</th>\n",
              "      <td>15838.672762</td>\n",
              "      <td>282.0</td>\n",
              "      <td>58.578922</td>\n",
              "      <td>10.077587</td>\n",
              "    </tr>\n",
              "    <tr>\n",
              "      <th>std</th>\n",
              "      <td>8979.941692</td>\n",
              "      <td>0.0</td>\n",
              "      <td>47.044619</td>\n",
              "      <td>0.640402</td>\n",
              "    </tr>\n",
              "    <tr>\n",
              "      <th>min</th>\n",
              "      <td>5.000000</td>\n",
              "      <td>282.0</td>\n",
              "      <td>1.000000</td>\n",
              "      <td>4.690000</td>\n",
              "    </tr>\n",
              "    <tr>\n",
              "      <th>25%</th>\n",
              "      <td>6950.750000</td>\n",
              "      <td>282.0</td>\n",
              "      <td>24.250000</td>\n",
              "      <td>9.911250</td>\n",
              "    </tr>\n",
              "    <tr>\n",
              "      <th>50%</th>\n",
              "      <td>16505.000000</td>\n",
              "      <td>282.0</td>\n",
              "      <td>46.000000</td>\n",
              "      <td>10.130000</td>\n",
              "    </tr>\n",
              "    <tr>\n",
              "      <th>75%</th>\n",
              "      <td>19522.000000</td>\n",
              "      <td>282.0</td>\n",
              "      <td>82.000000</td>\n",
              "      <td>10.348000</td>\n",
              "    </tr>\n",
              "    <tr>\n",
              "      <th>max</th>\n",
              "      <td>50409.000000</td>\n",
              "      <td>282.0</td>\n",
              "      <td>392.000000</td>\n",
              "      <td>13.490000</td>\n",
              "    </tr>\n",
              "  </tbody>\n",
              "</table>\n",
              "</div>"
            ],
            "text/plain": [
              "                 id     282         resi        shift\n",
              "count   6234.000000  6234.0  6234.000000  6234.000000\n",
              "mean   15838.672762   282.0    58.578922    10.077587\n",
              "std     8979.941692     0.0    47.044619     0.640402\n",
              "min        5.000000   282.0     1.000000     4.690000\n",
              "25%     6950.750000   282.0    24.250000     9.911250\n",
              "50%    16505.000000   282.0    46.000000    10.130000\n",
              "75%    19522.000000   282.0    82.000000    10.348000\n",
              "max    50409.000000   282.0   392.000000    13.490000"
            ]
          },
          "metadata": {
            "tags": []
          },
          "execution_count": 43
        }
      ]
    },
    {
      "cell_type": "code",
      "metadata": {
        "colab": {
          "base_uri": "https://localhost:8080/",
          "height": 316
        },
        "id": "Jo8LzL-2c2U5",
        "outputId": "a581a8ae-df8e-4265-caee-4429fb4f6066"
      },
      "source": [
        "df.hist('shift', bins=100)  # ... and pandas can do histograms!"
      ],
      "execution_count": 101,
      "outputs": [
        {
          "output_type": "execute_result",
          "data": {
            "text/plain": [
              "array([[<matplotlib.axes._subplots.AxesSubplot object at 0x7fed169179d0>]],\n",
              "      dtype=object)"
            ]
          },
          "metadata": {
            "tags": []
          },
          "execution_count": 101
        },
        {
          "output_type": "display_data",
          "data": {
            "image/png": "[encoded data removed]",
            "text/plain": [
              "<Figure size 432x288 with 1 Axes>"
            ]
          },
          "metadata": {
            "tags": [],
            "needs_background": "light"
          }
        }
      ]
    },
    {
      "cell_type": "markdown",
      "metadata": {
        "id": "ocmBvKYAx9db"
      },
      "source": [
        "We can also fit the distribution to a Gaussian (Normal) shape to obtain the mean and stdev:"
      ]
    },
    {
      "cell_type": "code",
      "metadata": {
        "colab": {
          "base_uri": "https://localhost:8080/"
        },
        "id": "szPgnFH3ijhx",
        "outputId": "5e5864e5-8077-4a37-9c86-649d1d449d89"
      },
      "source": [
        "(mu, sigma) = stats.norm.fit(df['shift'])   # compute mean and stdev\n",
        "print(\"Chemical Shift Mean: {0:.2f} ± {1:.2f} ppm\".format(mu, sigma))"
      ],
      "execution_count": 125,
      "outputs": [
        {
          "output_type": "stream",
          "text": [
            "Chemical Shift Mean: 10.08 ± 0.64 ppm\n"
          ],
          "name": "stdout"
        }
      ]
    },
    {
      "cell_type": "markdown",
      "metadata": {
        "id": "cy785Sa8yHlI"
      },
      "source": [
        "OK, so the fit and arithmetic parameters match. But, are the data actually well described by a Gaussian? We'll plot them together to check."
      ]
    },
    {
      "cell_type": "code",
      "metadata": {
        "colab": {
          "base_uri": "https://localhost:8080/",
          "height": 295
        },
        "id": "JB4GSsURvH5Y",
        "outputId": "a0884ab3-2f22-413a-e4fd-a0f5e8daa459"
      },
      "source": [
        "# Compare the data and Normal distribution:\n",
        "data = df['shift']\n",
        "plt.hist(data, density=True, bins=100, alpha=0.5, label='Trp Hε1')\n",
        "\n",
        "(mu, sigma) = stats.norm.fit(data) # \n",
        "x_start=stats.norm.ppf(0.01, loc=mu, scale=sigma)\n",
        "x_end = stats.norm.ppf(0.99, loc=mu, scale=sigma)\n",
        "x = np.linspace(x_start, x_end, 100)\n",
        "plt.plot(x, stats.norm.pdf(x,mu,sigma), label='Gaussian', lw=2)\n",
        "plt.xlim(x_start,x_end)\n",
        "plt.title('Shift: %.2f ± %.2f' % (mu,sigma))\n",
        "plt.xlabel('Shift /ppm'); plt.ylabel('Probability Density'); plt.legend()\n",
        "plt.show()"
      ],
      "execution_count": 134,
      "outputs": [
        {
          "output_type": "display_data",
          "data": {
            "image/png": "[encoded data removed]",
            "text/plain": [
              "<Figure size 432x288 with 1 Axes>"
            ]
          },
          "metadata": {
            "tags": [],
            "needs_background": "light"
          }
        }
      ]
    },
    {
      "cell_type": "markdown",
      "metadata": {
        "id": "m-PEEQBnvysX"
      },
      "source": [
        "This shows that the chemical shift data are not well described by a _normal_ or _Gaussian_ distribution."
      ]
    },
    {
      "cell_type": "markdown",
      "metadata": {
        "id": "Fu8ecc9Dv9yr"
      },
      "source": [
        "Another common distribution in spectroscopy is a _Lorentzian_, or _Cauchy_ distribution; let's try that!"
      ]
    },
    {
      "cell_type": "code",
      "metadata": {
        "colab": {
          "base_uri": "https://localhost:8080/"
        },
        "id": "kOwjQVxDu9V6",
        "outputId": "6346a63c-4bbf-47d9-efc0-b4e1b3753c01"
      },
      "source": [
        "(mu, sigma) = stats.cauchy.fit(df['shift'])   # compute mean and stdev\n",
        "print(\"Chemical Shift Mean: {0:.2f} ± {1:.2f} ppm\".format(mu, sigma))"
      ],
      "execution_count": 118,
      "outputs": [
        {
          "output_type": "stream",
          "text": [
            "Chemical Shift Mean: 10.14 ± 0.20 ppm\n"
          ],
          "name": "stdout"
        }
      ]
    },
    {
      "cell_type": "code",
      "metadata": {
        "colab": {
          "base_uri": "https://localhost:8080/",
          "height": 279
        },
        "id": "QAQvBL2Tk6EM",
        "outputId": "5e76994b-7e11-4d5e-fcea-fdac2ca809f3"
      },
      "source": [
        "data = df['shift']\n",
        "plt.hist(data, density=True, bins=100, alpha=0.5, label='Trp Hε1')\n",
        "\n",
        "(mu, sigma) = stats.norm.fit(data) # \n",
        "x_start=stats.norm.ppf(0.01, loc=mu, scale=sigma)\n",
        "x_end = stats.norm.ppf(0.99, loc=mu, scale=sigma)\n",
        "x = np.linspace(x_start, x_end, 100)\n",
        "plt.plot(x,stats.norm.pdf(x,mu,sigma), label='Gaussian', lw=2)\n",
        "\n",
        "loc1, scale1 = stats.cauchy.fit(data)\n",
        "plt.plot(x,stats.cauchy.pdf(x,loc1,scale1), label='Lorentz', lw=2)\n",
        "\n",
        "plt.xlim(x_start,x_end)\n",
        "plt.xlabel('Shift /ppm'); plt.ylabel('Probability Density'); plt.legend()\n",
        "plt.show()"
      ],
      "execution_count": 133,
      "outputs": [
        {
          "output_type": "display_data",
          "data": {
            "image/png": "[encoded data removed]",
            "text/plain": [
              "<Figure size 432x288 with 1 Axes>"
            ]
          },
          "metadata": {
            "tags": [],
            "needs_background": "light"
          }
        }
      ]
    },
    {
      "cell_type": "markdown",
      "metadata": {
        "id": "c8qoHttpwbOs"
      },
      "source": [
        "We see that the chemical shift distribution is better described by a Lorenztian line than a Gaussian one. That tells us something about the underlying physical chemistry that gives rise to the observed chemical shifts."
      ]
    },
    {
      "cell_type": "markdown",
      "metadata": {
        "id": "sYRj57oh0Ss9"
      },
      "source": [
        "## Summary:\n",
        "- Properties of ensembles result from averaging the properties of individual molecules and their measurements. \n",
        "- Adequate sampling is necessary to accurately define the shape of the distribution, and to understand the underlying physical properties.\n",
        "- Distributions are often assumed to be Normal/Gaussian; this assumption should be tested to gain mechanistic insight.\n"
      ]
    }
  ]
}