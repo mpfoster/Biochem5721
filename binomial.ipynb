{
  "nbformat": 4,
  "nbformat_minor": 0,
  "metadata": {
    "colab": {
      "name": "binomial.ipynb",
      "provenance": [],
      "collapsed_sections": [],
      "authorship_tag": "ABX9TyPAf5EkOsO5DJmjQ7Mf7pzK",
      "include_colab_link": true
    },
    "kernelspec": {
      "name": "python3",
      "display_name": "Python 3"
    },
    "language_info": {
      "name": "python"
    }
  },
  "cells": [
    {
      "cell_type": "markdown",
      "metadata": {
        "id": "view-in-github",
        "colab_type": "text"
      },
      "source": [
        "<a href=\"https://colab.research.google.com/github/mpfoster/Biochem5721/blob/master/binomial.ipynb\" target=\"_parent\"><img src=\"https://colab.research.google.com/assets/colab-badge.svg\" alt=\"Open In Colab\"/></a>"
      ]
    },
    {
      "cell_type": "markdown",
      "metadata": {
        "id": "cagRXibH91jq"
      },
      "source": [
        "# Binomial probabilities\n",
        "\n",
        "## Biochem 5721\n",
        "\n",
        "This code helps to compute the probabilities of aggregate outcomes using a binomial expansion of $(p+q)^N$, where $p$ and $q$ are probabilities of each of two possible binary outcomes ($q = 1-p$; e.g., heads/tails, left/right, empty/occupied), and $N$ is the number of trials. This is expanded in the binomial theorem such that for each $N-m$ number of outcomes in one direction, its probability is:\n",
        "\n",
        "$$p_m = \\frac{N!}{m!(M-n)!}q^{N-m}p^m$$\n",
        "\n",
        "In the script below, we can enter integer values of $M$ (the number of trials) and a decimal value between 0 and 1 for the probablity $p$ of one of the outcomes (the other will be $1-p$)."
      ]
    },
    {
      "cell_type": "code",
      "metadata": {
        "colab": {
          "base_uri": "https://localhost:8080/",
          "height": 313
        },
        "id": "7eIASuh25Us5",
        "outputId": "fa8561ff-be23-4561-f48c-2030be4f4169"
      },
      "source": [
        "# We consider a distribution with arbitrary site occupancy probability\n",
        "# P(M,N) = W(M,N)* p^N * (1-p)^(M-N)\n",
        "# Change below the parameters (p,M,N) to compute the distributions.\n",
        "M = 4  # number of steps/trials\n",
        "p = .5  # probability of one outcome\n",
        "# N: the script will calculate probabilities for N = 0 to M\n",
        "\n",
        "# Should not need to make changes below #\n",
        "import numpy as np # for creating an array\n",
        "import math # for the factorial function\n",
        "import matplotlib.pyplot as plt # for plotting the probabilities\n",
        "\n",
        "lcoef=np.arange(0,M+1) # list of coefficients M+1 (from 0 to M)\n",
        "\n",
        "def multiplicity(M,N): # M trials, with N of one kind\n",
        "    return math.factorial(M)/(math.factorial(N)*math.factorial(M-N))\n",
        "def p_N(p,M,N): # product of probabilities\n",
        "    return p**N*(1-p)**(M-N)\n",
        "\n",
        "P = np.zeros(len(lcoef)) # initialize array of length lcoef\n",
        "\n",
        "# compute the probabilities\n",
        "for N in lcoef: \n",
        "    W = multiplicity(M,N)\n",
        "    pN = p_N(p,M,N)\n",
        "    P[N] = W*pN\n",
        "\n",
        "print(\"Probabilities:\", P)\n",
        "plt.bar(lcoef,P)\n",
        "plt.xlabel('Occupancy')\n",
        "plt.ylabel('Probability')\n",
        "plt.title('Probability distribution for %d trials with p = %.g' %(M,p))\n",
        "plt.show()"
      ],
      "execution_count": 22,
      "outputs": [
        {
          "output_type": "stream",
          "name": "stdout",
          "text": [
            "Probabilities: [0.0625 0.25   0.375  0.25   0.0625]\n"
          ]
        },
        {
          "output_type": "display_data",
          "data": {
            "image/png": "[encoded data removed]",
            "text/plain": [
              "<Figure size 432x288 with 1 Axes>"
            ]
          },
          "metadata": {
            "needs_background": "light"
          }
        }
      ]
    }
  ]
}