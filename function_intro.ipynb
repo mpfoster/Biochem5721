{
  "metadata": {
    "language_info": {
      "codemirror_mode": {
        "name": "python",
        "version": 3
      },
      "file_extension": ".py",
      "mimetype": "text/x-python",
      "name": "python",
      "nbconvert_exporter": "python",
      "pygments_lexer": "ipython3",
      "version": "3.8"
    },
    "kernelspec": {
      "name": "python",
      "display_name": "Python (Pyodide)",
      "language": "python"
    },
    "colab": {
      "provenance": [],
      "include_colab_link": true
    }
  },
  "nbformat_minor": 0,
  "nbformat": 4,
  "cells": [
    {
      "cell_type": "markdown",
      "metadata": {
        "id": "view-in-github",
        "colab_type": "text"
      },
      "source": [
        "<a href=\"https://colab.research.google.com/github/mpfoster/Biochem5721/blob/master/function_intro.ipynb\" target=\"_parent\"><img src=\"https://colab.research.google.com/assets/colab-badge.svg\" alt=\"Open In Colab\"/></a>"
      ]
    },
    {
      "cell_type": "markdown",
      "source": [
        "# Introduction to functions in Python\n",
        "Biochem 5721, AU2023, MPF\n",
        "\n",
        "First, we load our commonly used numerical and plotting libraries"
      ],
      "metadata": {
        "id": "121hKZCChuRT"
      }
    },
    {
      "cell_type": "code",
      "source": [
        "import numpy as np\n",
        "import matplotlib.pyplot as plt"
      ],
      "metadata": {
        "trusted": true,
        "id": "BYl1MuqmhuRW"
      },
      "execution_count": null,
      "outputs": []
    },
    {
      "cell_type": "markdown",
      "source": [
        "Now, let's define a simple function, like that of Hooke's law, $y=k(x-x0)^2$"
      ],
      "metadata": {
        "id": "PH03MMIhhuRY"
      }
    },
    {
      "cell_type": "code",
      "source": [
        "def myfunc(x,x0,k):\n",
        "    return k*(x-x0)**2 # a**b raises a to the power of b"
      ],
      "metadata": {
        "trusted": true,
        "id": "nI0cBiX8huRY"
      },
      "execution_count": null,
      "outputs": []
    },
    {
      "cell_type": "markdown",
      "source": [
        "Here we `def` (define) a function called `myfunc` with inputs `x` and parameters `x0` and `k`. The `:` is required.\n",
        "\n",
        "The function *returns* the result of the mathematical operation.\n",
        "\n",
        "We can use the function for a single _x_ value:"
      ],
      "metadata": {
        "id": "8sMYhjuEhuRZ"
      }
    },
    {
      "cell_type": "code",
      "source": [
        "myfunc(5,2,1) # this calls the function, reporting result."
      ],
      "metadata": {
        "trusted": true,
        "id": "8-2BRcZHhuRa"
      },
      "execution_count": null,
      "outputs": []
    },
    {
      "cell_type": "markdown",
      "source": [
        "Now, suppose we wanted to apply our function to an _array_ of _x_ values. We use `numpy` to define our array:"
      ],
      "metadata": {
        "id": "KLPNND4QhuRb"
      }
    },
    {
      "cell_type": "code",
      "source": [
        "xval = np.array([5,6,7])\n",
        "k = 1; x0=2 # we can assign our parameters to a variable\n",
        "myfunc(xval,x0,k)"
      ],
      "metadata": {
        "trusted": true,
        "id": "JGEaXdR2huRc"
      },
      "execution_count": null,
      "outputs": []
    },
    {
      "cell_type": "markdown",
      "source": [
        "Often, it's convenient to create an array from a range of values. The numpy `linspace` command generates a series of values linearly spaced between the `start` and `end`, inclusive."
      ],
      "metadata": {
        "id": "I7QQ92MjhuRe"
      }
    },
    {
      "cell_type": "code",
      "source": [
        "xval = np.linspace(0,7,8) # parameters: start, stop, number of values\n",
        "k = 1; x0 = 2\n",
        "myfunc(xval,x0,k)"
      ],
      "metadata": {
        "trusted": true,
        "id": "9JMNBEu1huRf"
      },
      "execution_count": null,
      "outputs": []
    },
    {
      "cell_type": "markdown",
      "source": [
        "We can store the results of the function call in a new variable; e.g.,"
      ],
      "metadata": {
        "id": "-JrJXCqPhuRg"
      }
    },
    {
      "cell_type": "code",
      "source": [
        "yval = myfunc(xval,x0,k)"
      ],
      "metadata": {
        "trusted": true,
        "id": "Xy0PEzHJhuRh"
      },
      "execution_count": null,
      "outputs": []
    },
    {
      "cell_type": "markdown",
      "source": [
        "and then plot the xval against the yval..."
      ],
      "metadata": {
        "id": "EqhxjgpHhuRh"
      }
    },
    {
      "cell_type": "code",
      "source": [
        "fig,ax = plt.subplots()\n",
        "ax.plot(xval, yval, 'o-')"
      ],
      "metadata": {
        "trusted": true,
        "id": "hgrOUf8-huRj"
      },
      "execution_count": null,
      "outputs": []
    },
    {
      "cell_type": "markdown",
      "source": [
        "We can decorate the plot by adding axis labels:"
      ],
      "metadata": {
        "id": "sGm5c6cqmdR3"
      }
    },
    {
      "cell_type": "code",
      "source": [
        "fig,ax = plt.subplots()\n",
        "ax.plot(xval, yval, 'o-')\n",
        "ax.set_xlabel('Displacement')\n",
        "ax.set_ylabel('Hooke Energy')\n",
        "ax.set_title('My Plot')\n",
        "ax.grid()\n",
        "fig.show()"
      ],
      "metadata": {
        "id": "wJG6R1WOmkZD"
      },
      "execution_count": null,
      "outputs": []
    }
  ]
}