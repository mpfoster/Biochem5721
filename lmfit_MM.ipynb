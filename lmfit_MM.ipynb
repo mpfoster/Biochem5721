{
  "nbformat": 4,
  "nbformat_minor": 0,
  "metadata": {
    "colab": {
      "name": "lmfit-MM.ipynb",
      "provenance": [],
      "authorship_tag": "ABX9TyOVtqZ7nk5Y73y9neyMbph8",
      "include_colab_link": true
    },
    "kernelspec": {
      "name": "python3",
      "display_name": "Python 3"
    }
  },
  "cells": [
    {
      "cell_type": "markdown",
      "metadata": {
        "id": "view-in-github",
        "colab_type": "text"
      },
      "source": [
        "<a href=\"https://colab.research.google.com/github/mpfoster/Biochem5721/blob/master/lmfit_MM.ipynb\" target=\"_parent\"><img src=\"https://colab.research.google.com/assets/colab-badge.svg\" alt=\"Open In Colab\"/></a>"
      ]
    },
    {
      "cell_type": "markdown",
      "metadata": {
        "id": "s_KHp4wM6ija"
      },
      "source": [
        "# Jupyter notebook for fitting data to the Michaelis-Menten equation\n",
        "\n",
        "MPF 2020-11-24"
      ]
    },
    {
      "cell_type": "code",
      "metadata": {
        "colab": {
          "base_uri": "https://localhost:8080/"
        },
        "id": "YLMy_E1o5r42",
        "outputId": "c839e489-a42f-41bb-ccf0-da4ab881459b"
      },
      "source": [
        "# install lmfit; for docs see: https://lmfit.github.io/lmfit-py/\n",
        "!pip install lmfit"
      ],
      "execution_count": 24,
      "outputs": [
        {
          "output_type": "stream",
          "text": [
            "Requirement already satisfied: lmfit in /usr/local/lib/python3.6/dist-packages (1.0.1)\n",
            "Requirement already satisfied: numpy>=1.16 in /usr/local/lib/python3.6/dist-packages (from lmfit) (1.18.5)\n",
            "Requirement already satisfied: asteval>=0.9.16 in /usr/local/lib/python3.6/dist-packages (from lmfit) (0.9.21)\n",
            "Requirement already satisfied: scipy>=1.2 in /usr/local/lib/python3.6/dist-packages (from lmfit) (1.4.1)\n",
            "Requirement already satisfied: uncertainties>=3.0.1 in /usr/local/lib/python3.6/dist-packages (from lmfit) (3.1.5)\n",
            "Requirement already satisfied: future in /usr/local/lib/python3.6/dist-packages (from uncertainties>=3.0.1->lmfit) (0.16.0)\n"
          ],
          "name": "stdout"
        }
      ]
    },
    {
      "cell_type": "code",
      "metadata": {
        "id": "sG5GNBiw53NS"
      },
      "source": [
        "# import the required libraries\n",
        "from lmfit import Model # requires lmfit be installed already\n",
        "import numpy as np # https://numpy.org/\n",
        "import matplotlib.pyplot as plt \n",
        "# for matplotlib tutorial see: https://matplotlib.org/tutorials/index.html"
      ],
      "execution_count": 2,
      "outputs": []
    },
    {
      "cell_type": "code",
      "metadata": {
        "id": "zPy3dmX05uz5"
      },
      "source": [
        "# define x and y data arrays\n",
        "# replace these numbers with your data\n",
        "# (must have same number of x and y values)\n",
        "x = np.array([0,1,2,3,4,5,6,7])\n",
        "y = np.array([0. , 0.5, 0.67, 0.75, 0.8,0.83, 0.86, 0.875])"
      ],
      "execution_count": 25,
      "outputs": []
    },
    {
      "cell_type": "code",
      "metadata": {
        "colab": {
          "base_uri": "https://localhost:8080/",
          "height": 285
        },
        "id": "UuB3_9hC7cI9",
        "outputId": "3b52f5b3-184e-478c-dac6-14b08be0b31a"
      },
      "source": [
        "# plot the data\n",
        "plt.plot(x,y,'o'); plt.grid();plt.show()"
      ],
      "execution_count": 19,
      "outputs": [
        {
          "output_type": "display_data",
          "data": {
            "image/png": "[encoded data removed]",
            "text/plain": [
              "<Figure size 432x288 with 1 Axes>"
            ]
          },
          "metadata": {
            "tags": [],
            "needs_background": "light"
          }
        }
      ]
    },
    {
      "cell_type": "code",
      "metadata": {
        "id": "h1e33Q_C6QNY"
      },
      "source": [
        "# define the Michaelis-Menten function:\n",
        "def MM(x,Vmax, Km):\n",
        "  return x*Vmax/(x+Km)"
      ],
      "execution_count": 20,
      "outputs": []
    },
    {
      "cell_type": "code",
      "metadata": {
        "id": "hgoPZTUA5oaM"
      },
      "source": [
        "# perform the fit using lmfit; specify \"good\" starting guesses if the fit fails\n",
        "Vmax_guess = 1; Km_guess = 1\n",
        "mod = Model(MM)\n",
        "result = mod.fit(y, x=x, Vmax=Vmax_guess, Km=Km_guess)"
      ],
      "execution_count": 27,
      "outputs": []
    },
    {
      "cell_type": "code",
      "metadata": {
        "colab": {
          "base_uri": "https://localhost:8080/",
          "height": 424
        },
        "id": "o5viyAaq6yrw",
        "outputId": "87238168-f5d7-41d4-ec33-4265780fba01"
      },
      "source": [
        "# plot the result\n",
        "result.plot(numpoints=100); plt.show()"
      ],
      "execution_count": 22,
      "outputs": [
        {
          "output_type": "display_data",
          "data": {
            "image/png": "[encoded data removed]",
            "text/plain": [
              "<Figure size 432x432 with 2 Axes>"
            ]
          },
          "metadata": {
            "tags": [],
            "needs_background": "light"
          }
        }
      ]
    },
    {
      "cell_type": "code",
      "metadata": {
        "colab": {
          "base_uri": "https://localhost:8080/"
        },
        "id": "hap9DAMo63-O",
        "outputId": "90b679cc-9d3a-4ade-f2b6-9fb58df4f22d"
      },
      "source": [
        "# report the parameters\n",
        "print(result.fit_report())"
      ],
      "execution_count": 28,
      "outputs": [
        {
          "output_type": "stream",
          "text": [
            "[[Model]]\n",
            "    Model(MM)\n",
            "[[Fit Statistics]]\n",
            "    # fitting method   = leastsq\n",
            "    # function evals   = 10\n",
            "    # data points      = 8\n",
            "    # variables        = 2\n",
            "    chi-square         = 2.8144e-05\n",
            "    reduced chi-square = 4.6907e-06\n",
            "    Akaike info crit   = -96.4608624\n",
            "    Bayesian info crit = -96.3019793\n",
            "[[Variables]]\n",
            "    Vmax:  0.99922316 +/- 0.00253189 (0.25%) (init = 1)\n",
            "    Km:    0.99409406 +/- 0.01092843 (1.10%) (init = 1)\n",
            "[[Correlations]] (unreported correlations are < 0.100)\n",
            "    C(Vmax, Km) =  0.906\n"
          ],
          "name": "stdout"
        }
      ]
    }
  ]
}